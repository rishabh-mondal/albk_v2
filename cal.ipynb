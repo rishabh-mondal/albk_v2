{
 "cells": [
  {
   "cell_type": "markdown",
   "metadata": {},
   "source": [
    "| Paper ID                                                                                                                   | Dataset Size      | Labelling Process  | Verification of Data                                  |\n",
    "|----------------------------------------------------------------------------------------------------------------------------|-------------------|--------------------|-------------------------------------------------------|\n",
    "| [Kiln-Net: A Gated Neural Network for Detection of Brick Kilns in South Asia](https://ieeexplore.ieee.org/abstract/document/9115879) | 1300 Brick Kilns   | Manually Labelled  | Manually verified any misclassification              |\n",
    "| [Brick Kiln Detection and Localization using Deep Learning Techniques](https://ieeexplore.ieee.org/document/9445267) | 200 Brick Kilns | Manually Labelled | Not mentioned |\n",
    "|  [Scalable deep learning to identify brick kilns and aidregulatory capacity](https://www.pnas.org/doi/epdf/10.1073/pnas.2018863118) | 3345 Brick Kilns | Manually Labelled | Manually varified by moderator |\n",
    "| [Aging brick kilns in the asian brick belt using a long time series of Landsat sensor data to inform the study of modern day slavery](https://ieeexplore.ieee.org/stamp/stamp.jsp?tp=&arnumber=8898981) | 831 Brick Kilns | Manually Labelled | Not mentioned |\n",
    "|[Tiny-Inception-ResNet-v2: Using Deep Learning for Eliminating Bonded Labors of Brick Kilns in South Asia](http://openaccess.thecvf.com/content_CVPRW_2019/html/cv4gc/Nazir_Tiny-Inception-ResNet-v2_Using_Deep_Learning_for_Eliminating_Bonded_Labors_of_Brick_CVPRW_2019_paper.html)| 600 Brick Kilns | Manually Labelled (Crowdsourcing) | Not mentioned |\n",
    "|[Detection of Illegal Kiln Activity During SMOG Period](https://ieeexplore.ieee.org/abstract/document/10089596)| 9348 Brick Kilns | Punjab Brick Kilns Census | Not mentioned |"
   ]
  },
  {
   "cell_type": "markdown",
   "metadata": {},
   "source": [
    "| Paper ID                                                                                                                   | Region                 | Dataset Size      | Labelling Process                          | Verification of Data                         |\n",
    "|----------------------------------------------------------------------------------------------------------------------------|------------------------|-------------------|--------------------------------------------|---------------------------------------------|\n",
    "| [Kiln-Net: A Gated Neural Network for Detection of Brick Kilns in South Asia](https://ieeexplore.ieee.org/abstract/document/9115879) | Punjab (Pakistan)             | 1300 Brick Kilns   | Manually Labelled                          | Manually verified any misclassification   |\n",
    "| [Brick Kiln Detection and Localization using Deep Learning Techniques](https://ieeexplore.ieee.org/document/9445267)           | Bangladesh          | 200 Brick Kilns    | Manually Labelled                          | Not mentioned                               |\n",
    "| [Scalable deep learning to identify brick kilns and aid regulatory capacity](https://www.pnas.org/doi/epdf/10.1073/pnas.2018863118) | Bangladesh          | 3345 Brick Kilns   | Manually Labelled                          | Manually verified by moderator             |\n",
    "| [Aging brick kilns in the asian brick belt using a long time series of Landsat sensor data to inform the study of modern day slavery](https://ieeexplore.ieee.org/stamp/stamp.jsp?tp=&arnumber=8898981) | Asian Brick Belt     | 831 Brick Kilns    | Manually Labelled                          | Not mentioned                               |\n",
    "| [Tiny-Inception-ResNet-v2: Using Deep Learning for Eliminating Bonded Labors of Brick Kilns in South Asia](http://openaccess.thecvf.com/content_CVPRW_2019/html/cv4gc/Nazir_Tiny-Inception-ResNet-v2_Using_Deep_Learning_for_Eliminating_Bonded_Labors_of_Brick_CVPRW_2019_paper.html) | Lahore (Pakistan)             | 600 Brick Kilns    | Manually Labelled (Crowdsourcing)        | Not mentioned                               |\n",
    "| [Detection of Illegal Kiln Activity During SMOG Period](https://ieeexplore.ieee.org/abstract/document/10089596)                    | Punjab, South Asia     | 9348 Brick Kilns   | Punjab Brick Kilns Census                 | Not mentioned                               |\n"
   ]
  },
  {
   "cell_type": "markdown",
   "metadata": {},
   "source": []
  },
  {
   "cell_type": "code",
   "execution_count": 1,
   "metadata": {},
   "outputs": [
    {
     "ename": "ModuleNotFoundError",
     "evalue": "No module named 'fitz'",
     "output_type": "error",
     "traceback": [
      "\u001b[0;31m---------------------------------------------------------------------------\u001b[0m",
      "\u001b[0;31mModuleNotFoundError\u001b[0m                       Traceback (most recent call last)",
      "Cell \u001b[0;32mIn[1], line 1\u001b[0m\n\u001b[0;32m----> 1\u001b[0m \u001b[38;5;28;01mimport\u001b[39;00m \u001b[38;5;21;01mfitz\u001b[39;00m\n\u001b[1;32m      3\u001b[0m \u001b[38;5;28;01mdef\u001b[39;00m \u001b[38;5;21mcrop_pdf\u001b[39m(input_path, output_path, left, top, right, bottom):\n\u001b[1;32m      4\u001b[0m     \u001b[38;5;66;03m# Open the input PDF\u001b[39;00m\n\u001b[1;32m      5\u001b[0m     pdf_document \u001b[38;5;241m=\u001b[39m fitz\u001b[38;5;241m.\u001b[39mopen(input_path)\n",
      "\u001b[0;31mModuleNotFoundError\u001b[0m: No module named 'fitz'"
     ]
    }
   ],
   "source": [
    "import fitz\n",
    "\n",
    "def crop_pdf(input_path, output_path, left, top, right, bottom):\n",
    "    # Open the input PDF\n",
    "    pdf_document = fitz.open(input_path)\n",
    "\n",
    "    for page in pdf_document:\n",
    "        # Crop the page\n",
    "        page.cropBox = (left, top, right, bottom)\n",
    "\n",
    "    # Save the modified PDF to the output file\n",
    "    pdf_document.save(output_path)\n",
    "    pdf_document.close()\n",
    "\n",
    "# Example usage:\n",
    "input_file = \"/home/rishabh.mondal/Brick-Kilns-project/albk_rishabh/uttar_pradesh_bk_hosp.pdf\"\n",
    "output_file = \"output.pdf\"\n",
    "left, top = 100, 100  # coordinates of top-left corner in points\n",
    "right, bottom = 400, 400  # coordinates of bottom-right corner in points\n",
    "crop_pdf(input_file, output_file, left, top, right, bottom)\n"
   ]
  },
  {
   "cell_type": "code",
   "execution_count": 4,
   "metadata": {},
   "outputs": [],
   "source": [
    "import img2pdf\n",
    "\n",
    "# Path to the PNG image\n",
    "img_path = \"//home/rishabh.mondal/Brick-Kilns-project/albk_rishabh/albk_v2/YOLO_LOCALIZATION/runs/detect/predict3/15_kilns.png\"\n",
    "\n",
    "# Path to save the PDF file\n",
    "pdf_path = \"/home/rishabh.mondal/Brick-Kilns-project/albk_rishabh/15_kilns_bb.pdf\"\n",
    "\n",
    "# Convert image to PDF\n",
    "with open(pdf_path, \"wb\") as f:\n",
    "    f.write(img2pdf.convert(img_path))\n"
   ]
  },
  {
   "cell_type": "code",
   "execution_count": null,
   "metadata": {},
   "outputs": [],
   "source": []
  }
 ],
 "metadata": {
  "kernelspec": {
   "display_name": "torch_space",
   "language": "python",
   "name": "python3"
  },
  "language_info": {
   "codemirror_mode": {
    "name": "ipython",
    "version": 3
   },
   "file_extension": ".py",
   "mimetype": "text/x-python",
   "name": "python",
   "nbconvert_exporter": "python",
   "pygments_lexer": "ipython3",
   "version": "3.11.5"
  }
 },
 "nbformat": 4,
 "nbformat_minor": 2
}
