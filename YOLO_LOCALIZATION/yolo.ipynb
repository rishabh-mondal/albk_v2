{
 "cells": [
  {
   "cell_type": "code",
   "execution_count": 1,
   "metadata": {},
   "outputs": [],
   "source": [
    "import os\n",
    "os.environ[\"CUDA_VISIBLE_DEVICES\"] = \"1\"\n",
    "from datasets import load_dataset\n",
    "from glob import glob\n",
    "import torch\n",
    "from torch.utils.data import DataLoader, Dataset\n",
    "import xarray as xr\n",
    "from einops import rearrange\n",
    "from tqdm.notebook import tqdm\n",
    "from joblib import Parallel, delayed\n",
    "from PIL import Image\n",
    "from time import time\n",
    "\n",
    "# punjab=load_dataset('Zeel/bk_punjab')\n"
   ]
  },
  {
   "cell_type": "code",
   "execution_count": 2,
   "metadata": {},
   "outputs": [],
   "source": [
    "from ultralytics import YOLO\n",
    "# Load a model\n",
    "model = YOLO('yolov8m.pt')\n"
   ]
  },
  {
   "cell_type": "code",
   "execution_count": 3,
   "metadata": {},
   "outputs": [
    {
     "name": "stdout",
     "output_type": "stream",
     "text": [
      "New https://pypi.org/project/ultralytics/8.1.47 available 😃 Update with 'pip install -U ultralytics'\n",
      "Ultralytics YOLOv8.1.20 🚀 Python-3.11.5 torch-2.1.1+cu121 CUDA:0 (NVIDIA A100-SXM4-80GB, 81051MiB)\n",
      "\u001b[34m\u001b[1mengine/trainer: \u001b[0mtask=detect, mode=train, model=yolov8m.pt, data=/home/rishabh.mondal/Brick-Kilns-project/albk_rishabh/albk_v2/YOLO_LOCALIZATION/config.yaml, epochs=500, time=None, patience=100, batch=64, imgsz=1120, save=True, save_period=-1, cache=False, device=None, workers=8, project=None, name=train4, exist_ok=False, pretrained=True, optimizer=auto, verbose=True, seed=0, deterministic=True, single_cls=False, rect=False, cos_lr=False, close_mosaic=10, resume=False, amp=True, fraction=1.0, profile=False, freeze=None, multi_scale=False, overlap_mask=True, mask_ratio=4, dropout=0.0, val=False, split=val, save_json=False, save_hybrid=False, conf=None, iou=0.7, max_det=300, half=False, dnn=False, plots=True, source=None, vid_stride=1, stream_buffer=False, visualize=False, augment=False, agnostic_nms=False, classes=None, retina_masks=False, embed=None, show=False, save_frames=False, save_txt=False, save_conf=False, save_crop=False, show_labels=True, show_conf=True, show_boxes=True, line_width=None, format=torchscript, keras=False, optimize=False, int8=False, dynamic=False, simplify=False, opset=None, workspace=4, nms=False, lr0=0.01, lrf=0.01, momentum=0.937, weight_decay=0.0005, warmup_epochs=3.0, warmup_momentum=0.8, warmup_bias_lr=0.1, box=7.5, cls=0.5, dfl=1.5, pose=12.0, kobj=1.0, label_smoothing=0.0, nbs=64, hsv_h=0.015, hsv_s=0.7, hsv_v=0.4, degrees=0.0, translate=0.1, scale=0.5, shear=0.0, perspective=0.0, flipud=0.0, fliplr=0.5, mosaic=1.0, mixup=0.0, copy_paste=0.0, auto_augment=randaugment, erasing=0.4, crop_fraction=1.0, cfg=None, tracker=botsort.yaml, save_dir=runs/detect/train4\n"
     ]
    },
    {
     "name": "stderr",
     "output_type": "stream",
     "text": [
      "2024-04-14 02:57:16.110585: E external/local_xla/xla/stream_executor/cuda/cuda_dnn.cc:9261] Unable to register cuDNN factory: Attempting to register factory for plugin cuDNN when one has already been registered\n",
      "2024-04-14 02:57:16.110692: E external/local_xla/xla/stream_executor/cuda/cuda_fft.cc:607] Unable to register cuFFT factory: Attempting to register factory for plugin cuFFT when one has already been registered\n",
      "2024-04-14 02:57:16.186948: E external/local_xla/xla/stream_executor/cuda/cuda_blas.cc:1515] Unable to register cuBLAS factory: Attempting to register factory for plugin cuBLAS when one has already been registered\n"
     ]
    },
    {
     "name": "stdout",
     "output_type": "stream",
     "text": [
      "Overriding model.yaml nc=80 with nc=2\n",
      "\n",
      "                   from  n    params  module                                       arguments                     \n",
      "  0                  -1  1      1392  ultralytics.nn.modules.conv.Conv             [3, 48, 3, 2]                 \n",
      "  1                  -1  1     41664  ultralytics.nn.modules.conv.Conv             [48, 96, 3, 2]                \n",
      "  2                  -1  2    111360  ultralytics.nn.modules.block.C2f             [96, 96, 2, True]             \n",
      "  3                  -1  1    166272  ultralytics.nn.modules.conv.Conv             [96, 192, 3, 2]               \n",
      "  4                  -1  4    813312  ultralytics.nn.modules.block.C2f             [192, 192, 4, True]           \n",
      "  5                  -1  1    664320  ultralytics.nn.modules.conv.Conv             [192, 384, 3, 2]              \n",
      "  6                  -1  4   3248640  ultralytics.nn.modules.block.C2f             [384, 384, 4, True]           \n",
      "  7                  -1  1   1991808  ultralytics.nn.modules.conv.Conv             [384, 576, 3, 2]              \n",
      "  8                  -1  2   3985920  ultralytics.nn.modules.block.C2f             [576, 576, 2, True]           \n",
      "  9                  -1  1    831168  ultralytics.nn.modules.block.SPPF            [576, 576, 5]                 \n",
      " 10                  -1  1         0  torch.nn.modules.upsampling.Upsample         [None, 2, 'nearest']          \n",
      " 11             [-1, 6]  1         0  ultralytics.nn.modules.conv.Concat           [1]                           \n",
      " 12                  -1  2   1993728  ultralytics.nn.modules.block.C2f             [960, 384, 2]                 \n",
      " 13                  -1  1         0  torch.nn.modules.upsampling.Upsample         [None, 2, 'nearest']          \n",
      " 14             [-1, 4]  1         0  ultralytics.nn.modules.conv.Concat           [1]                           \n",
      " 15                  -1  2    517632  ultralytics.nn.modules.block.C2f             [576, 192, 2]                 \n",
      " 16                  -1  1    332160  ultralytics.nn.modules.conv.Conv             [192, 192, 3, 2]              \n",
      " 17            [-1, 12]  1         0  ultralytics.nn.modules.conv.Concat           [1]                           \n",
      " 18                  -1  2   1846272  ultralytics.nn.modules.block.C2f             [576, 384, 2]                 \n",
      " 19                  -1  1   1327872  ultralytics.nn.modules.conv.Conv             [384, 384, 3, 2]              \n",
      " 20             [-1, 9]  1         0  ultralytics.nn.modules.conv.Concat           [1]                           \n",
      " 21                  -1  2   4207104  ultralytics.nn.modules.block.C2f             [960, 576, 2]                 \n",
      " 22        [15, 18, 21]  1   3776854  ultralytics.nn.modules.head.Detect           [2, [192, 384, 576]]          \n",
      "Model summary: 295 layers, 25857478 parameters, 25857462 gradients, 79.1 GFLOPs\n",
      "\n",
      "Transferred 469/475 items from pretrained weights\n",
      "\u001b[34m\u001b[1mTensorBoard: \u001b[0mStart with 'tensorboard --logdir runs/detect/train4', view at http://localhost:6006/\n",
      "Freezing layer 'model.22.dfl.conv.weight'\n",
      "\u001b[34m\u001b[1mAMP: \u001b[0mrunning Automatic Mixed Precision (AMP) checks with YOLOv8n...\n",
      "\u001b[34m\u001b[1mAMP: \u001b[0mchecks passed ✅\n"
     ]
    },
    {
     "name": "stderr",
     "output_type": "stream",
     "text": [
      "\u001b[34m\u001b[1mtrain: \u001b[0mScanning /home/rishabh.mondal/Brick-Kilns-project/albk_rishabh/YOLO_train_val_test_data/all_states/labels... 6232 images, 0 backgrounds, 0 corrupt: 100%|██████████| 6232/6232 [00:07<00:00, 877.17it/s]\n"
     ]
    },
    {
     "name": "stdout",
     "output_type": "stream",
     "text": [
      "\u001b[34m\u001b[1mtrain: \u001b[0mNew cache created: /home/rishabh.mondal/Brick-Kilns-project/albk_rishabh/YOLO_train_val_test_data/all_states/labels.cache\n"
     ]
    },
    {
     "name": "stderr",
     "output_type": "stream",
     "text": [
      "\u001b[34m\u001b[1mval: \u001b[0mScanning /home/rishabh.mondal/Brick-Kilns-project/albk_rishabh/YOLO_train_val_test_data/test/labels.cache... 99 images, 1 backgrounds, 0 corrupt: 100%|██████████| 99/99 [00:00<?, ?it/s]\n"
     ]
    },
    {
     "name": "stdout",
     "output_type": "stream",
     "text": [
      "Plotting labels to runs/detect/train4/labels.jpg... \n",
      "\u001b[34m\u001b[1moptimizer:\u001b[0m 'optimizer=auto' found, ignoring 'lr0=0.01' and 'momentum=0.937' and determining best 'optimizer', 'lr0' and 'momentum' automatically... \n",
      "\u001b[34m\u001b[1moptimizer:\u001b[0m SGD(lr=0.01, momentum=0.9) with parameter groups 77 weight(decay=0.0), 84 weight(decay=0.0005), 83 bias(decay=0.0)\n",
      "\u001b[34m\u001b[1mTensorBoard: \u001b[0mmodel graph visualization added ✅\n",
      "Image sizes 1120 train, 1120 val\n",
      "Using 8 dataloader workers\n",
      "Logging results to \u001b[1mruns/detect/train4\u001b[0m\n",
      "Starting training for 500 epochs...\n",
      "\n",
      "      Epoch    GPU_mem   box_loss   cls_loss   dfl_loss  Instances       Size\n"
     ]
    },
    {
     "name": "stderr",
     "output_type": "stream",
     "text": [
      "      1/500      79.8G       1.37      3.542      1.307         39       1120: 100%|██████████| 98/98 [01:49<00:00,  1.12s/it]\n"
     ]
    },
    {
     "name": "stdout",
     "output_type": "stream",
     "text": [
      "\n",
      "      Epoch    GPU_mem   box_loss   cls_loss   dfl_loss  Instances       Size\n"
     ]
    },
    {
     "name": "stderr",
     "output_type": "stream",
     "text": [
      "      2/500      79.1G     0.9889     0.9208      1.058         58       1120: 100%|██████████| 98/98 [01:45<00:00,  1.08s/it]\n"
     ]
    },
    {
     "name": "stdout",
     "output_type": "stream",
     "text": [
      "\n",
      "      Epoch    GPU_mem   box_loss   cls_loss   dfl_loss  Instances       Size\n"
     ]
    },
    {
     "name": "stderr",
     "output_type": "stream",
     "text": [
      "      3/500      79.1G      1.038     0.9815      1.083         28       1120: 100%|██████████| 98/98 [01:45<00:00,  1.08s/it]\n"
     ]
    },
    {
     "name": "stdout",
     "output_type": "stream",
     "text": [
      "\n",
      "      Epoch    GPU_mem   box_loss   cls_loss   dfl_loss  Instances       Size\n"
     ]
    },
    {
     "name": "stderr",
     "output_type": "stream",
     "text": [
      "      4/500      79.1G       1.09      0.994      1.144         28       1120: 100%|██████████| 98/98 [01:45<00:00,  1.08s/it]\n"
     ]
    },
    {
     "name": "stdout",
     "output_type": "stream",
     "text": [
      "\n",
      "      Epoch    GPU_mem   box_loss   cls_loss   dfl_loss  Instances       Size\n"
     ]
    },
    {
     "name": "stderr",
     "output_type": "stream",
     "text": [
      "      5/500      79.1G      1.048     0.9307      1.137         45       1120: 100%|██████████| 98/98 [01:45<00:00,  1.08s/it]\n"
     ]
    },
    {
     "name": "stdout",
     "output_type": "stream",
     "text": [
      "\n",
      "      Epoch    GPU_mem   box_loss   cls_loss   dfl_loss  Instances       Size\n"
     ]
    },
    {
     "name": "stderr",
     "output_type": "stream",
     "text": [
      "      6/500      79.1G      1.005     0.8782      1.127         50       1120: 100%|██████████| 98/98 [01:45<00:00,  1.08s/it]\n"
     ]
    },
    {
     "name": "stdout",
     "output_type": "stream",
     "text": [
      "\n",
      "      Epoch    GPU_mem   box_loss   cls_loss   dfl_loss  Instances       Size\n"
     ]
    },
    {
     "name": "stderr",
     "output_type": "stream",
     "text": [
      "      7/500      79.1G     0.9841     0.8526      1.115         37       1120: 100%|██████████| 98/98 [01:45<00:00,  1.08s/it]\n"
     ]
    },
    {
     "name": "stdout",
     "output_type": "stream",
     "text": [
      "\n",
      "      Epoch    GPU_mem   box_loss   cls_loss   dfl_loss  Instances       Size\n"
     ]
    },
    {
     "name": "stderr",
     "output_type": "stream",
     "text": [
      "      8/500      79.1G     0.9758     0.8232      1.117         34       1120: 100%|██████████| 98/98 [01:45<00:00,  1.08s/it]\n"
     ]
    },
    {
     "name": "stdout",
     "output_type": "stream",
     "text": [
      "\n",
      "      Epoch    GPU_mem   box_loss   cls_loss   dfl_loss  Instances       Size\n"
     ]
    },
    {
     "name": "stderr",
     "output_type": "stream",
     "text": [
      "      9/500      79.1G     0.9275     0.7864      1.099         48       1120: 100%|██████████| 98/98 [01:45<00:00,  1.08s/it]\n"
     ]
    },
    {
     "name": "stdout",
     "output_type": "stream",
     "text": [
      "\n",
      "      Epoch    GPU_mem   box_loss   cls_loss   dfl_loss  Instances       Size\n"
     ]
    },
    {
     "name": "stderr",
     "output_type": "stream",
     "text": [
      "     10/500      79.1G     0.9317     0.7758      1.097         57       1120: 100%|██████████| 98/98 [01:45<00:00,  1.08s/it]\n"
     ]
    },
    {
     "name": "stdout",
     "output_type": "stream",
     "text": [
      "\n",
      "      Epoch    GPU_mem   box_loss   cls_loss   dfl_loss  Instances       Size\n"
     ]
    },
    {
     "name": "stderr",
     "output_type": "stream",
     "text": [
      "     11/500      79.1G     0.9044     0.7597      1.089         29       1120: 100%|██████████| 98/98 [01:45<00:00,  1.08s/it]\n"
     ]
    },
    {
     "name": "stdout",
     "output_type": "stream",
     "text": [
      "\n",
      "      Epoch    GPU_mem   box_loss   cls_loss   dfl_loss  Instances       Size\n"
     ]
    },
    {
     "name": "stderr",
     "output_type": "stream",
     "text": [
      "     12/500      79.1G     0.9013     0.7454      1.083         37       1120: 100%|██████████| 98/98 [01:45<00:00,  1.08s/it]\n"
     ]
    },
    {
     "name": "stdout",
     "output_type": "stream",
     "text": [
      "\n",
      "      Epoch    GPU_mem   box_loss   cls_loss   dfl_loss  Instances       Size\n"
     ]
    },
    {
     "name": "stderr",
     "output_type": "stream",
     "text": [
      "     13/500      79.6G     0.8808     0.7308      1.075         39       1120: 100%|██████████| 98/98 [01:45<00:00,  1.08s/it]\n"
     ]
    },
    {
     "name": "stdout",
     "output_type": "stream",
     "text": [
      "\n",
      "      Epoch    GPU_mem   box_loss   cls_loss   dfl_loss  Instances       Size\n"
     ]
    },
    {
     "name": "stderr",
     "output_type": "stream",
     "text": [
      "     14/500      79.1G     0.8727     0.7085      1.067         36       1120: 100%|██████████| 98/98 [01:46<00:00,  1.08s/it]\n"
     ]
    },
    {
     "name": "stdout",
     "output_type": "stream",
     "text": [
      "\n",
      "      Epoch    GPU_mem   box_loss   cls_loss   dfl_loss  Instances       Size\n"
     ]
    },
    {
     "name": "stderr",
     "output_type": "stream",
     "text": [
      "     15/500      79.1G     0.8643     0.7133      1.063         53       1120: 100%|██████████| 98/98 [01:45<00:00,  1.08s/it]\n"
     ]
    },
    {
     "name": "stdout",
     "output_type": "stream",
     "text": [
      "\n",
      "      Epoch    GPU_mem   box_loss   cls_loss   dfl_loss  Instances       Size\n"
     ]
    },
    {
     "name": "stderr",
     "output_type": "stream",
     "text": [
      "     16/500      79.1G     0.8573     0.7006      1.059         46       1120: 100%|██████████| 98/98 [01:45<00:00,  1.08s/it]\n"
     ]
    },
    {
     "name": "stdout",
     "output_type": "stream",
     "text": [
      "\n",
      "      Epoch    GPU_mem   box_loss   cls_loss   dfl_loss  Instances       Size\n"
     ]
    },
    {
     "name": "stderr",
     "output_type": "stream",
     "text": [
      "     17/500      79.1G      0.839     0.6853      1.053         39       1120: 100%|██████████| 98/98 [01:45<00:00,  1.08s/it]\n"
     ]
    },
    {
     "name": "stdout",
     "output_type": "stream",
     "text": [
      "\n",
      "      Epoch    GPU_mem   box_loss   cls_loss   dfl_loss  Instances       Size\n"
     ]
    },
    {
     "name": "stderr",
     "output_type": "stream",
     "text": [
      "     18/500      79.1G     0.8328     0.6777       1.05         35       1120: 100%|██████████| 98/98 [01:45<00:00,  1.08s/it]\n"
     ]
    },
    {
     "name": "stdout",
     "output_type": "stream",
     "text": [
      "\n",
      "      Epoch    GPU_mem   box_loss   cls_loss   dfl_loss  Instances       Size\n"
     ]
    },
    {
     "name": "stderr",
     "output_type": "stream",
     "text": [
      "     19/500      79.1G     0.8254     0.6652      1.037         33       1120: 100%|██████████| 98/98 [01:45<00:00,  1.07s/it]\n"
     ]
    },
    {
     "name": "stdout",
     "output_type": "stream",
     "text": [
      "\n",
      "      Epoch    GPU_mem   box_loss   cls_loss   dfl_loss  Instances       Size\n"
     ]
    },
    {
     "name": "stderr",
     "output_type": "stream",
     "text": [
      "     20/500      79.1G     0.8282     0.6654      1.043         46       1120: 100%|██████████| 98/98 [01:45<00:00,  1.08s/it]\n"
     ]
    },
    {
     "name": "stdout",
     "output_type": "stream",
     "text": [
      "\n",
      "      Epoch    GPU_mem   box_loss   cls_loss   dfl_loss  Instances       Size\n"
     ]
    },
    {
     "name": "stderr",
     "output_type": "stream",
     "text": [
      "     21/500      79.1G     0.8134     0.6532      1.037         45       1120: 100%|██████████| 98/98 [01:45<00:00,  1.08s/it]\n"
     ]
    },
    {
     "name": "stdout",
     "output_type": "stream",
     "text": [
      "\n",
      "      Epoch    GPU_mem   box_loss   cls_loss   dfl_loss  Instances       Size\n"
     ]
    },
    {
     "name": "stderr",
     "output_type": "stream",
     "text": [
      "     22/500      79.1G     0.8048     0.6538      1.029         52       1120: 100%|██████████| 98/98 [01:45<00:00,  1.08s/it]\n"
     ]
    },
    {
     "name": "stdout",
     "output_type": "stream",
     "text": [
      "\n",
      "      Epoch    GPU_mem   box_loss   cls_loss   dfl_loss  Instances       Size\n"
     ]
    },
    {
     "name": "stderr",
     "output_type": "stream",
     "text": [
      "     23/500      79.1G     0.8035     0.6458       1.03         39       1120: 100%|██████████| 98/98 [01:45<00:00,  1.08s/it]\n"
     ]
    },
    {
     "name": "stdout",
     "output_type": "stream",
     "text": [
      "\n",
      "      Epoch    GPU_mem   box_loss   cls_loss   dfl_loss  Instances       Size\n"
     ]
    },
    {
     "name": "stderr",
     "output_type": "stream",
     "text": [
      "     24/500      79.1G     0.7926     0.6364      1.023         30       1120: 100%|██████████| 98/98 [01:45<00:00,  1.08s/it]\n"
     ]
    },
    {
     "name": "stdout",
     "output_type": "stream",
     "text": [
      "\n",
      "      Epoch    GPU_mem   box_loss   cls_loss   dfl_loss  Instances       Size\n"
     ]
    },
    {
     "name": "stderr",
     "output_type": "stream",
     "text": [
      "     25/500      79.1G      0.783     0.6274      1.022         44       1120: 100%|██████████| 98/98 [01:45<00:00,  1.08s/it]\n"
     ]
    },
    {
     "name": "stdout",
     "output_type": "stream",
     "text": [
      "\n",
      "      Epoch    GPU_mem   box_loss   cls_loss   dfl_loss  Instances       Size\n"
     ]
    },
    {
     "name": "stderr",
     "output_type": "stream",
     "text": [
      "     26/500      79.1G      0.797     0.6166      1.024         32       1120: 100%|██████████| 98/98 [01:45<00:00,  1.08s/it]\n"
     ]
    },
    {
     "name": "stdout",
     "output_type": "stream",
     "text": [
      "\n",
      "      Epoch    GPU_mem   box_loss   cls_loss   dfl_loss  Instances       Size\n"
     ]
    },
    {
     "name": "stderr",
     "output_type": "stream",
     "text": [
      "     27/500      79.1G     0.7763     0.6094      1.019         37       1120: 100%|██████████| 98/98 [01:45<00:00,  1.08s/it]\n"
     ]
    },
    {
     "name": "stdout",
     "output_type": "stream",
     "text": [
      "\n",
      "      Epoch    GPU_mem   box_loss   cls_loss   dfl_loss  Instances       Size\n"
     ]
    },
    {
     "name": "stderr",
     "output_type": "stream",
     "text": [
      "     28/500      79.1G     0.7771     0.6201      1.015         55       1120: 100%|██████████| 98/98 [01:45<00:00,  1.08s/it]\n"
     ]
    },
    {
     "name": "stdout",
     "output_type": "stream",
     "text": [
      "\n",
      "      Epoch    GPU_mem   box_loss   cls_loss   dfl_loss  Instances       Size\n"
     ]
    },
    {
     "name": "stderr",
     "output_type": "stream",
     "text": [
      "     29/500      79.1G     0.7649     0.6063      1.007         35       1120: 100%|██████████| 98/98 [01:45<00:00,  1.08s/it]\n"
     ]
    },
    {
     "name": "stdout",
     "output_type": "stream",
     "text": [
      "\n",
      "      Epoch    GPU_mem   box_loss   cls_loss   dfl_loss  Instances       Size\n"
     ]
    },
    {
     "name": "stderr",
     "output_type": "stream",
     "text": [
      "     30/500      79.1G     0.7566     0.5905      1.005         34       1120: 100%|██████████| 98/98 [01:46<00:00,  1.08s/it]\n"
     ]
    },
    {
     "name": "stdout",
     "output_type": "stream",
     "text": [
      "\n",
      "      Epoch    GPU_mem   box_loss   cls_loss   dfl_loss  Instances       Size\n"
     ]
    },
    {
     "name": "stderr",
     "output_type": "stream",
     "text": [
      "     31/500      79.1G     0.7549      0.582      1.003         39       1120: 100%|██████████| 98/98 [01:45<00:00,  1.08s/it]\n"
     ]
    },
    {
     "name": "stdout",
     "output_type": "stream",
     "text": [
      "\n",
      "      Epoch    GPU_mem   box_loss   cls_loss   dfl_loss  Instances       Size\n"
     ]
    },
    {
     "name": "stderr",
     "output_type": "stream",
     "text": [
      "     32/500      79.1G     0.7417     0.5912     0.9967         43       1120: 100%|██████████| 98/98 [01:45<00:00,  1.08s/it]\n"
     ]
    },
    {
     "name": "stdout",
     "output_type": "stream",
     "text": [
      "\n",
      "      Epoch    GPU_mem   box_loss   cls_loss   dfl_loss  Instances       Size\n"
     ]
    },
    {
     "name": "stderr",
     "output_type": "stream",
     "text": [
      "     33/500      79.1G     0.7437     0.5696     0.9965         46       1120: 100%|██████████| 98/98 [01:45<00:00,  1.08s/it]\n"
     ]
    },
    {
     "name": "stdout",
     "output_type": "stream",
     "text": [
      "\n",
      "      Epoch    GPU_mem   box_loss   cls_loss   dfl_loss  Instances       Size\n"
     ]
    },
    {
     "name": "stderr",
     "output_type": "stream",
     "text": [
      "     34/500      79.1G     0.7378     0.5753     0.9935         40       1120: 100%|██████████| 98/98 [01:45<00:00,  1.07s/it]\n"
     ]
    },
    {
     "name": "stdout",
     "output_type": "stream",
     "text": [
      "\n",
      "      Epoch    GPU_mem   box_loss   cls_loss   dfl_loss  Instances       Size\n"
     ]
    },
    {
     "name": "stderr",
     "output_type": "stream",
     "text": [
      "     35/500      79.1G     0.7342     0.5796     0.9871         38       1120: 100%|██████████| 98/98 [01:45<00:00,  1.07s/it]\n"
     ]
    },
    {
     "name": "stdout",
     "output_type": "stream",
     "text": [
      "\n",
      "      Epoch    GPU_mem   box_loss   cls_loss   dfl_loss  Instances       Size\n"
     ]
    },
    {
     "name": "stderr",
     "output_type": "stream",
     "text": [
      "     36/500      79.1G     0.7286     0.5574     0.9892         33       1120: 100%|██████████| 98/98 [01:45<00:00,  1.07s/it]\n"
     ]
    },
    {
     "name": "stdout",
     "output_type": "stream",
     "text": [
      "\n",
      "      Epoch    GPU_mem   box_loss   cls_loss   dfl_loss  Instances       Size\n"
     ]
    },
    {
     "name": "stderr",
     "output_type": "stream",
     "text": [
      "     37/500      79.1G     0.7323     0.5573     0.9858         32       1120: 100%|██████████| 98/98 [01:45<00:00,  1.07s/it]\n"
     ]
    },
    {
     "name": "stdout",
     "output_type": "stream",
     "text": [
      "\n",
      "      Epoch    GPU_mem   box_loss   cls_loss   dfl_loss  Instances       Size\n"
     ]
    },
    {
     "name": "stderr",
     "output_type": "stream",
     "text": [
      "     38/500      79.1G      0.716     0.5548     0.9821         30       1120: 100%|██████████| 98/98 [01:45<00:00,  1.07s/it]\n"
     ]
    },
    {
     "name": "stdout",
     "output_type": "stream",
     "text": [
      "\n",
      "      Epoch    GPU_mem   box_loss   cls_loss   dfl_loss  Instances       Size\n"
     ]
    },
    {
     "name": "stderr",
     "output_type": "stream",
     "text": [
      "     39/500      79.1G     0.7199      0.542     0.9823         42       1120: 100%|██████████| 98/98 [01:45<00:00,  1.07s/it]\n"
     ]
    },
    {
     "name": "stdout",
     "output_type": "stream",
     "text": [
      "\n",
      "      Epoch    GPU_mem   box_loss   cls_loss   dfl_loss  Instances       Size\n"
     ]
    },
    {
     "name": "stderr",
     "output_type": "stream",
     "text": [
      "     40/500      79.1G     0.7155     0.5403     0.9814         46       1120: 100%|██████████| 98/98 [01:45<00:00,  1.07s/it]\n"
     ]
    },
    {
     "name": "stdout",
     "output_type": "stream",
     "text": [
      "\n",
      "      Epoch    GPU_mem   box_loss   cls_loss   dfl_loss  Instances       Size\n"
     ]
    },
    {
     "name": "stderr",
     "output_type": "stream",
     "text": [
      "     41/500      79.1G     0.7063     0.5378     0.9813         47       1120: 100%|██████████| 98/98 [01:45<00:00,  1.07s/it]\n"
     ]
    },
    {
     "name": "stdout",
     "output_type": "stream",
     "text": [
      "\n",
      "      Epoch    GPU_mem   box_loss   cls_loss   dfl_loss  Instances       Size\n"
     ]
    },
    {
     "name": "stderr",
     "output_type": "stream",
     "text": [
      "     42/500      79.1G     0.7044     0.5265     0.9751         52       1120: 100%|██████████| 98/98 [01:45<00:00,  1.07s/it]\n"
     ]
    },
    {
     "name": "stdout",
     "output_type": "stream",
     "text": [
      "\n",
      "      Epoch    GPU_mem   box_loss   cls_loss   dfl_loss  Instances       Size\n"
     ]
    },
    {
     "name": "stderr",
     "output_type": "stream",
     "text": [
      "     43/500      79.1G     0.6985     0.5257     0.9741         35       1120: 100%|██████████| 98/98 [01:45<00:00,  1.08s/it]\n"
     ]
    },
    {
     "name": "stdout",
     "output_type": "stream",
     "text": [
      "\n",
      "      Epoch    GPU_mem   box_loss   cls_loss   dfl_loss  Instances       Size\n"
     ]
    },
    {
     "name": "stderr",
     "output_type": "stream",
     "text": [
      "     44/500      79.1G     0.6974     0.5247     0.9767         49       1120: 100%|██████████| 98/98 [01:45<00:00,  1.07s/it]\n"
     ]
    },
    {
     "name": "stdout",
     "output_type": "stream",
     "text": [
      "\n",
      "      Epoch    GPU_mem   box_loss   cls_loss   dfl_loss  Instances       Size\n"
     ]
    },
    {
     "name": "stderr",
     "output_type": "stream",
     "text": [
      "     45/500      79.1G     0.7031      0.522     0.9707         58       1120: 100%|██████████| 98/98 [01:45<00:00,  1.08s/it]\n"
     ]
    },
    {
     "name": "stdout",
     "output_type": "stream",
     "text": [
      "\n",
      "      Epoch    GPU_mem   box_loss   cls_loss   dfl_loss  Instances       Size\n"
     ]
    },
    {
     "name": "stderr",
     "output_type": "stream",
     "text": [
      "     46/500      79.1G     0.6971     0.5181     0.9699         37       1120: 100%|██████████| 98/98 [01:45<00:00,  1.07s/it]\n"
     ]
    },
    {
     "name": "stdout",
     "output_type": "stream",
     "text": [
      "\n",
      "      Epoch    GPU_mem   box_loss   cls_loss   dfl_loss  Instances       Size\n"
     ]
    },
    {
     "name": "stderr",
     "output_type": "stream",
     "text": [
      "     47/500      79.1G      0.686      0.507     0.9672         34       1120: 100%|██████████| 98/98 [01:45<00:00,  1.08s/it]\n"
     ]
    },
    {
     "name": "stdout",
     "output_type": "stream",
     "text": [
      "\n",
      "      Epoch    GPU_mem   box_loss   cls_loss   dfl_loss  Instances       Size\n"
     ]
    },
    {
     "name": "stderr",
     "output_type": "stream",
     "text": [
      "     48/500      79.1G     0.6936     0.5172     0.9696         47       1120: 100%|██████████| 98/98 [01:45<00:00,  1.07s/it]\n"
     ]
    },
    {
     "name": "stdout",
     "output_type": "stream",
     "text": [
      "\n",
      "      Epoch    GPU_mem   box_loss   cls_loss   dfl_loss  Instances       Size\n"
     ]
    },
    {
     "name": "stderr",
     "output_type": "stream",
     "text": [
      "     49/500      79.1G     0.6733     0.4938      0.962         60       1120: 100%|██████████| 98/98 [01:45<00:00,  1.07s/it]\n"
     ]
    },
    {
     "name": "stdout",
     "output_type": "stream",
     "text": [
      "\n",
      "      Epoch    GPU_mem   box_loss   cls_loss   dfl_loss  Instances       Size\n"
     ]
    },
    {
     "name": "stderr",
     "output_type": "stream",
     "text": [
      "     50/500      79.1G      0.675     0.4994     0.9584         30       1120: 100%|██████████| 98/98 [01:45<00:00,  1.08s/it]\n"
     ]
    },
    {
     "name": "stdout",
     "output_type": "stream",
     "text": [
      "\n",
      "      Epoch    GPU_mem   box_loss   cls_loss   dfl_loss  Instances       Size\n"
     ]
    },
    {
     "name": "stderr",
     "output_type": "stream",
     "text": [
      "     51/500      79.1G     0.6737     0.4848     0.9623         35       1120: 100%|██████████| 98/98 [01:45<00:00,  1.08s/it]\n"
     ]
    },
    {
     "name": "stdout",
     "output_type": "stream",
     "text": [
      "\n",
      "      Epoch    GPU_mem   box_loss   cls_loss   dfl_loss  Instances       Size\n"
     ]
    },
    {
     "name": "stderr",
     "output_type": "stream",
     "text": [
      "     52/500      79.4G     0.6739     0.4904     0.9583         45       1120: 100%|██████████| 98/98 [01:45<00:00,  1.08s/it]\n"
     ]
    },
    {
     "name": "stdout",
     "output_type": "stream",
     "text": [
      "\n",
      "      Epoch    GPU_mem   box_loss   cls_loss   dfl_loss  Instances       Size\n"
     ]
    },
    {
     "name": "stderr",
     "output_type": "stream",
     "text": [
      "     53/500      79.1G     0.6746     0.4857     0.9632         40       1120: 100%|██████████| 98/98 [01:45<00:00,  1.08s/it]\n"
     ]
    },
    {
     "name": "stdout",
     "output_type": "stream",
     "text": [
      "\n",
      "      Epoch    GPU_mem   box_loss   cls_loss   dfl_loss  Instances       Size\n"
     ]
    },
    {
     "name": "stderr",
     "output_type": "stream",
     "text": [
      "     54/500      79.1G     0.6668     0.4725     0.9535         48       1120: 100%|██████████| 98/98 [01:45<00:00,  1.07s/it]\n"
     ]
    },
    {
     "name": "stdout",
     "output_type": "stream",
     "text": [
      "\n",
      "      Epoch    GPU_mem   box_loss   cls_loss   dfl_loss  Instances       Size\n"
     ]
    },
    {
     "name": "stderr",
     "output_type": "stream",
     "text": [
      "     55/500      79.1G     0.6655     0.4831     0.9587         47       1120: 100%|██████████| 98/98 [01:45<00:00,  1.07s/it]\n"
     ]
    },
    {
     "name": "stdout",
     "output_type": "stream",
     "text": [
      "\n",
      "      Epoch    GPU_mem   box_loss   cls_loss   dfl_loss  Instances       Size\n"
     ]
    },
    {
     "name": "stderr",
     "output_type": "stream",
     "text": [
      "     56/500      79.1G     0.6587     0.4698     0.9529         51       1120: 100%|██████████| 98/98 [01:45<00:00,  1.07s/it]\n"
     ]
    },
    {
     "name": "stdout",
     "output_type": "stream",
     "text": [
      "\n",
      "      Epoch    GPU_mem   box_loss   cls_loss   dfl_loss  Instances       Size\n"
     ]
    },
    {
     "name": "stderr",
     "output_type": "stream",
     "text": [
      "     57/500      79.1G      0.655     0.4692     0.9555         30       1120: 100%|██████████| 98/98 [01:45<00:00,  1.07s/it]\n"
     ]
    },
    {
     "name": "stdout",
     "output_type": "stream",
     "text": [
      "\n",
      "      Epoch    GPU_mem   box_loss   cls_loss   dfl_loss  Instances       Size\n"
     ]
    },
    {
     "name": "stderr",
     "output_type": "stream",
     "text": [
      "     58/500      79.1G     0.6636     0.4745     0.9572         39       1120: 100%|██████████| 98/98 [01:45<00:00,  1.07s/it]\n"
     ]
    },
    {
     "name": "stdout",
     "output_type": "stream",
     "text": [
      "\n",
      "      Epoch    GPU_mem   box_loss   cls_loss   dfl_loss  Instances       Size\n"
     ]
    },
    {
     "name": "stderr",
     "output_type": "stream",
     "text": [
      "     59/500      79.1G     0.6535     0.4681     0.9459         37       1120: 100%|██████████| 98/98 [01:45<00:00,  1.07s/it]\n"
     ]
    },
    {
     "name": "stdout",
     "output_type": "stream",
     "text": [
      "\n",
      "      Epoch    GPU_mem   box_loss   cls_loss   dfl_loss  Instances       Size\n"
     ]
    },
    {
     "name": "stderr",
     "output_type": "stream",
     "text": [
      "     60/500      79.1G     0.6515     0.4584      0.949         54       1120: 100%|██████████| 98/98 [01:45<00:00,  1.07s/it]\n"
     ]
    },
    {
     "name": "stdout",
     "output_type": "stream",
     "text": [
      "\n",
      "      Epoch    GPU_mem   box_loss   cls_loss   dfl_loss  Instances       Size\n"
     ]
    },
    {
     "name": "stderr",
     "output_type": "stream",
     "text": [
      "     61/500      79.1G     0.6488     0.4547     0.9444         48       1120: 100%|██████████| 98/98 [01:45<00:00,  1.07s/it]\n"
     ]
    },
    {
     "name": "stdout",
     "output_type": "stream",
     "text": [
      "\n",
      "      Epoch    GPU_mem   box_loss   cls_loss   dfl_loss  Instances       Size\n"
     ]
    },
    {
     "name": "stderr",
     "output_type": "stream",
     "text": [
      "     62/500      79.1G     0.6446     0.4522     0.9449         42       1120: 100%|██████████| 98/98 [01:45<00:00,  1.07s/it]\n"
     ]
    },
    {
     "name": "stdout",
     "output_type": "stream",
     "text": [
      "\n",
      "      Epoch    GPU_mem   box_loss   cls_loss   dfl_loss  Instances       Size\n"
     ]
    },
    {
     "name": "stderr",
     "output_type": "stream",
     "text": [
      "     63/500      79.1G     0.6465       0.46     0.9478         45       1120: 100%|██████████| 98/98 [01:45<00:00,  1.07s/it]\n"
     ]
    },
    {
     "name": "stdout",
     "output_type": "stream",
     "text": [
      "\n",
      "      Epoch    GPU_mem   box_loss   cls_loss   dfl_loss  Instances       Size\n"
     ]
    },
    {
     "name": "stderr",
     "output_type": "stream",
     "text": [
      "     64/500      79.1G      0.638     0.4481     0.9408         35       1120: 100%|██████████| 98/98 [01:45<00:00,  1.08s/it]\n"
     ]
    },
    {
     "name": "stdout",
     "output_type": "stream",
     "text": [
      "\n",
      "      Epoch    GPU_mem   box_loss   cls_loss   dfl_loss  Instances       Size\n"
     ]
    },
    {
     "name": "stderr",
     "output_type": "stream",
     "text": [
      "     65/500      79.1G     0.6375     0.4432     0.9403         48       1120: 100%|██████████| 98/98 [01:45<00:00,  1.08s/it]\n"
     ]
    },
    {
     "name": "stdout",
     "output_type": "stream",
     "text": [
      "\n",
      "      Epoch    GPU_mem   box_loss   cls_loss   dfl_loss  Instances       Size\n"
     ]
    },
    {
     "name": "stderr",
     "output_type": "stream",
     "text": [
      "     66/500      79.1G     0.6309     0.4353      0.937         52       1120: 100%|██████████| 98/98 [01:45<00:00,  1.08s/it]\n"
     ]
    },
    {
     "name": "stdout",
     "output_type": "stream",
     "text": [
      "\n",
      "      Epoch    GPU_mem   box_loss   cls_loss   dfl_loss  Instances       Size\n"
     ]
    },
    {
     "name": "stderr",
     "output_type": "stream",
     "text": [
      "     67/500      79.1G       0.63      0.433     0.9326         34       1120: 100%|██████████| 98/98 [01:45<00:00,  1.07s/it]\n"
     ]
    },
    {
     "name": "stdout",
     "output_type": "stream",
     "text": [
      "\n",
      "      Epoch    GPU_mem   box_loss   cls_loss   dfl_loss  Instances       Size\n"
     ]
    },
    {
     "name": "stderr",
     "output_type": "stream",
     "text": [
      "     68/500      79.1G     0.6295     0.4284     0.9415         44       1120: 100%|██████████| 98/98 [01:45<00:00,  1.07s/it]\n"
     ]
    },
    {
     "name": "stdout",
     "output_type": "stream",
     "text": [
      "\n",
      "      Epoch    GPU_mem   box_loss   cls_loss   dfl_loss  Instances       Size\n"
     ]
    },
    {
     "name": "stderr",
     "output_type": "stream",
     "text": [
      "     69/500      79.1G     0.6262      0.431     0.9371         42       1120: 100%|██████████| 98/98 [01:45<00:00,  1.07s/it]\n"
     ]
    },
    {
     "name": "stdout",
     "output_type": "stream",
     "text": [
      "\n",
      "      Epoch    GPU_mem   box_loss   cls_loss   dfl_loss  Instances       Size\n"
     ]
    },
    {
     "name": "stderr",
     "output_type": "stream",
     "text": [
      "     70/500      79.1G     0.6278     0.4355     0.9386         39       1120: 100%|██████████| 98/98 [01:45<00:00,  1.07s/it]\n"
     ]
    },
    {
     "name": "stdout",
     "output_type": "stream",
     "text": [
      "\n",
      "      Epoch    GPU_mem   box_loss   cls_loss   dfl_loss  Instances       Size\n"
     ]
    },
    {
     "name": "stderr",
     "output_type": "stream",
     "text": [
      "     71/500      79.1G     0.6225     0.4237     0.9356         37       1120: 100%|██████████| 98/98 [01:45<00:00,  1.07s/it]\n"
     ]
    },
    {
     "name": "stdout",
     "output_type": "stream",
     "text": [
      "\n",
      "      Epoch    GPU_mem   box_loss   cls_loss   dfl_loss  Instances       Size\n"
     ]
    },
    {
     "name": "stderr",
     "output_type": "stream",
     "text": [
      "     72/500      79.1G     0.6182     0.4225     0.9341         30       1120: 100%|██████████| 98/98 [01:45<00:00,  1.07s/it]\n"
     ]
    },
    {
     "name": "stdout",
     "output_type": "stream",
     "text": [
      "\n",
      "      Epoch    GPU_mem   box_loss   cls_loss   dfl_loss  Instances       Size\n"
     ]
    },
    {
     "name": "stderr",
     "output_type": "stream",
     "text": [
      "     73/500      79.1G     0.6167     0.4123     0.9339         30       1120: 100%|██████████| 98/98 [01:45<00:00,  1.07s/it]\n"
     ]
    },
    {
     "name": "stdout",
     "output_type": "stream",
     "text": [
      "\n",
      "      Epoch    GPU_mem   box_loss   cls_loss   dfl_loss  Instances       Size\n"
     ]
    },
    {
     "name": "stderr",
     "output_type": "stream",
     "text": [
      "     74/500      79.1G     0.6148     0.4201     0.9283         53       1120: 100%|██████████| 98/98 [01:45<00:00,  1.07s/it]\n"
     ]
    },
    {
     "name": "stdout",
     "output_type": "stream",
     "text": [
      "\n",
      "      Epoch    GPU_mem   box_loss   cls_loss   dfl_loss  Instances       Size\n"
     ]
    },
    {
     "name": "stderr",
     "output_type": "stream",
     "text": [
      "     75/500      79.1G     0.6109     0.4172     0.9282         37       1120: 100%|██████████| 98/98 [01:45<00:00,  1.07s/it]\n"
     ]
    },
    {
     "name": "stdout",
     "output_type": "stream",
     "text": [
      "\n",
      "      Epoch    GPU_mem   box_loss   cls_loss   dfl_loss  Instances       Size\n"
     ]
    },
    {
     "name": "stderr",
     "output_type": "stream",
     "text": [
      "     76/500      79.1G     0.6078     0.4149      0.925         35       1120: 100%|██████████| 98/98 [01:45<00:00,  1.07s/it]\n"
     ]
    },
    {
     "name": "stdout",
     "output_type": "stream",
     "text": [
      "\n",
      "      Epoch    GPU_mem   box_loss   cls_loss   dfl_loss  Instances       Size\n"
     ]
    },
    {
     "name": "stderr",
     "output_type": "stream",
     "text": [
      "     77/500      79.1G      0.607     0.4122     0.9299         35       1120: 100%|██████████| 98/98 [01:45<00:00,  1.07s/it]\n"
     ]
    },
    {
     "name": "stdout",
     "output_type": "stream",
     "text": [
      "\n",
      "      Epoch    GPU_mem   box_loss   cls_loss   dfl_loss  Instances       Size\n"
     ]
    },
    {
     "name": "stderr",
     "output_type": "stream",
     "text": [
      "     78/500      79.1G     0.6135     0.4119     0.9256         37       1120: 100%|██████████| 98/98 [01:45<00:00,  1.07s/it]\n"
     ]
    },
    {
     "name": "stdout",
     "output_type": "stream",
     "text": [
      "\n",
      "      Epoch    GPU_mem   box_loss   cls_loss   dfl_loss  Instances       Size\n"
     ]
    },
    {
     "name": "stderr",
     "output_type": "stream",
     "text": [
      "     79/500      79.1G     0.6118     0.4166     0.9263         36       1120: 100%|██████████| 98/98 [01:45<00:00,  1.08s/it]\n"
     ]
    },
    {
     "name": "stdout",
     "output_type": "stream",
     "text": [
      "\n",
      "      Epoch    GPU_mem   box_loss   cls_loss   dfl_loss  Instances       Size\n"
     ]
    },
    {
     "name": "stderr",
     "output_type": "stream",
     "text": [
      "     80/500      79.1G     0.6061     0.4131     0.9215         27       1120: 100%|██████████| 98/98 [01:45<00:00,  1.07s/it]\n"
     ]
    },
    {
     "name": "stdout",
     "output_type": "stream",
     "text": [
      "\n",
      "      Epoch    GPU_mem   box_loss   cls_loss   dfl_loss  Instances       Size\n"
     ]
    },
    {
     "name": "stderr",
     "output_type": "stream",
     "text": [
      "     81/500      79.1G     0.5989     0.4137     0.9233         31       1120: 100%|██████████| 98/98 [01:45<00:00,  1.07s/it]\n"
     ]
    },
    {
     "name": "stdout",
     "output_type": "stream",
     "text": [
      "\n",
      "      Epoch    GPU_mem   box_loss   cls_loss   dfl_loss  Instances       Size\n"
     ]
    },
    {
     "name": "stderr",
     "output_type": "stream",
     "text": [
      "     82/500      79.4G     0.5975     0.4033     0.9219         39       1120: 100%|██████████| 98/98 [01:45<00:00,  1.07s/it]\n"
     ]
    },
    {
     "name": "stdout",
     "output_type": "stream",
     "text": [
      "\n",
      "      Epoch    GPU_mem   box_loss   cls_loss   dfl_loss  Instances       Size\n"
     ]
    },
    {
     "name": "stderr",
     "output_type": "stream",
     "text": [
      "     83/500      79.1G     0.5948     0.3991     0.9194         69       1120: 100%|██████████| 98/98 [01:45<00:00,  1.07s/it]\n"
     ]
    },
    {
     "name": "stdout",
     "output_type": "stream",
     "text": [
      "\n",
      "      Epoch    GPU_mem   box_loss   cls_loss   dfl_loss  Instances       Size\n"
     ]
    },
    {
     "name": "stderr",
     "output_type": "stream",
     "text": [
      "     84/500      79.1G     0.6019     0.4075     0.9225         57       1120: 100%|██████████| 98/98 [01:45<00:00,  1.07s/it]\n"
     ]
    },
    {
     "name": "stdout",
     "output_type": "stream",
     "text": [
      "\n",
      "      Epoch    GPU_mem   box_loss   cls_loss   dfl_loss  Instances       Size\n"
     ]
    },
    {
     "name": "stderr",
     "output_type": "stream",
     "text": [
      "     85/500      79.1G     0.5924     0.3991     0.9151         46       1120: 100%|██████████| 98/98 [01:45<00:00,  1.07s/it]\n"
     ]
    },
    {
     "name": "stdout",
     "output_type": "stream",
     "text": [
      "\n",
      "      Epoch    GPU_mem   box_loss   cls_loss   dfl_loss  Instances       Size\n"
     ]
    },
    {
     "name": "stderr",
     "output_type": "stream",
     "text": [
      "     86/500      79.1G     0.5856     0.3891     0.9156         52       1120: 100%|██████████| 98/98 [01:45<00:00,  1.07s/it]\n"
     ]
    },
    {
     "name": "stdout",
     "output_type": "stream",
     "text": [
      "\n",
      "      Epoch    GPU_mem   box_loss   cls_loss   dfl_loss  Instances       Size\n"
     ]
    },
    {
     "name": "stderr",
     "output_type": "stream",
     "text": [
      "     87/500      79.1G     0.5862     0.3964     0.9105         31       1120: 100%|██████████| 98/98 [01:45<00:00,  1.07s/it]\n"
     ]
    },
    {
     "name": "stdout",
     "output_type": "stream",
     "text": [
      "\n",
      "      Epoch    GPU_mem   box_loss   cls_loss   dfl_loss  Instances       Size\n"
     ]
    },
    {
     "name": "stderr",
     "output_type": "stream",
     "text": [
      "     88/500      79.1G     0.5877     0.3945     0.9177         40       1120: 100%|██████████| 98/98 [01:45<00:00,  1.07s/it]\n"
     ]
    },
    {
     "name": "stdout",
     "output_type": "stream",
     "text": [
      "\n",
      "      Epoch    GPU_mem   box_loss   cls_loss   dfl_loss  Instances       Size\n"
     ]
    },
    {
     "name": "stderr",
     "output_type": "stream",
     "text": [
      "     89/500      79.1G     0.5837     0.3871     0.9126         27       1120: 100%|██████████| 98/98 [01:45<00:00,  1.07s/it]\n"
     ]
    },
    {
     "name": "stdout",
     "output_type": "stream",
     "text": [
      "\n",
      "      Epoch    GPU_mem   box_loss   cls_loss   dfl_loss  Instances       Size\n"
     ]
    },
    {
     "name": "stderr",
     "output_type": "stream",
     "text": [
      "     90/500      79.1G      0.582     0.3911     0.9163         35       1120: 100%|██████████| 98/98 [01:45<00:00,  1.08s/it]\n"
     ]
    },
    {
     "name": "stdout",
     "output_type": "stream",
     "text": [
      "\n",
      "      Epoch    GPU_mem   box_loss   cls_loss   dfl_loss  Instances       Size\n"
     ]
    },
    {
     "name": "stderr",
     "output_type": "stream",
     "text": [
      "     91/500      79.1G     0.5841     0.3883     0.9105         41       1120: 100%|██████████| 98/98 [01:45<00:00,  1.07s/it]\n"
     ]
    },
    {
     "name": "stdout",
     "output_type": "stream",
     "text": [
      "\n",
      "      Epoch    GPU_mem   box_loss   cls_loss   dfl_loss  Instances       Size\n"
     ]
    },
    {
     "name": "stderr",
     "output_type": "stream",
     "text": [
      "     92/500      79.1G     0.5802      0.385     0.9108         40       1120: 100%|██████████| 98/98 [01:45<00:00,  1.08s/it]\n"
     ]
    },
    {
     "name": "stdout",
     "output_type": "stream",
     "text": [
      "\n",
      "      Epoch    GPU_mem   box_loss   cls_loss   dfl_loss  Instances       Size\n"
     ]
    },
    {
     "name": "stderr",
     "output_type": "stream",
     "text": [
      "     93/500      79.1G     0.5693      0.381     0.9086         51       1120: 100%|██████████| 98/98 [01:45<00:00,  1.07s/it]\n"
     ]
    },
    {
     "name": "stdout",
     "output_type": "stream",
     "text": [
      "\n",
      "      Epoch    GPU_mem   box_loss   cls_loss   dfl_loss  Instances       Size\n"
     ]
    },
    {
     "name": "stderr",
     "output_type": "stream",
     "text": [
      "     94/500      79.4G     0.5689     0.3815     0.9045         43       1120: 100%|██████████| 98/98 [01:45<00:00,  1.07s/it]\n"
     ]
    },
    {
     "name": "stdout",
     "output_type": "stream",
     "text": [
      "\n",
      "      Epoch    GPU_mem   box_loss   cls_loss   dfl_loss  Instances       Size\n"
     ]
    },
    {
     "name": "stderr",
     "output_type": "stream",
     "text": [
      "     95/500      79.1G     0.5712     0.3822     0.9079         33       1120: 100%|██████████| 98/98 [01:45<00:00,  1.07s/it]\n"
     ]
    },
    {
     "name": "stdout",
     "output_type": "stream",
     "text": [
      "\n",
      "      Epoch    GPU_mem   box_loss   cls_loss   dfl_loss  Instances       Size\n"
     ]
    },
    {
     "name": "stderr",
     "output_type": "stream",
     "text": [
      "     96/500      79.1G     0.5731     0.3796     0.9107         31       1120: 100%|██████████| 98/98 [01:45<00:00,  1.07s/it]\n"
     ]
    },
    {
     "name": "stdout",
     "output_type": "stream",
     "text": [
      "\n",
      "      Epoch    GPU_mem   box_loss   cls_loss   dfl_loss  Instances       Size\n"
     ]
    },
    {
     "name": "stderr",
     "output_type": "stream",
     "text": [
      "     97/500      79.1G     0.5741     0.3824     0.9084         39       1120: 100%|██████████| 98/98 [01:45<00:00,  1.08s/it]\n"
     ]
    },
    {
     "name": "stdout",
     "output_type": "stream",
     "text": [
      "\n",
      "      Epoch    GPU_mem   box_loss   cls_loss   dfl_loss  Instances       Size\n"
     ]
    },
    {
     "name": "stderr",
     "output_type": "stream",
     "text": [
      "     98/500      79.1G     0.5674     0.3729     0.9103         35       1120: 100%|██████████| 98/98 [01:45<00:00,  1.07s/it]\n"
     ]
    },
    {
     "name": "stdout",
     "output_type": "stream",
     "text": [
      "\n",
      "      Epoch    GPU_mem   box_loss   cls_loss   dfl_loss  Instances       Size\n"
     ]
    },
    {
     "name": "stderr",
     "output_type": "stream",
     "text": [
      "     99/500      79.1G      0.566     0.3715     0.9072         37       1120: 100%|██████████| 98/98 [01:45<00:00,  1.07s/it]\n"
     ]
    },
    {
     "name": "stdout",
     "output_type": "stream",
     "text": [
      "\n",
      "      Epoch    GPU_mem   box_loss   cls_loss   dfl_loss  Instances       Size\n"
     ]
    },
    {
     "name": "stderr",
     "output_type": "stream",
     "text": [
      "    100/500      79.1G     0.5593     0.3682     0.9047         49       1120: 100%|██████████| 98/98 [01:45<00:00,  1.07s/it]\n"
     ]
    },
    {
     "name": "stdout",
     "output_type": "stream",
     "text": [
      "\n",
      "      Epoch    GPU_mem   box_loss   cls_loss   dfl_loss  Instances       Size\n"
     ]
    },
    {
     "name": "stderr",
     "output_type": "stream",
     "text": [
      "    101/500      79.1G     0.5628     0.3692     0.9035         41       1120: 100%|██████████| 98/98 [01:45<00:00,  1.07s/it]\n"
     ]
    },
    {
     "name": "stdout",
     "output_type": "stream",
     "text": [
      "\n",
      "      Epoch    GPU_mem   box_loss   cls_loss   dfl_loss  Instances       Size\n"
     ]
    },
    {
     "name": "stderr",
     "output_type": "stream",
     "text": [
      "    102/500      79.1G     0.5694     0.3709     0.9061         51       1120: 100%|██████████| 98/98 [01:45<00:00,  1.07s/it]\n"
     ]
    },
    {
     "name": "stdout",
     "output_type": "stream",
     "text": [
      "\n",
      "      Epoch    GPU_mem   box_loss   cls_loss   dfl_loss  Instances       Size\n"
     ]
    },
    {
     "name": "stderr",
     "output_type": "stream",
     "text": [
      "    103/500      79.1G     0.5594     0.3681     0.9026         47       1120: 100%|██████████| 98/98 [01:45<00:00,  1.07s/it]\n"
     ]
    },
    {
     "name": "stdout",
     "output_type": "stream",
     "text": [
      "\n",
      "      Epoch    GPU_mem   box_loss   cls_loss   dfl_loss  Instances       Size\n"
     ]
    },
    {
     "name": "stderr",
     "output_type": "stream",
     "text": [
      "    104/500      79.1G     0.5562     0.3603     0.9065         37       1120: 100%|██████████| 98/98 [01:45<00:00,  1.08s/it]\n"
     ]
    },
    {
     "name": "stdout",
     "output_type": "stream",
     "text": [
      "\n",
      "      Epoch    GPU_mem   box_loss   cls_loss   dfl_loss  Instances       Size\n"
     ]
    },
    {
     "name": "stderr",
     "output_type": "stream",
     "text": [
      "    105/500      79.1G     0.5549     0.3627     0.8988         56       1120: 100%|██████████| 98/98 [01:45<00:00,  1.08s/it]\n"
     ]
    },
    {
     "name": "stdout",
     "output_type": "stream",
     "text": [
      "\n",
      "      Epoch    GPU_mem   box_loss   cls_loss   dfl_loss  Instances       Size\n"
     ]
    },
    {
     "name": "stderr",
     "output_type": "stream",
     "text": [
      "    106/500      79.1G      0.554     0.3659     0.8992         44       1120: 100%|██████████| 98/98 [01:45<00:00,  1.08s/it]\n"
     ]
    },
    {
     "name": "stdout",
     "output_type": "stream",
     "text": [
      "\n",
      "      Epoch    GPU_mem   box_loss   cls_loss   dfl_loss  Instances       Size\n"
     ]
    },
    {
     "name": "stderr",
     "output_type": "stream",
     "text": [
      "    107/500      79.1G      0.555     0.3659     0.9057         43       1120: 100%|██████████| 98/98 [01:45<00:00,  1.07s/it]\n"
     ]
    },
    {
     "name": "stdout",
     "output_type": "stream",
     "text": [
      "\n",
      "      Epoch    GPU_mem   box_loss   cls_loss   dfl_loss  Instances       Size\n"
     ]
    },
    {
     "name": "stderr",
     "output_type": "stream",
     "text": [
      "    108/500      79.1G     0.5478     0.3527     0.8979         37       1120: 100%|██████████| 98/98 [01:45<00:00,  1.08s/it]\n"
     ]
    },
    {
     "name": "stdout",
     "output_type": "stream",
     "text": [
      "\n",
      "      Epoch    GPU_mem   box_loss   cls_loss   dfl_loss  Instances       Size\n"
     ]
    },
    {
     "name": "stderr",
     "output_type": "stream",
     "text": [
      "    109/500      79.1G     0.5566     0.3556     0.8997         44       1120: 100%|██████████| 98/98 [01:45<00:00,  1.08s/it]\n"
     ]
    },
    {
     "name": "stdout",
     "output_type": "stream",
     "text": [
      "\n",
      "      Epoch    GPU_mem   box_loss   cls_loss   dfl_loss  Instances       Size\n"
     ]
    },
    {
     "name": "stderr",
     "output_type": "stream",
     "text": [
      "    110/500      79.1G     0.5454     0.3567     0.8961         40       1120: 100%|██████████| 98/98 [01:45<00:00,  1.08s/it]\n"
     ]
    },
    {
     "name": "stdout",
     "output_type": "stream",
     "text": [
      "\n",
      "      Epoch    GPU_mem   box_loss   cls_loss   dfl_loss  Instances       Size\n"
     ]
    },
    {
     "name": "stderr",
     "output_type": "stream",
     "text": [
      "    111/500      79.1G     0.5471     0.3566     0.9012         45       1120: 100%|██████████| 98/98 [01:45<00:00,  1.08s/it]\n"
     ]
    },
    {
     "name": "stdout",
     "output_type": "stream",
     "text": [
      "\n",
      "      Epoch    GPU_mem   box_loss   cls_loss   dfl_loss  Instances       Size\n"
     ]
    },
    {
     "name": "stderr",
     "output_type": "stream",
     "text": [
      "    112/500      79.1G     0.5433     0.3575     0.8995         37       1120: 100%|██████████| 98/98 [01:45<00:00,  1.07s/it]\n"
     ]
    },
    {
     "name": "stdout",
     "output_type": "stream",
     "text": [
      "\n",
      "      Epoch    GPU_mem   box_loss   cls_loss   dfl_loss  Instances       Size\n"
     ]
    },
    {
     "name": "stderr",
     "output_type": "stream",
     "text": [
      "    113/500      79.4G     0.5441     0.3465     0.8969         32       1120: 100%|██████████| 98/98 [01:45<00:00,  1.08s/it]\n"
     ]
    },
    {
     "name": "stdout",
     "output_type": "stream",
     "text": [
      "\n",
      "      Epoch    GPU_mem   box_loss   cls_loss   dfl_loss  Instances       Size\n"
     ]
    },
    {
     "name": "stderr",
     "output_type": "stream",
     "text": [
      "    114/500      79.1G     0.5466     0.3545     0.8974         47       1120: 100%|██████████| 98/98 [01:45<00:00,  1.08s/it]\n"
     ]
    },
    {
     "name": "stdout",
     "output_type": "stream",
     "text": [
      "\n",
      "      Epoch    GPU_mem   box_loss   cls_loss   dfl_loss  Instances       Size\n"
     ]
    },
    {
     "name": "stderr",
     "output_type": "stream",
     "text": [
      "    115/500      79.6G     0.5421     0.3481     0.8916         35       1120: 100%|██████████| 98/98 [01:45<00:00,  1.08s/it]\n"
     ]
    },
    {
     "name": "stdout",
     "output_type": "stream",
     "text": [
      "\n",
      "      Epoch    GPU_mem   box_loss   cls_loss   dfl_loss  Instances       Size\n"
     ]
    },
    {
     "name": "stderr",
     "output_type": "stream",
     "text": [
      "    116/500      79.4G      0.545     0.3512      0.894         38       1120: 100%|██████████| 98/98 [01:45<00:00,  1.07s/it]\n"
     ]
    },
    {
     "name": "stdout",
     "output_type": "stream",
     "text": [
      "\n",
      "      Epoch    GPU_mem   box_loss   cls_loss   dfl_loss  Instances       Size\n"
     ]
    },
    {
     "name": "stderr",
     "output_type": "stream",
     "text": [
      "    117/500      79.1G     0.5394     0.3475     0.8929         46       1120: 100%|██████████| 98/98 [01:45<00:00,  1.08s/it]\n"
     ]
    },
    {
     "name": "stdout",
     "output_type": "stream",
     "text": [
      "\n",
      "      Epoch    GPU_mem   box_loss   cls_loss   dfl_loss  Instances       Size\n"
     ]
    },
    {
     "name": "stderr",
     "output_type": "stream",
     "text": [
      "    118/500      79.1G     0.5392     0.3497     0.8933         42       1120: 100%|██████████| 98/98 [01:45<00:00,  1.08s/it]\n"
     ]
    },
    {
     "name": "stdout",
     "output_type": "stream",
     "text": [
      "\n",
      "      Epoch    GPU_mem   box_loss   cls_loss   dfl_loss  Instances       Size\n"
     ]
    },
    {
     "name": "stderr",
     "output_type": "stream",
     "text": [
      "    119/500      79.1G     0.5376     0.3391     0.8932         33       1120: 100%|██████████| 98/98 [01:45<00:00,  1.08s/it]\n"
     ]
    },
    {
     "name": "stdout",
     "output_type": "stream",
     "text": [
      "\n",
      "      Epoch    GPU_mem   box_loss   cls_loss   dfl_loss  Instances       Size\n"
     ]
    },
    {
     "name": "stderr",
     "output_type": "stream",
     "text": [
      "    120/500      79.1G     0.5398     0.3437     0.8892         50       1120: 100%|██████████| 98/98 [01:45<00:00,  1.08s/it]\n"
     ]
    },
    {
     "name": "stdout",
     "output_type": "stream",
     "text": [
      "\n",
      "      Epoch    GPU_mem   box_loss   cls_loss   dfl_loss  Instances       Size\n"
     ]
    },
    {
     "name": "stderr",
     "output_type": "stream",
     "text": [
      "    121/500      79.1G     0.5371     0.3427     0.8921         30       1120: 100%|██████████| 98/98 [01:45<00:00,  1.08s/it]\n"
     ]
    },
    {
     "name": "stdout",
     "output_type": "stream",
     "text": [
      "\n",
      "      Epoch    GPU_mem   box_loss   cls_loss   dfl_loss  Instances       Size\n"
     ]
    },
    {
     "name": "stderr",
     "output_type": "stream",
     "text": [
      "    122/500      79.1G     0.5351     0.3458      0.891         26       1120: 100%|██████████| 98/98 [01:45<00:00,  1.07s/it]\n"
     ]
    },
    {
     "name": "stdout",
     "output_type": "stream",
     "text": [
      "\n",
      "      Epoch    GPU_mem   box_loss   cls_loss   dfl_loss  Instances       Size\n"
     ]
    },
    {
     "name": "stderr",
     "output_type": "stream",
     "text": [
      "    123/500      79.1G     0.5359     0.3425     0.8931         42       1120: 100%|██████████| 98/98 [01:45<00:00,  1.07s/it]\n"
     ]
    },
    {
     "name": "stdout",
     "output_type": "stream",
     "text": [
      "\n",
      "      Epoch    GPU_mem   box_loss   cls_loss   dfl_loss  Instances       Size\n"
     ]
    },
    {
     "name": "stderr",
     "output_type": "stream",
     "text": [
      "    124/500      79.1G     0.5356     0.3501       0.89         42       1120: 100%|██████████| 98/98 [01:45<00:00,  1.08s/it]\n"
     ]
    },
    {
     "name": "stdout",
     "output_type": "stream",
     "text": [
      "\n",
      "      Epoch    GPU_mem   box_loss   cls_loss   dfl_loss  Instances       Size\n"
     ]
    },
    {
     "name": "stderr",
     "output_type": "stream",
     "text": [
      "    125/500      79.1G     0.5286     0.3365     0.8887         37       1120: 100%|██████████| 98/98 [01:45<00:00,  1.08s/it]\n"
     ]
    },
    {
     "name": "stdout",
     "output_type": "stream",
     "text": [
      "\n",
      "      Epoch    GPU_mem   box_loss   cls_loss   dfl_loss  Instances       Size\n"
     ]
    },
    {
     "name": "stderr",
     "output_type": "stream",
     "text": [
      "    126/500      79.1G     0.5292     0.3389     0.8877         54       1120: 100%|██████████| 98/98 [01:45<00:00,  1.08s/it]\n"
     ]
    },
    {
     "name": "stdout",
     "output_type": "stream",
     "text": [
      "\n",
      "      Epoch    GPU_mem   box_loss   cls_loss   dfl_loss  Instances       Size\n"
     ]
    },
    {
     "name": "stderr",
     "output_type": "stream",
     "text": [
      "    127/500      79.1G      0.532     0.3392     0.8877         62       1120: 100%|██████████| 98/98 [01:45<00:00,  1.08s/it]\n"
     ]
    },
    {
     "name": "stdout",
     "output_type": "stream",
     "text": [
      "\n",
      "      Epoch    GPU_mem   box_loss   cls_loss   dfl_loss  Instances       Size\n"
     ]
    },
    {
     "name": "stderr",
     "output_type": "stream",
     "text": [
      "    128/500      79.1G     0.5239       0.33     0.8881         42       1120: 100%|██████████| 98/98 [01:45<00:00,  1.08s/it]\n"
     ]
    },
    {
     "name": "stdout",
     "output_type": "stream",
     "text": [
      "\n",
      "      Epoch    GPU_mem   box_loss   cls_loss   dfl_loss  Instances       Size\n"
     ]
    },
    {
     "name": "stderr",
     "output_type": "stream",
     "text": [
      "    129/500      79.1G     0.5267     0.3339      0.888         53       1120: 100%|██████████| 98/98 [01:45<00:00,  1.07s/it]\n"
     ]
    },
    {
     "name": "stdout",
     "output_type": "stream",
     "text": [
      "\n",
      "      Epoch    GPU_mem   box_loss   cls_loss   dfl_loss  Instances       Size\n"
     ]
    },
    {
     "name": "stderr",
     "output_type": "stream",
     "text": [
      "    130/500      79.1G     0.5246     0.3313     0.8843         33       1120: 100%|██████████| 98/98 [01:45<00:00,  1.08s/it]\n"
     ]
    },
    {
     "name": "stdout",
     "output_type": "stream",
     "text": [
      "\n",
      "      Epoch    GPU_mem   box_loss   cls_loss   dfl_loss  Instances       Size\n"
     ]
    },
    {
     "name": "stderr",
     "output_type": "stream",
     "text": [
      "    131/500      79.1G      0.524     0.3368     0.8884         38       1120: 100%|██████████| 98/98 [01:45<00:00,  1.07s/it]\n"
     ]
    },
    {
     "name": "stdout",
     "output_type": "stream",
     "text": [
      "\n",
      "      Epoch    GPU_mem   box_loss   cls_loss   dfl_loss  Instances       Size\n"
     ]
    },
    {
     "name": "stderr",
     "output_type": "stream",
     "text": [
      "    132/500      79.1G     0.5119     0.3247     0.8793         41       1120: 100%|██████████| 98/98 [01:45<00:00,  1.08s/it]\n"
     ]
    },
    {
     "name": "stdout",
     "output_type": "stream",
     "text": [
      "\n",
      "      Epoch    GPU_mem   box_loss   cls_loss   dfl_loss  Instances       Size\n"
     ]
    },
    {
     "name": "stderr",
     "output_type": "stream",
     "text": [
      "    133/500      79.1G     0.5118     0.3243     0.8796         52       1120: 100%|██████████| 98/98 [01:45<00:00,  1.08s/it]\n"
     ]
    },
    {
     "name": "stdout",
     "output_type": "stream",
     "text": [
      "\n",
      "      Epoch    GPU_mem   box_loss   cls_loss   dfl_loss  Instances       Size\n"
     ]
    },
    {
     "name": "stderr",
     "output_type": "stream",
     "text": [
      "    134/500      79.1G     0.5101     0.3206     0.8821         42       1120: 100%|██████████| 98/98 [01:45<00:00,  1.08s/it]\n"
     ]
    },
    {
     "name": "stdout",
     "output_type": "stream",
     "text": [
      "\n",
      "      Epoch    GPU_mem   box_loss   cls_loss   dfl_loss  Instances       Size\n"
     ]
    },
    {
     "name": "stderr",
     "output_type": "stream",
     "text": [
      "    135/500      79.1G     0.5166     0.3286     0.8824         52       1120: 100%|██████████| 98/98 [01:45<00:00,  1.08s/it]\n"
     ]
    },
    {
     "name": "stdout",
     "output_type": "stream",
     "text": [
      "\n",
      "      Epoch    GPU_mem   box_loss   cls_loss   dfl_loss  Instances       Size\n"
     ]
    },
    {
     "name": "stderr",
     "output_type": "stream",
     "text": [
      "    136/500      79.4G     0.5194     0.3251     0.8859         44       1120: 100%|██████████| 98/98 [01:45<00:00,  1.08s/it]\n"
     ]
    },
    {
     "name": "stdout",
     "output_type": "stream",
     "text": [
      "\n",
      "      Epoch    GPU_mem   box_loss   cls_loss   dfl_loss  Instances       Size\n"
     ]
    },
    {
     "name": "stderr",
     "output_type": "stream",
     "text": [
      "    137/500      79.1G     0.5132     0.3242     0.8835         28       1120: 100%|██████████| 98/98 [01:45<00:00,  1.08s/it]\n"
     ]
    },
    {
     "name": "stdout",
     "output_type": "stream",
     "text": [
      "\n",
      "      Epoch    GPU_mem   box_loss   cls_loss   dfl_loss  Instances       Size\n"
     ]
    },
    {
     "name": "stderr",
     "output_type": "stream",
     "text": [
      "    138/500      79.1G     0.5149     0.3282     0.8821         47       1120: 100%|██████████| 98/98 [01:45<00:00,  1.08s/it]\n"
     ]
    },
    {
     "name": "stdout",
     "output_type": "stream",
     "text": [
      "\n",
      "      Epoch    GPU_mem   box_loss   cls_loss   dfl_loss  Instances       Size\n"
     ]
    },
    {
     "name": "stderr",
     "output_type": "stream",
     "text": [
      "    139/500      79.1G     0.5168     0.3264      0.884         50       1120: 100%|██████████| 98/98 [01:45<00:00,  1.08s/it]\n"
     ]
    },
    {
     "name": "stdout",
     "output_type": "stream",
     "text": [
      "\n",
      "      Epoch    GPU_mem   box_loss   cls_loss   dfl_loss  Instances       Size\n"
     ]
    },
    {
     "name": "stderr",
     "output_type": "stream",
     "text": [
      "    140/500      79.1G     0.5074      0.322     0.8761         41       1120: 100%|██████████| 98/98 [01:45<00:00,  1.08s/it]\n"
     ]
    },
    {
     "name": "stdout",
     "output_type": "stream",
     "text": [
      "\n",
      "      Epoch    GPU_mem   box_loss   cls_loss   dfl_loss  Instances       Size\n"
     ]
    },
    {
     "name": "stderr",
     "output_type": "stream",
     "text": [
      "    141/500      79.1G     0.5096     0.3229     0.8782         41       1120: 100%|██████████| 98/98 [01:45<00:00,  1.08s/it]\n"
     ]
    },
    {
     "name": "stdout",
     "output_type": "stream",
     "text": [
      "\n",
      "      Epoch    GPU_mem   box_loss   cls_loss   dfl_loss  Instances       Size\n"
     ]
    },
    {
     "name": "stderr",
     "output_type": "stream",
     "text": [
      "    142/500      79.1G     0.5088     0.3228     0.8838         49       1120: 100%|██████████| 98/98 [01:45<00:00,  1.08s/it]\n"
     ]
    },
    {
     "name": "stdout",
     "output_type": "stream",
     "text": [
      "\n",
      "      Epoch    GPU_mem   box_loss   cls_loss   dfl_loss  Instances       Size\n"
     ]
    },
    {
     "name": "stderr",
     "output_type": "stream",
     "text": [
      "    143/500      79.1G     0.5096     0.3252     0.8798         45       1120: 100%|██████████| 98/98 [01:45<00:00,  1.08s/it]\n"
     ]
    },
    {
     "name": "stdout",
     "output_type": "stream",
     "text": [
      "\n",
      "      Epoch    GPU_mem   box_loss   cls_loss   dfl_loss  Instances       Size\n"
     ]
    },
    {
     "name": "stderr",
     "output_type": "stream",
     "text": [
      "    144/500      79.1G     0.5012     0.3168     0.8773         36       1120: 100%|██████████| 98/98 [01:45<00:00,  1.08s/it]\n"
     ]
    },
    {
     "name": "stdout",
     "output_type": "stream",
     "text": [
      "\n",
      "      Epoch    GPU_mem   box_loss   cls_loss   dfl_loss  Instances       Size\n"
     ]
    },
    {
     "name": "stderr",
     "output_type": "stream",
     "text": [
      "    145/500      79.1G     0.5094     0.3151     0.8801         38       1120: 100%|██████████| 98/98 [01:45<00:00,  1.07s/it]\n"
     ]
    },
    {
     "name": "stdout",
     "output_type": "stream",
     "text": [
      "\n",
      "      Epoch    GPU_mem   box_loss   cls_loss   dfl_loss  Instances       Size\n"
     ]
    },
    {
     "name": "stderr",
     "output_type": "stream",
     "text": [
      "    146/500      79.1G     0.5045     0.3197      0.879         41       1120: 100%|██████████| 98/98 [01:45<00:00,  1.08s/it]\n"
     ]
    },
    {
     "name": "stdout",
     "output_type": "stream",
     "text": [
      "\n",
      "      Epoch    GPU_mem   box_loss   cls_loss   dfl_loss  Instances       Size\n"
     ]
    },
    {
     "name": "stderr",
     "output_type": "stream",
     "text": [
      "    147/500      79.1G     0.5019     0.3185     0.8736         42       1120: 100%|██████████| 98/98 [01:45<00:00,  1.08s/it]\n"
     ]
    },
    {
     "name": "stdout",
     "output_type": "stream",
     "text": [
      "\n",
      "      Epoch    GPU_mem   box_loss   cls_loss   dfl_loss  Instances       Size\n"
     ]
    },
    {
     "name": "stderr",
     "output_type": "stream",
     "text": [
      "    148/500      79.1G     0.4975     0.3098     0.8762         42       1120: 100%|██████████| 98/98 [01:45<00:00,  1.08s/it]\n"
     ]
    },
    {
     "name": "stdout",
     "output_type": "stream",
     "text": [
      "\n",
      "      Epoch    GPU_mem   box_loss   cls_loss   dfl_loss  Instances       Size\n"
     ]
    },
    {
     "name": "stderr",
     "output_type": "stream",
     "text": [
      "    149/500      79.1G     0.5054     0.3145     0.8791         28       1120: 100%|██████████| 98/98 [01:45<00:00,  1.08s/it]\n"
     ]
    },
    {
     "name": "stdout",
     "output_type": "stream",
     "text": [
      "\n",
      "      Epoch    GPU_mem   box_loss   cls_loss   dfl_loss  Instances       Size\n"
     ]
    },
    {
     "name": "stderr",
     "output_type": "stream",
     "text": [
      "    150/500      79.1G     0.4962     0.3154     0.8732         40       1120: 100%|██████████| 98/98 [01:45<00:00,  1.08s/it]\n"
     ]
    },
    {
     "name": "stdout",
     "output_type": "stream",
     "text": [
      "\n",
      "      Epoch    GPU_mem   box_loss   cls_loss   dfl_loss  Instances       Size\n"
     ]
    },
    {
     "name": "stderr",
     "output_type": "stream",
     "text": [
      "    151/500      79.1G      0.497     0.3137     0.8741         53       1120: 100%|██████████| 98/98 [01:45<00:00,  1.08s/it]\n"
     ]
    },
    {
     "name": "stdout",
     "output_type": "stream",
     "text": [
      "\n",
      "      Epoch    GPU_mem   box_loss   cls_loss   dfl_loss  Instances       Size\n"
     ]
    },
    {
     "name": "stderr",
     "output_type": "stream",
     "text": [
      "    152/500      79.5G     0.4983     0.3172     0.8769         39       1120: 100%|██████████| 98/98 [01:45<00:00,  1.08s/it]\n"
     ]
    },
    {
     "name": "stdout",
     "output_type": "stream",
     "text": [
      "\n",
      "      Epoch    GPU_mem   box_loss   cls_loss   dfl_loss  Instances       Size\n"
     ]
    },
    {
     "name": "stderr",
     "output_type": "stream",
     "text": [
      "    153/500      79.1G      0.498     0.3152      0.872         32       1120: 100%|██████████| 98/98 [01:45<00:00,  1.08s/it]\n"
     ]
    },
    {
     "name": "stdout",
     "output_type": "stream",
     "text": [
      "\n",
      "      Epoch    GPU_mem   box_loss   cls_loss   dfl_loss  Instances       Size\n"
     ]
    },
    {
     "name": "stderr",
     "output_type": "stream",
     "text": [
      "    154/500      79.1G     0.4928      0.306     0.8723         45       1120: 100%|██████████| 98/98 [01:45<00:00,  1.08s/it]\n"
     ]
    },
    {
     "name": "stdout",
     "output_type": "stream",
     "text": [
      "\n",
      "      Epoch    GPU_mem   box_loss   cls_loss   dfl_loss  Instances       Size\n"
     ]
    },
    {
     "name": "stderr",
     "output_type": "stream",
     "text": [
      "    155/500      79.1G     0.4971     0.3118     0.8754         41       1120: 100%|██████████| 98/98 [01:45<00:00,  1.08s/it]\n"
     ]
    },
    {
     "name": "stdout",
     "output_type": "stream",
     "text": [
      "\n",
      "      Epoch    GPU_mem   box_loss   cls_loss   dfl_loss  Instances       Size\n"
     ]
    },
    {
     "name": "stderr",
     "output_type": "stream",
     "text": [
      "    156/500      79.1G     0.4922     0.3139     0.8777         30       1120: 100%|██████████| 98/98 [01:45<00:00,  1.08s/it]\n"
     ]
    },
    {
     "name": "stdout",
     "output_type": "stream",
     "text": [
      "\n",
      "      Epoch    GPU_mem   box_loss   cls_loss   dfl_loss  Instances       Size\n"
     ]
    },
    {
     "name": "stderr",
     "output_type": "stream",
     "text": [
      "    157/500      79.1G     0.4887      0.309     0.8724         36       1120: 100%|██████████| 98/98 [01:45<00:00,  1.07s/it]\n"
     ]
    },
    {
     "name": "stdout",
     "output_type": "stream",
     "text": [
      "\n",
      "      Epoch    GPU_mem   box_loss   cls_loss   dfl_loss  Instances       Size\n"
     ]
    },
    {
     "name": "stderr",
     "output_type": "stream",
     "text": [
      "    158/500      79.1G     0.4926     0.3129     0.8726         43       1120: 100%|██████████| 98/98 [01:45<00:00,  1.08s/it]\n"
     ]
    },
    {
     "name": "stdout",
     "output_type": "stream",
     "text": [
      "\n",
      "      Epoch    GPU_mem   box_loss   cls_loss   dfl_loss  Instances       Size\n"
     ]
    },
    {
     "name": "stderr",
     "output_type": "stream",
     "text": [
      "    159/500      79.1G     0.4889     0.3036     0.8726         43       1120: 100%|██████████| 98/98 [01:45<00:00,  1.08s/it]\n"
     ]
    },
    {
     "name": "stdout",
     "output_type": "stream",
     "text": [
      "\n",
      "      Epoch    GPU_mem   box_loss   cls_loss   dfl_loss  Instances       Size\n"
     ]
    },
    {
     "name": "stderr",
     "output_type": "stream",
     "text": [
      "    160/500      79.1G     0.4944     0.3114     0.8732         40       1120: 100%|██████████| 98/98 [01:45<00:00,  1.08s/it]\n"
     ]
    },
    {
     "name": "stdout",
     "output_type": "stream",
     "text": [
      "\n",
      "      Epoch    GPU_mem   box_loss   cls_loss   dfl_loss  Instances       Size\n"
     ]
    },
    {
     "name": "stderr",
     "output_type": "stream",
     "text": [
      "    161/500      79.1G     0.4921     0.3058     0.8726         27       1120: 100%|██████████| 98/98 [01:45<00:00,  1.08s/it]\n"
     ]
    },
    {
     "name": "stdout",
     "output_type": "stream",
     "text": [
      "\n",
      "      Epoch    GPU_mem   box_loss   cls_loss   dfl_loss  Instances       Size\n"
     ]
    },
    {
     "name": "stderr",
     "output_type": "stream",
     "text": [
      "    162/500      79.1G     0.4889      0.307     0.8723         41       1120: 100%|██████████| 98/98 [01:45<00:00,  1.08s/it]\n"
     ]
    },
    {
     "name": "stdout",
     "output_type": "stream",
     "text": [
      "\n",
      "      Epoch    GPU_mem   box_loss   cls_loss   dfl_loss  Instances       Size\n"
     ]
    },
    {
     "name": "stderr",
     "output_type": "stream",
     "text": [
      "    163/500      79.1G     0.4876     0.3077     0.8722         36       1120: 100%|██████████| 98/98 [01:45<00:00,  1.07s/it]\n"
     ]
    },
    {
     "name": "stdout",
     "output_type": "stream",
     "text": [
      "\n",
      "      Epoch    GPU_mem   box_loss   cls_loss   dfl_loss  Instances       Size\n"
     ]
    },
    {
     "name": "stderr",
     "output_type": "stream",
     "text": [
      "    164/500      79.1G     0.4872     0.3075     0.8696         34       1120: 100%|██████████| 98/98 [01:45<00:00,  1.08s/it]\n"
     ]
    },
    {
     "name": "stdout",
     "output_type": "stream",
     "text": [
      "\n",
      "      Epoch    GPU_mem   box_loss   cls_loss   dfl_loss  Instances       Size\n"
     ]
    },
    {
     "name": "stderr",
     "output_type": "stream",
     "text": [
      "    165/500      79.1G      0.485     0.2995     0.8709         36       1120: 100%|██████████| 98/98 [01:45<00:00,  1.08s/it]\n"
     ]
    },
    {
     "name": "stdout",
     "output_type": "stream",
     "text": [
      "\n",
      "      Epoch    GPU_mem   box_loss   cls_loss   dfl_loss  Instances       Size\n"
     ]
    },
    {
     "name": "stderr",
     "output_type": "stream",
     "text": [
      "    166/500      79.1G     0.4848     0.3078     0.8711         50       1120: 100%|██████████| 98/98 [01:45<00:00,  1.08s/it]\n"
     ]
    },
    {
     "name": "stdout",
     "output_type": "stream",
     "text": [
      "\n",
      "      Epoch    GPU_mem   box_loss   cls_loss   dfl_loss  Instances       Size\n"
     ]
    },
    {
     "name": "stderr",
     "output_type": "stream",
     "text": [
      "    167/500      79.1G     0.4848     0.3006       0.87         30       1120: 100%|██████████| 98/98 [01:45<00:00,  1.07s/it]\n"
     ]
    },
    {
     "name": "stdout",
     "output_type": "stream",
     "text": [
      "\n",
      "      Epoch    GPU_mem   box_loss   cls_loss   dfl_loss  Instances       Size\n"
     ]
    },
    {
     "name": "stderr",
     "output_type": "stream",
     "text": [
      "    168/500      79.1G     0.4842     0.3018     0.8718         41       1120: 100%|██████████| 98/98 [01:45<00:00,  1.07s/it]\n"
     ]
    },
    {
     "name": "stdout",
     "output_type": "stream",
     "text": [
      "\n",
      "      Epoch    GPU_mem   box_loss   cls_loss   dfl_loss  Instances       Size\n"
     ]
    },
    {
     "name": "stderr",
     "output_type": "stream",
     "text": [
      "    169/500      79.1G     0.4875      0.306     0.8695         51       1120: 100%|██████████| 98/98 [01:45<00:00,  1.08s/it]\n"
     ]
    },
    {
     "name": "stdout",
     "output_type": "stream",
     "text": [
      "\n",
      "      Epoch    GPU_mem   box_loss   cls_loss   dfl_loss  Instances       Size\n"
     ]
    },
    {
     "name": "stderr",
     "output_type": "stream",
     "text": [
      "    170/500      79.1G     0.4809     0.3003     0.8692         33       1120: 100%|██████████| 98/98 [01:45<00:00,  1.08s/it]\n"
     ]
    },
    {
     "name": "stdout",
     "output_type": "stream",
     "text": [
      "\n",
      "      Epoch    GPU_mem   box_loss   cls_loss   dfl_loss  Instances       Size\n"
     ]
    },
    {
     "name": "stderr",
     "output_type": "stream",
     "text": [
      "    171/500      79.1G     0.4769     0.3002     0.8649         39       1120: 100%|██████████| 98/98 [01:45<00:00,  1.08s/it]\n"
     ]
    },
    {
     "name": "stdout",
     "output_type": "stream",
     "text": [
      "\n",
      "      Epoch    GPU_mem   box_loss   cls_loss   dfl_loss  Instances       Size\n"
     ]
    },
    {
     "name": "stderr",
     "output_type": "stream",
     "text": [
      "    172/500      79.1G     0.4803     0.2977     0.8659         69       1120: 100%|██████████| 98/98 [01:45<00:00,  1.08s/it]\n"
     ]
    },
    {
     "name": "stdout",
     "output_type": "stream",
     "text": [
      "\n",
      "      Epoch    GPU_mem   box_loss   cls_loss   dfl_loss  Instances       Size\n"
     ]
    },
    {
     "name": "stderr",
     "output_type": "stream",
     "text": [
      "    173/500      79.1G     0.4716     0.2946     0.8675         44       1120: 100%|██████████| 98/98 [01:45<00:00,  1.08s/it]\n"
     ]
    },
    {
     "name": "stdout",
     "output_type": "stream",
     "text": [
      "\n",
      "      Epoch    GPU_mem   box_loss   cls_loss   dfl_loss  Instances       Size\n"
     ]
    },
    {
     "name": "stderr",
     "output_type": "stream",
     "text": [
      "    174/500      79.1G     0.4775     0.2959     0.8679         61       1120: 100%|██████████| 98/98 [01:45<00:00,  1.07s/it]\n"
     ]
    },
    {
     "name": "stdout",
     "output_type": "stream",
     "text": [
      "\n",
      "      Epoch    GPU_mem   box_loss   cls_loss   dfl_loss  Instances       Size\n"
     ]
    },
    {
     "name": "stderr",
     "output_type": "stream",
     "text": [
      "    175/500      79.1G     0.4701     0.2877     0.8635         33       1120: 100%|██████████| 98/98 [01:45<00:00,  1.08s/it]\n"
     ]
    },
    {
     "name": "stdout",
     "output_type": "stream",
     "text": [
      "\n",
      "      Epoch    GPU_mem   box_loss   cls_loss   dfl_loss  Instances       Size\n"
     ]
    },
    {
     "name": "stderr",
     "output_type": "stream",
     "text": [
      "    176/500      79.1G     0.4742      0.291     0.8679         34       1120: 100%|██████████| 98/98 [01:45<00:00,  1.08s/it]\n"
     ]
    },
    {
     "name": "stdout",
     "output_type": "stream",
     "text": [
      "\n",
      "      Epoch    GPU_mem   box_loss   cls_loss   dfl_loss  Instances       Size\n"
     ]
    },
    {
     "name": "stderr",
     "output_type": "stream",
     "text": [
      "    177/500      79.4G     0.4725     0.2929     0.8633         35       1120: 100%|██████████| 98/98 [01:45<00:00,  1.08s/it]\n"
     ]
    },
    {
     "name": "stdout",
     "output_type": "stream",
     "text": [
      "\n",
      "      Epoch    GPU_mem   box_loss   cls_loss   dfl_loss  Instances       Size\n"
     ]
    },
    {
     "name": "stderr",
     "output_type": "stream",
     "text": [
      "    178/500      79.1G     0.4763     0.2981     0.8645         24       1120: 100%|██████████| 98/98 [01:46<00:00,  1.08s/it]\n"
     ]
    },
    {
     "name": "stdout",
     "output_type": "stream",
     "text": [
      "\n",
      "      Epoch    GPU_mem   box_loss   cls_loss   dfl_loss  Instances       Size\n"
     ]
    },
    {
     "name": "stderr",
     "output_type": "stream",
     "text": [
      "    179/500      79.1G     0.4688     0.2908      0.861         38       1120: 100%|██████████| 98/98 [01:45<00:00,  1.08s/it]\n"
     ]
    },
    {
     "name": "stdout",
     "output_type": "stream",
     "text": [
      "\n",
      "      Epoch    GPU_mem   box_loss   cls_loss   dfl_loss  Instances       Size\n"
     ]
    },
    {
     "name": "stderr",
     "output_type": "stream",
     "text": [
      "    180/500      79.1G     0.4617     0.2825     0.8577         44       1120: 100%|██████████| 98/98 [01:45<00:00,  1.08s/it]\n"
     ]
    },
    {
     "name": "stdout",
     "output_type": "stream",
     "text": [
      "\n",
      "      Epoch    GPU_mem   box_loss   cls_loss   dfl_loss  Instances       Size\n"
     ]
    },
    {
     "name": "stderr",
     "output_type": "stream",
     "text": [
      "    181/500      79.1G       0.47     0.2914      0.864         44       1120: 100%|██████████| 98/98 [01:45<00:00,  1.08s/it]\n"
     ]
    },
    {
     "name": "stdout",
     "output_type": "stream",
     "text": [
      "\n",
      "      Epoch    GPU_mem   box_loss   cls_loss   dfl_loss  Instances       Size\n"
     ]
    },
    {
     "name": "stderr",
     "output_type": "stream",
     "text": [
      "    182/500      79.1G     0.4715     0.2994     0.8656         42       1120: 100%|██████████| 98/98 [01:45<00:00,  1.08s/it]\n"
     ]
    },
    {
     "name": "stdout",
     "output_type": "stream",
     "text": [
      "\n",
      "      Epoch    GPU_mem   box_loss   cls_loss   dfl_loss  Instances       Size\n"
     ]
    },
    {
     "name": "stderr",
     "output_type": "stream",
     "text": [
      "    183/500      79.1G     0.4679     0.2922     0.8608         47       1120: 100%|██████████| 98/98 [01:45<00:00,  1.08s/it]\n"
     ]
    },
    {
     "name": "stdout",
     "output_type": "stream",
     "text": [
      "\n",
      "      Epoch    GPU_mem   box_loss   cls_loss   dfl_loss  Instances       Size\n"
     ]
    },
    {
     "name": "stderr",
     "output_type": "stream",
     "text": [
      "    184/500      79.1G     0.4736      0.298     0.8657         41       1120: 100%|██████████| 98/98 [01:45<00:00,  1.08s/it]\n"
     ]
    },
    {
     "name": "stdout",
     "output_type": "stream",
     "text": [
      "\n",
      "      Epoch    GPU_mem   box_loss   cls_loss   dfl_loss  Instances       Size\n"
     ]
    },
    {
     "name": "stderr",
     "output_type": "stream",
     "text": [
      "    185/500      79.5G     0.4681     0.2918      0.864         45       1120: 100%|██████████| 98/98 [01:45<00:00,  1.08s/it]\n"
     ]
    },
    {
     "name": "stdout",
     "output_type": "stream",
     "text": [
      "\n",
      "      Epoch    GPU_mem   box_loss   cls_loss   dfl_loss  Instances       Size\n"
     ]
    },
    {
     "name": "stderr",
     "output_type": "stream",
     "text": [
      "    186/500      79.6G     0.4628     0.2846     0.8576         44       1120: 100%|██████████| 98/98 [01:45<00:00,  1.08s/it]\n"
     ]
    },
    {
     "name": "stdout",
     "output_type": "stream",
     "text": [
      "\n",
      "      Epoch    GPU_mem   box_loss   cls_loss   dfl_loss  Instances       Size\n"
     ]
    },
    {
     "name": "stderr",
     "output_type": "stream",
     "text": [
      "    187/500      79.1G     0.4645     0.2919     0.8627         51       1120: 100%|██████████| 98/98 [01:45<00:00,  1.08s/it]\n"
     ]
    },
    {
     "name": "stdout",
     "output_type": "stream",
     "text": [
      "\n",
      "      Epoch    GPU_mem   box_loss   cls_loss   dfl_loss  Instances       Size\n"
     ]
    },
    {
     "name": "stderr",
     "output_type": "stream",
     "text": [
      "    188/500      79.1G     0.4694     0.2869     0.8619         45       1120: 100%|██████████| 98/98 [01:45<00:00,  1.08s/it]\n"
     ]
    },
    {
     "name": "stdout",
     "output_type": "stream",
     "text": [
      "\n",
      "      Epoch    GPU_mem   box_loss   cls_loss   dfl_loss  Instances       Size\n"
     ]
    },
    {
     "name": "stderr",
     "output_type": "stream",
     "text": [
      "    189/500      79.1G     0.4581     0.2848     0.8596         42       1120: 100%|██████████| 98/98 [01:45<00:00,  1.08s/it]\n"
     ]
    },
    {
     "name": "stdout",
     "output_type": "stream",
     "text": [
      "\n",
      "      Epoch    GPU_mem   box_loss   cls_loss   dfl_loss  Instances       Size\n"
     ]
    },
    {
     "name": "stderr",
     "output_type": "stream",
     "text": [
      "    190/500      79.1G     0.4651     0.2869     0.8607         41       1120: 100%|██████████| 98/98 [01:45<00:00,  1.08s/it]\n"
     ]
    },
    {
     "name": "stdout",
     "output_type": "stream",
     "text": [
      "\n",
      "      Epoch    GPU_mem   box_loss   cls_loss   dfl_loss  Instances       Size\n"
     ]
    },
    {
     "name": "stderr",
     "output_type": "stream",
     "text": [
      "    191/500      79.1G     0.4653     0.2905     0.8651         44       1120: 100%|██████████| 98/98 [01:45<00:00,  1.07s/it]\n"
     ]
    },
    {
     "name": "stdout",
     "output_type": "stream",
     "text": [
      "\n",
      "      Epoch    GPU_mem   box_loss   cls_loss   dfl_loss  Instances       Size\n"
     ]
    },
    {
     "name": "stderr",
     "output_type": "stream",
     "text": [
      "    192/500      79.4G     0.4567     0.2824     0.8582         36       1120: 100%|██████████| 98/98 [01:45<00:00,  1.08s/it]\n"
     ]
    },
    {
     "name": "stdout",
     "output_type": "stream",
     "text": [
      "\n",
      "      Epoch    GPU_mem   box_loss   cls_loss   dfl_loss  Instances       Size\n"
     ]
    },
    {
     "name": "stderr",
     "output_type": "stream",
     "text": [
      "    193/500      79.1G     0.4613      0.284     0.8594         44       1120: 100%|██████████| 98/98 [01:45<00:00,  1.08s/it]\n"
     ]
    },
    {
     "name": "stdout",
     "output_type": "stream",
     "text": [
      "\n",
      "      Epoch    GPU_mem   box_loss   cls_loss   dfl_loss  Instances       Size\n"
     ]
    },
    {
     "name": "stderr",
     "output_type": "stream",
     "text": [
      "    194/500      79.1G     0.4588     0.2827      0.859         47       1120: 100%|██████████| 98/98 [01:45<00:00,  1.07s/it]\n"
     ]
    },
    {
     "name": "stdout",
     "output_type": "stream",
     "text": [
      "\n",
      "      Epoch    GPU_mem   box_loss   cls_loss   dfl_loss  Instances       Size\n"
     ]
    },
    {
     "name": "stderr",
     "output_type": "stream",
     "text": [
      "    195/500      79.1G     0.4617     0.2851     0.8623         34       1120: 100%|██████████| 98/98 [01:45<00:00,  1.08s/it]\n"
     ]
    },
    {
     "name": "stdout",
     "output_type": "stream",
     "text": [
      "\n",
      "      Epoch    GPU_mem   box_loss   cls_loss   dfl_loss  Instances       Size\n"
     ]
    },
    {
     "name": "stderr",
     "output_type": "stream",
     "text": [
      "    196/500      79.1G     0.4588     0.2807     0.8583         37       1120: 100%|██████████| 98/98 [01:45<00:00,  1.07s/it]\n"
     ]
    },
    {
     "name": "stdout",
     "output_type": "stream",
     "text": [
      "\n",
      "      Epoch    GPU_mem   box_loss   cls_loss   dfl_loss  Instances       Size\n"
     ]
    },
    {
     "name": "stderr",
     "output_type": "stream",
     "text": [
      "    197/500      79.1G     0.4604      0.283     0.8621         47       1120: 100%|██████████| 98/98 [01:45<00:00,  1.08s/it]\n"
     ]
    },
    {
     "name": "stdout",
     "output_type": "stream",
     "text": [
      "\n",
      "      Epoch    GPU_mem   box_loss   cls_loss   dfl_loss  Instances       Size\n"
     ]
    },
    {
     "name": "stderr",
     "output_type": "stream",
     "text": [
      "    198/500      79.1G     0.4623     0.2846     0.8619         35       1120: 100%|██████████| 98/98 [01:45<00:00,  1.07s/it]\n"
     ]
    },
    {
     "name": "stdout",
     "output_type": "stream",
     "text": [
      "\n",
      "      Epoch    GPU_mem   box_loss   cls_loss   dfl_loss  Instances       Size\n"
     ]
    },
    {
     "name": "stderr",
     "output_type": "stream",
     "text": [
      "    199/500      79.1G     0.4531     0.2852     0.8568         40       1120: 100%|██████████| 98/98 [01:45<00:00,  1.07s/it]\n"
     ]
    },
    {
     "name": "stdout",
     "output_type": "stream",
     "text": [
      "\n",
      "      Epoch    GPU_mem   box_loss   cls_loss   dfl_loss  Instances       Size\n"
     ]
    },
    {
     "name": "stderr",
     "output_type": "stream",
     "text": [
      "    200/500      79.1G     0.4558     0.2824     0.8567         48       1120: 100%|██████████| 98/98 [01:45<00:00,  1.08s/it]\n"
     ]
    },
    {
     "name": "stdout",
     "output_type": "stream",
     "text": [
      "\n",
      "      Epoch    GPU_mem   box_loss   cls_loss   dfl_loss  Instances       Size\n"
     ]
    },
    {
     "name": "stderr",
     "output_type": "stream",
     "text": [
      "    201/500      79.1G     0.4567      0.283     0.8596         47       1120: 100%|██████████| 98/98 [01:45<00:00,  1.08s/it]\n"
     ]
    },
    {
     "name": "stdout",
     "output_type": "stream",
     "text": [
      "\n",
      "      Epoch    GPU_mem   box_loss   cls_loss   dfl_loss  Instances       Size\n"
     ]
    },
    {
     "name": "stderr",
     "output_type": "stream",
     "text": [
      "    202/500      79.5G     0.4568     0.2801     0.8595         40       1120: 100%|██████████| 98/98 [01:45<00:00,  1.08s/it]\n"
     ]
    },
    {
     "name": "stdout",
     "output_type": "stream",
     "text": [
      "\n",
      "      Epoch    GPU_mem   box_loss   cls_loss   dfl_loss  Instances       Size\n"
     ]
    },
    {
     "name": "stderr",
     "output_type": "stream",
     "text": [
      "    203/500      79.1G     0.4532      0.277     0.8573         50       1120: 100%|██████████| 98/98 [01:45<00:00,  1.08s/it]\n"
     ]
    },
    {
     "name": "stdout",
     "output_type": "stream",
     "text": [
      "\n",
      "      Epoch    GPU_mem   box_loss   cls_loss   dfl_loss  Instances       Size\n"
     ]
    },
    {
     "name": "stderr",
     "output_type": "stream",
     "text": [
      "    204/500      79.1G     0.4506     0.2806     0.8566         50       1120: 100%|██████████| 98/98 [01:45<00:00,  1.08s/it]\n"
     ]
    },
    {
     "name": "stdout",
     "output_type": "stream",
     "text": [
      "\n",
      "      Epoch    GPU_mem   box_loss   cls_loss   dfl_loss  Instances       Size\n"
     ]
    },
    {
     "name": "stderr",
     "output_type": "stream",
     "text": [
      "    205/500      79.1G     0.4563     0.2817     0.8582         37       1120: 100%|██████████| 98/98 [01:45<00:00,  1.08s/it]\n"
     ]
    },
    {
     "name": "stdout",
     "output_type": "stream",
     "text": [
      "\n",
      "      Epoch    GPU_mem   box_loss   cls_loss   dfl_loss  Instances       Size\n"
     ]
    },
    {
     "name": "stderr",
     "output_type": "stream",
     "text": [
      "    206/500      79.1G      0.451     0.2798     0.8588         35       1120: 100%|██████████| 98/98 [01:45<00:00,  1.08s/it]\n"
     ]
    },
    {
     "name": "stdout",
     "output_type": "stream",
     "text": [
      "\n",
      "      Epoch    GPU_mem   box_loss   cls_loss   dfl_loss  Instances       Size\n"
     ]
    },
    {
     "name": "stderr",
     "output_type": "stream",
     "text": [
      "    207/500      79.1G     0.4495     0.2805     0.8563         42       1120: 100%|██████████| 98/98 [01:45<00:00,  1.08s/it]\n"
     ]
    },
    {
     "name": "stdout",
     "output_type": "stream",
     "text": [
      "\n",
      "      Epoch    GPU_mem   box_loss   cls_loss   dfl_loss  Instances       Size\n"
     ]
    },
    {
     "name": "stderr",
     "output_type": "stream",
     "text": [
      "    208/500      79.1G      0.449     0.2829     0.8582         58       1120: 100%|██████████| 98/98 [01:45<00:00,  1.08s/it]\n"
     ]
    },
    {
     "name": "stdout",
     "output_type": "stream",
     "text": [
      "\n",
      "      Epoch    GPU_mem   box_loss   cls_loss   dfl_loss  Instances       Size\n"
     ]
    },
    {
     "name": "stderr",
     "output_type": "stream",
     "text": [
      "    209/500      79.1G     0.4499      0.282     0.8542         54       1120: 100%|██████████| 98/98 [01:45<00:00,  1.08s/it]\n"
     ]
    },
    {
     "name": "stdout",
     "output_type": "stream",
     "text": [
      "\n",
      "      Epoch    GPU_mem   box_loss   cls_loss   dfl_loss  Instances       Size\n"
     ]
    },
    {
     "name": "stderr",
     "output_type": "stream",
     "text": [
      "    210/500      79.1G     0.4485     0.2758     0.8582         45       1120: 100%|██████████| 98/98 [01:45<00:00,  1.08s/it]\n"
     ]
    },
    {
     "name": "stdout",
     "output_type": "stream",
     "text": [
      "\n",
      "      Epoch    GPU_mem   box_loss   cls_loss   dfl_loss  Instances       Size\n"
     ]
    },
    {
     "name": "stderr",
     "output_type": "stream",
     "text": [
      "    211/500      79.1G     0.4467     0.2766     0.8561         57       1120: 100%|██████████| 98/98 [01:45<00:00,  1.08s/it]\n"
     ]
    },
    {
     "name": "stdout",
     "output_type": "stream",
     "text": [
      "\n",
      "      Epoch    GPU_mem   box_loss   cls_loss   dfl_loss  Instances       Size\n"
     ]
    },
    {
     "name": "stderr",
     "output_type": "stream",
     "text": [
      "    212/500      79.6G     0.4416     0.2748     0.8529         54       1120: 100%|██████████| 98/98 [01:45<00:00,  1.08s/it]\n"
     ]
    },
    {
     "name": "stdout",
     "output_type": "stream",
     "text": [
      "\n",
      "      Epoch    GPU_mem   box_loss   cls_loss   dfl_loss  Instances       Size\n"
     ]
    },
    {
     "name": "stderr",
     "output_type": "stream",
     "text": [
      "    213/500      79.1G     0.4453     0.2759     0.8541         44       1120: 100%|██████████| 98/98 [01:45<00:00,  1.07s/it]\n"
     ]
    },
    {
     "name": "stdout",
     "output_type": "stream",
     "text": [
      "\n",
      "      Epoch    GPU_mem   box_loss   cls_loss   dfl_loss  Instances       Size\n"
     ]
    },
    {
     "name": "stderr",
     "output_type": "stream",
     "text": [
      "    214/500      79.1G     0.4411     0.2735     0.8527         44       1120: 100%|██████████| 98/98 [01:45<00:00,  1.07s/it]\n"
     ]
    },
    {
     "name": "stdout",
     "output_type": "stream",
     "text": [
      "\n",
      "      Epoch    GPU_mem   box_loss   cls_loss   dfl_loss  Instances       Size\n"
     ]
    },
    {
     "name": "stderr",
     "output_type": "stream",
     "text": [
      "    215/500      79.1G     0.4447     0.2803     0.8543         41       1120: 100%|██████████| 98/98 [01:45<00:00,  1.07s/it]\n"
     ]
    },
    {
     "name": "stdout",
     "output_type": "stream",
     "text": [
      "\n",
      "      Epoch    GPU_mem   box_loss   cls_loss   dfl_loss  Instances       Size\n"
     ]
    },
    {
     "name": "stderr",
     "output_type": "stream",
     "text": [
      "    216/500      79.1G     0.4453     0.2753      0.855         38       1120: 100%|██████████| 98/98 [01:45<00:00,  1.07s/it]\n"
     ]
    },
    {
     "name": "stdout",
     "output_type": "stream",
     "text": [
      "\n",
      "      Epoch    GPU_mem   box_loss   cls_loss   dfl_loss  Instances       Size\n"
     ]
    },
    {
     "name": "stderr",
     "output_type": "stream",
     "text": [
      "    217/500      79.1G     0.4415     0.2739     0.8555         36       1120: 100%|██████████| 98/98 [01:45<00:00,  1.07s/it]\n"
     ]
    },
    {
     "name": "stdout",
     "output_type": "stream",
     "text": [
      "\n",
      "      Epoch    GPU_mem   box_loss   cls_loss   dfl_loss  Instances       Size\n"
     ]
    },
    {
     "name": "stderr",
     "output_type": "stream",
     "text": [
      "    218/500      79.1G     0.4471     0.2744     0.8549         37       1120: 100%|██████████| 98/98 [01:45<00:00,  1.08s/it]\n"
     ]
    },
    {
     "name": "stdout",
     "output_type": "stream",
     "text": [
      "\n",
      "      Epoch    GPU_mem   box_loss   cls_loss   dfl_loss  Instances       Size\n"
     ]
    },
    {
     "name": "stderr",
     "output_type": "stream",
     "text": [
      "    219/500      79.1G     0.4422     0.2725     0.8515         39       1120: 100%|██████████| 98/98 [01:45<00:00,  1.07s/it]\n"
     ]
    },
    {
     "name": "stdout",
     "output_type": "stream",
     "text": [
      "\n",
      "      Epoch    GPU_mem   box_loss   cls_loss   dfl_loss  Instances       Size\n"
     ]
    },
    {
     "name": "stderr",
     "output_type": "stream",
     "text": [
      "    220/500      79.1G     0.4421     0.2733     0.8567         40       1120: 100%|██████████| 98/98 [01:45<00:00,  1.07s/it]\n"
     ]
    },
    {
     "name": "stdout",
     "output_type": "stream",
     "text": [
      "\n",
      "      Epoch    GPU_mem   box_loss   cls_loss   dfl_loss  Instances       Size\n"
     ]
    },
    {
     "name": "stderr",
     "output_type": "stream",
     "text": [
      "    221/500      79.1G     0.4405     0.2738     0.8531         59       1120: 100%|██████████| 98/98 [01:45<00:00,  1.07s/it]\n"
     ]
    },
    {
     "name": "stdout",
     "output_type": "stream",
     "text": [
      "\n",
      "      Epoch    GPU_mem   box_loss   cls_loss   dfl_loss  Instances       Size\n"
     ]
    },
    {
     "name": "stderr",
     "output_type": "stream",
     "text": [
      "    222/500      79.1G      0.436     0.2704     0.8491         40       1120: 100%|██████████| 98/98 [01:45<00:00,  1.07s/it]\n"
     ]
    },
    {
     "name": "stdout",
     "output_type": "stream",
     "text": [
      "\n",
      "      Epoch    GPU_mem   box_loss   cls_loss   dfl_loss  Instances       Size\n"
     ]
    },
    {
     "name": "stderr",
     "output_type": "stream",
     "text": [
      "    223/500      79.1G     0.4353     0.2639     0.8502         25       1120: 100%|██████████| 98/98 [01:45<00:00,  1.08s/it]\n"
     ]
    },
    {
     "name": "stdout",
     "output_type": "stream",
     "text": [
      "\n",
      "      Epoch    GPU_mem   box_loss   cls_loss   dfl_loss  Instances       Size\n"
     ]
    },
    {
     "name": "stderr",
     "output_type": "stream",
     "text": [
      "    224/500      79.1G     0.4441     0.2697     0.8553         38       1120: 100%|██████████| 98/98 [01:45<00:00,  1.08s/it]\n"
     ]
    },
    {
     "name": "stdout",
     "output_type": "stream",
     "text": [
      "\n",
      "      Epoch    GPU_mem   box_loss   cls_loss   dfl_loss  Instances       Size\n"
     ]
    },
    {
     "name": "stderr",
     "output_type": "stream",
     "text": [
      "    225/500      79.1G     0.4385      0.272     0.8526         37       1120: 100%|██████████| 98/98 [01:45<00:00,  1.07s/it]\n"
     ]
    },
    {
     "name": "stdout",
     "output_type": "stream",
     "text": [
      "\n",
      "      Epoch    GPU_mem   box_loss   cls_loss   dfl_loss  Instances       Size\n"
     ]
    },
    {
     "name": "stderr",
     "output_type": "stream",
     "text": [
      "    226/500      79.1G     0.4309     0.2689     0.8502         50       1120: 100%|██████████| 98/98 [01:45<00:00,  1.07s/it]\n"
     ]
    },
    {
     "name": "stdout",
     "output_type": "stream",
     "text": [
      "\n",
      "      Epoch    GPU_mem   box_loss   cls_loss   dfl_loss  Instances       Size\n"
     ]
    },
    {
     "name": "stderr",
     "output_type": "stream",
     "text": [
      "    227/500      79.1G     0.4354     0.2726     0.8495         44       1120: 100%|██████████| 98/98 [01:45<00:00,  1.07s/it]\n"
     ]
    },
    {
     "name": "stdout",
     "output_type": "stream",
     "text": [
      "\n",
      "      Epoch    GPU_mem   box_loss   cls_loss   dfl_loss  Instances       Size\n"
     ]
    },
    {
     "name": "stderr",
     "output_type": "stream",
     "text": [
      "    228/500      79.1G     0.4312     0.2705     0.8512         49       1120: 100%|██████████| 98/98 [01:45<00:00,  1.07s/it]\n"
     ]
    },
    {
     "name": "stdout",
     "output_type": "stream",
     "text": [
      "\n",
      "      Epoch    GPU_mem   box_loss   cls_loss   dfl_loss  Instances       Size\n"
     ]
    },
    {
     "name": "stderr",
     "output_type": "stream",
     "text": [
      "    229/500      79.4G     0.4299     0.2672     0.8492         39       1120: 100%|██████████| 98/98 [01:45<00:00,  1.07s/it]\n"
     ]
    },
    {
     "name": "stdout",
     "output_type": "stream",
     "text": [
      "\n",
      "      Epoch    GPU_mem   box_loss   cls_loss   dfl_loss  Instances       Size\n"
     ]
    },
    {
     "name": "stderr",
     "output_type": "stream",
     "text": [
      "    230/500      79.1G     0.4356     0.2705     0.8487         41       1120: 100%|██████████| 98/98 [01:45<00:00,  1.07s/it]\n"
     ]
    },
    {
     "name": "stdout",
     "output_type": "stream",
     "text": [
      "\n",
      "      Epoch    GPU_mem   box_loss   cls_loss   dfl_loss  Instances       Size\n"
     ]
    },
    {
     "name": "stderr",
     "output_type": "stream",
     "text": [
      "    231/500      79.1G     0.4292     0.2658     0.8482         40       1120: 100%|██████████| 98/98 [01:45<00:00,  1.08s/it]\n"
     ]
    },
    {
     "name": "stdout",
     "output_type": "stream",
     "text": [
      "\n",
      "      Epoch    GPU_mem   box_loss   cls_loss   dfl_loss  Instances       Size\n"
     ]
    },
    {
     "name": "stderr",
     "output_type": "stream",
     "text": [
      "    232/500      79.1G     0.4256      0.261     0.8467         44       1120: 100%|██████████| 98/98 [01:45<00:00,  1.07s/it]\n"
     ]
    },
    {
     "name": "stdout",
     "output_type": "stream",
     "text": [
      "\n",
      "      Epoch    GPU_mem   box_loss   cls_loss   dfl_loss  Instances       Size\n"
     ]
    },
    {
     "name": "stderr",
     "output_type": "stream",
     "text": [
      "    233/500      79.1G     0.4317      0.265     0.8493         45       1120: 100%|██████████| 98/98 [01:45<00:00,  1.07s/it]\n"
     ]
    },
    {
     "name": "stdout",
     "output_type": "stream",
     "text": [
      "\n",
      "      Epoch    GPU_mem   box_loss   cls_loss   dfl_loss  Instances       Size\n"
     ]
    },
    {
     "name": "stderr",
     "output_type": "stream",
     "text": [
      "    234/500      79.1G     0.4256     0.2633      0.849         48       1120: 100%|██████████| 98/98 [01:45<00:00,  1.07s/it]\n"
     ]
    },
    {
     "name": "stdout",
     "output_type": "stream",
     "text": [
      "\n",
      "      Epoch    GPU_mem   box_loss   cls_loss   dfl_loss  Instances       Size\n"
     ]
    },
    {
     "name": "stderr",
     "output_type": "stream",
     "text": [
      "    235/500      79.1G     0.4272     0.2619     0.8487         31       1120: 100%|██████████| 98/98 [01:45<00:00,  1.07s/it]\n"
     ]
    },
    {
     "name": "stdout",
     "output_type": "stream",
     "text": [
      "\n",
      "      Epoch    GPU_mem   box_loss   cls_loss   dfl_loss  Instances       Size\n"
     ]
    },
    {
     "name": "stderr",
     "output_type": "stream",
     "text": [
      "    236/500      79.1G     0.4259     0.2593     0.8478         45       1120: 100%|██████████| 98/98 [01:45<00:00,  1.07s/it]\n"
     ]
    },
    {
     "name": "stdout",
     "output_type": "stream",
     "text": [
      "\n",
      "      Epoch    GPU_mem   box_loss   cls_loss   dfl_loss  Instances       Size\n"
     ]
    },
    {
     "name": "stderr",
     "output_type": "stream",
     "text": [
      "    237/500      79.1G     0.4268     0.2616      0.847         42       1120: 100%|██████████| 98/98 [01:45<00:00,  1.07s/it]\n"
     ]
    },
    {
     "name": "stdout",
     "output_type": "stream",
     "text": [
      "\n",
      "      Epoch    GPU_mem   box_loss   cls_loss   dfl_loss  Instances       Size\n"
     ]
    },
    {
     "name": "stderr",
     "output_type": "stream",
     "text": [
      "    238/500      79.1G      0.424     0.2643     0.8458         37       1120: 100%|██████████| 98/98 [01:45<00:00,  1.07s/it]\n"
     ]
    },
    {
     "name": "stdout",
     "output_type": "stream",
     "text": [
      "\n",
      "      Epoch    GPU_mem   box_loss   cls_loss   dfl_loss  Instances       Size\n"
     ]
    },
    {
     "name": "stderr",
     "output_type": "stream",
     "text": [
      "    239/500      79.1G     0.4268      0.264     0.8483         42       1120: 100%|██████████| 98/98 [01:45<00:00,  1.07s/it]\n"
     ]
    },
    {
     "name": "stdout",
     "output_type": "stream",
     "text": [
      "\n",
      "      Epoch    GPU_mem   box_loss   cls_loss   dfl_loss  Instances       Size\n"
     ]
    },
    {
     "name": "stderr",
     "output_type": "stream",
     "text": [
      "    240/500      79.1G     0.4243     0.2609     0.8485         45       1120: 100%|██████████| 98/98 [01:45<00:00,  1.07s/it]\n"
     ]
    },
    {
     "name": "stdout",
     "output_type": "stream",
     "text": [
      "\n",
      "      Epoch    GPU_mem   box_loss   cls_loss   dfl_loss  Instances       Size\n"
     ]
    },
    {
     "name": "stderr",
     "output_type": "stream",
     "text": [
      "    241/500      80.2G     0.4294     0.2617     0.8488         49       1120: 100%|██████████| 98/98 [01:45<00:00,  1.07s/it]\n"
     ]
    },
    {
     "name": "stdout",
     "output_type": "stream",
     "text": [
      "\n",
      "      Epoch    GPU_mem   box_loss   cls_loss   dfl_loss  Instances       Size\n"
     ]
    },
    {
     "name": "stderr",
     "output_type": "stream",
     "text": [
      "    242/500      79.1G     0.4231     0.2622     0.8465         47       1120: 100%|██████████| 98/98 [01:45<00:00,  1.07s/it]\n"
     ]
    },
    {
     "name": "stdout",
     "output_type": "stream",
     "text": [
      "\n",
      "      Epoch    GPU_mem   box_loss   cls_loss   dfl_loss  Instances       Size\n"
     ]
    },
    {
     "name": "stderr",
     "output_type": "stream",
     "text": [
      "    243/500      79.1G      0.425     0.2642     0.8483         44       1120: 100%|██████████| 98/98 [01:45<00:00,  1.07s/it]\n"
     ]
    },
    {
     "name": "stdout",
     "output_type": "stream",
     "text": [
      "\n",
      "      Epoch    GPU_mem   box_loss   cls_loss   dfl_loss  Instances       Size\n"
     ]
    },
    {
     "name": "stderr",
     "output_type": "stream",
     "text": [
      "    244/500      79.1G      0.425     0.2618     0.8478         44       1120: 100%|██████████| 98/98 [01:45<00:00,  1.07s/it]\n"
     ]
    },
    {
     "name": "stdout",
     "output_type": "stream",
     "text": [
      "\n",
      "      Epoch    GPU_mem   box_loss   cls_loss   dfl_loss  Instances       Size\n"
     ]
    },
    {
     "name": "stderr",
     "output_type": "stream",
     "text": [
      "    245/500      79.1G     0.4268     0.2619     0.8506         39       1120: 100%|██████████| 98/98 [01:45<00:00,  1.08s/it]\n"
     ]
    },
    {
     "name": "stdout",
     "output_type": "stream",
     "text": [
      "\n",
      "      Epoch    GPU_mem   box_loss   cls_loss   dfl_loss  Instances       Size\n"
     ]
    },
    {
     "name": "stderr",
     "output_type": "stream",
     "text": [
      "    246/500      79.1G     0.4243     0.2605     0.8477         46       1120: 100%|██████████| 98/98 [01:45<00:00,  1.08s/it]\n"
     ]
    },
    {
     "name": "stdout",
     "output_type": "stream",
     "text": [
      "\n",
      "      Epoch    GPU_mem   box_loss   cls_loss   dfl_loss  Instances       Size\n"
     ]
    },
    {
     "name": "stderr",
     "output_type": "stream",
     "text": [
      "    247/500      79.1G     0.4191     0.2587      0.847         41       1120: 100%|██████████| 98/98 [01:45<00:00,  1.08s/it]\n"
     ]
    },
    {
     "name": "stdout",
     "output_type": "stream",
     "text": [
      "\n",
      "      Epoch    GPU_mem   box_loss   cls_loss   dfl_loss  Instances       Size\n"
     ]
    },
    {
     "name": "stderr",
     "output_type": "stream",
     "text": [
      "    248/500      79.1G     0.4152     0.2607     0.8466         35       1120: 100%|██████████| 98/98 [01:45<00:00,  1.07s/it]\n"
     ]
    },
    {
     "name": "stdout",
     "output_type": "stream",
     "text": [
      "\n",
      "      Epoch    GPU_mem   box_loss   cls_loss   dfl_loss  Instances       Size\n"
     ]
    },
    {
     "name": "stderr",
     "output_type": "stream",
     "text": [
      "    249/500      79.1G     0.4155     0.2553     0.8469         44       1120: 100%|██████████| 98/98 [01:45<00:00,  1.08s/it]\n"
     ]
    },
    {
     "name": "stdout",
     "output_type": "stream",
     "text": [
      "\n",
      "      Epoch    GPU_mem   box_loss   cls_loss   dfl_loss  Instances       Size\n"
     ]
    },
    {
     "name": "stderr",
     "output_type": "stream",
     "text": [
      "    250/500      79.1G     0.4148     0.2535     0.8427         39       1120: 100%|██████████| 98/98 [01:45<00:00,  1.07s/it]\n"
     ]
    },
    {
     "name": "stdout",
     "output_type": "stream",
     "text": [
      "\n",
      "      Epoch    GPU_mem   box_loss   cls_loss   dfl_loss  Instances       Size\n"
     ]
    },
    {
     "name": "stderr",
     "output_type": "stream",
     "text": [
      "    251/500      79.1G     0.4162     0.2568     0.8433         50       1120: 100%|██████████| 98/98 [01:45<00:00,  1.07s/it]\n"
     ]
    },
    {
     "name": "stdout",
     "output_type": "stream",
     "text": [
      "\n",
      "      Epoch    GPU_mem   box_loss   cls_loss   dfl_loss  Instances       Size\n"
     ]
    },
    {
     "name": "stderr",
     "output_type": "stream",
     "text": [
      "    252/500      79.1G     0.4184     0.2631     0.8451         34       1120: 100%|██████████| 98/98 [01:45<00:00,  1.07s/it]\n"
     ]
    },
    {
     "name": "stdout",
     "output_type": "stream",
     "text": [
      "\n",
      "      Epoch    GPU_mem   box_loss   cls_loss   dfl_loss  Instances       Size\n"
     ]
    },
    {
     "name": "stderr",
     "output_type": "stream",
     "text": [
      "    253/500      79.1G     0.4117     0.2513     0.8432         39       1120: 100%|██████████| 98/98 [01:45<00:00,  1.08s/it]\n"
     ]
    },
    {
     "name": "stdout",
     "output_type": "stream",
     "text": [
      "\n",
      "      Epoch    GPU_mem   box_loss   cls_loss   dfl_loss  Instances       Size\n"
     ]
    },
    {
     "name": "stderr",
     "output_type": "stream",
     "text": [
      "    254/500      79.6G     0.4127     0.2533     0.8471         44       1120: 100%|██████████| 98/98 [01:45<00:00,  1.07s/it]\n"
     ]
    },
    {
     "name": "stdout",
     "output_type": "stream",
     "text": [
      "\n",
      "      Epoch    GPU_mem   box_loss   cls_loss   dfl_loss  Instances       Size\n"
     ]
    },
    {
     "name": "stderr",
     "output_type": "stream",
     "text": [
      "    255/500      79.1G      0.408     0.2527     0.8398         44       1120: 100%|██████████| 98/98 [01:45<00:00,  1.07s/it]\n"
     ]
    },
    {
     "name": "stdout",
     "output_type": "stream",
     "text": [
      "\n",
      "      Epoch    GPU_mem   box_loss   cls_loss   dfl_loss  Instances       Size\n"
     ]
    },
    {
     "name": "stderr",
     "output_type": "stream",
     "text": [
      "    256/500      79.1G     0.4178     0.2579      0.845         37       1120: 100%|██████████| 98/98 [01:45<00:00,  1.07s/it]\n"
     ]
    },
    {
     "name": "stdout",
     "output_type": "stream",
     "text": [
      "\n",
      "      Epoch    GPU_mem   box_loss   cls_loss   dfl_loss  Instances       Size\n"
     ]
    },
    {
     "name": "stderr",
     "output_type": "stream",
     "text": [
      "    257/500      79.1G     0.4105     0.2525      0.842         41       1120: 100%|██████████| 98/98 [01:45<00:00,  1.07s/it]\n"
     ]
    },
    {
     "name": "stdout",
     "output_type": "stream",
     "text": [
      "\n",
      "      Epoch    GPU_mem   box_loss   cls_loss   dfl_loss  Instances       Size\n"
     ]
    },
    {
     "name": "stderr",
     "output_type": "stream",
     "text": [
      "    258/500      79.1G     0.4112     0.2566     0.8437         34       1120: 100%|██████████| 98/98 [01:45<00:00,  1.07s/it]\n"
     ]
    },
    {
     "name": "stdout",
     "output_type": "stream",
     "text": [
      "\n",
      "      Epoch    GPU_mem   box_loss   cls_loss   dfl_loss  Instances       Size\n"
     ]
    },
    {
     "name": "stderr",
     "output_type": "stream",
     "text": [
      "    259/500      79.1G      0.411     0.2533     0.8424         32       1120: 100%|██████████| 98/98 [01:45<00:00,  1.07s/it]\n"
     ]
    },
    {
     "name": "stdout",
     "output_type": "stream",
     "text": [
      "\n",
      "      Epoch    GPU_mem   box_loss   cls_loss   dfl_loss  Instances       Size\n"
     ]
    },
    {
     "name": "stderr",
     "output_type": "stream",
     "text": [
      "    260/500      79.1G     0.4127     0.2537     0.8415         50       1120: 100%|██████████| 98/98 [01:45<00:00,  1.07s/it]\n"
     ]
    },
    {
     "name": "stdout",
     "output_type": "stream",
     "text": [
      "\n",
      "      Epoch    GPU_mem   box_loss   cls_loss   dfl_loss  Instances       Size\n"
     ]
    },
    {
     "name": "stderr",
     "output_type": "stream",
     "text": [
      "    261/500      79.1G     0.4052     0.2487     0.8407         33       1120: 100%|██████████| 98/98 [01:45<00:00,  1.07s/it]\n"
     ]
    },
    {
     "name": "stdout",
     "output_type": "stream",
     "text": [
      "\n",
      "      Epoch    GPU_mem   box_loss   cls_loss   dfl_loss  Instances       Size\n"
     ]
    },
    {
     "name": "stderr",
     "output_type": "stream",
     "text": [
      "    262/500      79.1G      0.406     0.2478     0.8389         45       1120: 100%|██████████| 98/98 [01:45<00:00,  1.07s/it]\n"
     ]
    },
    {
     "name": "stdout",
     "output_type": "stream",
     "text": [
      "\n",
      "      Epoch    GPU_mem   box_loss   cls_loss   dfl_loss  Instances       Size\n"
     ]
    },
    {
     "name": "stderr",
     "output_type": "stream",
     "text": [
      "    263/500      79.1G     0.4126     0.2524      0.843         37       1120: 100%|██████████| 98/98 [01:45<00:00,  1.07s/it]\n"
     ]
    },
    {
     "name": "stdout",
     "output_type": "stream",
     "text": [
      "\n",
      "      Epoch    GPU_mem   box_loss   cls_loss   dfl_loss  Instances       Size\n"
     ]
    },
    {
     "name": "stderr",
     "output_type": "stream",
     "text": [
      "    264/500      79.1G     0.4099     0.2492     0.8443         28       1120: 100%|██████████| 98/98 [01:45<00:00,  1.07s/it]\n"
     ]
    },
    {
     "name": "stdout",
     "output_type": "stream",
     "text": [
      "\n",
      "      Epoch    GPU_mem   box_loss   cls_loss   dfl_loss  Instances       Size\n"
     ]
    },
    {
     "name": "stderr",
     "output_type": "stream",
     "text": [
      "    265/500      79.1G     0.4066     0.2535     0.8409         44       1120: 100%|██████████| 98/98 [01:45<00:00,  1.07s/it]\n"
     ]
    },
    {
     "name": "stdout",
     "output_type": "stream",
     "text": [
      "\n",
      "      Epoch    GPU_mem   box_loss   cls_loss   dfl_loss  Instances       Size\n"
     ]
    },
    {
     "name": "stderr",
     "output_type": "stream",
     "text": [
      "    266/500      79.1G     0.4085     0.2501     0.8387         39       1120: 100%|██████████| 98/98 [01:45<00:00,  1.07s/it]\n"
     ]
    },
    {
     "name": "stdout",
     "output_type": "stream",
     "text": [
      "\n",
      "      Epoch    GPU_mem   box_loss   cls_loss   dfl_loss  Instances       Size\n"
     ]
    },
    {
     "name": "stderr",
     "output_type": "stream",
     "text": [
      "    267/500      79.1G      0.404     0.2457     0.8383         34       1120: 100%|██████████| 98/98 [01:45<00:00,  1.07s/it]\n"
     ]
    },
    {
     "name": "stdout",
     "output_type": "stream",
     "text": [
      "\n",
      "      Epoch    GPU_mem   box_loss   cls_loss   dfl_loss  Instances       Size\n"
     ]
    },
    {
     "name": "stderr",
     "output_type": "stream",
     "text": [
      "    268/500      79.1G     0.4021     0.2461     0.8381         38       1120: 100%|██████████| 98/98 [01:45<00:00,  1.07s/it]\n"
     ]
    },
    {
     "name": "stdout",
     "output_type": "stream",
     "text": [
      "\n",
      "      Epoch    GPU_mem   box_loss   cls_loss   dfl_loss  Instances       Size\n"
     ]
    },
    {
     "name": "stderr",
     "output_type": "stream",
     "text": [
      "    269/500      79.1G     0.4057     0.2498     0.8408         38       1120: 100%|██████████| 98/98 [01:45<00:00,  1.07s/it]\n"
     ]
    },
    {
     "name": "stdout",
     "output_type": "stream",
     "text": [
      "\n",
      "      Epoch    GPU_mem   box_loss   cls_loss   dfl_loss  Instances       Size\n"
     ]
    },
    {
     "name": "stderr",
     "output_type": "stream",
     "text": [
      "    270/500      79.1G     0.4044     0.2461     0.8407         47       1120: 100%|██████████| 98/98 [01:45<00:00,  1.07s/it]\n"
     ]
    },
    {
     "name": "stdout",
     "output_type": "stream",
     "text": [
      "\n",
      "      Epoch    GPU_mem   box_loss   cls_loss   dfl_loss  Instances       Size\n"
     ]
    },
    {
     "name": "stderr",
     "output_type": "stream",
     "text": [
      "    271/500      79.1G     0.3994      0.251     0.8376         54       1120: 100%|██████████| 98/98 [01:45<00:00,  1.07s/it]\n"
     ]
    },
    {
     "name": "stdout",
     "output_type": "stream",
     "text": [
      "\n",
      "      Epoch    GPU_mem   box_loss   cls_loss   dfl_loss  Instances       Size\n"
     ]
    },
    {
     "name": "stderr",
     "output_type": "stream",
     "text": [
      "    272/500      79.1G     0.3983     0.2461     0.8374         31       1120: 100%|██████████| 98/98 [01:45<00:00,  1.07s/it]\n"
     ]
    },
    {
     "name": "stdout",
     "output_type": "stream",
     "text": [
      "\n",
      "      Epoch    GPU_mem   box_loss   cls_loss   dfl_loss  Instances       Size\n"
     ]
    },
    {
     "name": "stderr",
     "output_type": "stream",
     "text": [
      "    273/500      79.1G      0.403     0.2458       0.84         44       1120: 100%|██████████| 98/98 [01:45<00:00,  1.07s/it]\n"
     ]
    },
    {
     "name": "stdout",
     "output_type": "stream",
     "text": [
      "\n",
      "      Epoch    GPU_mem   box_loss   cls_loss   dfl_loss  Instances       Size\n"
     ]
    },
    {
     "name": "stderr",
     "output_type": "stream",
     "text": [
      "    274/500      79.1G     0.4046     0.2479     0.8385         44       1120: 100%|██████████| 98/98 [01:45<00:00,  1.07s/it]\n"
     ]
    },
    {
     "name": "stdout",
     "output_type": "stream",
     "text": [
      "\n",
      "      Epoch    GPU_mem   box_loss   cls_loss   dfl_loss  Instances       Size\n"
     ]
    },
    {
     "name": "stderr",
     "output_type": "stream",
     "text": [
      "    275/500      79.1G     0.3999     0.2442     0.8389         41       1120: 100%|██████████| 98/98 [01:45<00:00,  1.08s/it]\n"
     ]
    },
    {
     "name": "stdout",
     "output_type": "stream",
     "text": [
      "\n",
      "      Epoch    GPU_mem   box_loss   cls_loss   dfl_loss  Instances       Size\n"
     ]
    },
    {
     "name": "stderr",
     "output_type": "stream",
     "text": [
      "    276/500      79.1G     0.4022     0.2451     0.8424         36       1120: 100%|██████████| 98/98 [01:45<00:00,  1.07s/it]\n"
     ]
    },
    {
     "name": "stdout",
     "output_type": "stream",
     "text": [
      "\n",
      "      Epoch    GPU_mem   box_loss   cls_loss   dfl_loss  Instances       Size\n"
     ]
    },
    {
     "name": "stderr",
     "output_type": "stream",
     "text": [
      "    277/500      79.1G     0.4023     0.2463     0.8382         43       1120: 100%|██████████| 98/98 [01:45<00:00,  1.07s/it]\n"
     ]
    },
    {
     "name": "stdout",
     "output_type": "stream",
     "text": [
      "\n",
      "      Epoch    GPU_mem   box_loss   cls_loss   dfl_loss  Instances       Size\n"
     ]
    },
    {
     "name": "stderr",
     "output_type": "stream",
     "text": [
      "    278/500      79.1G     0.4024     0.2451     0.8432         52       1120: 100%|██████████| 98/98 [01:45<00:00,  1.07s/it]\n"
     ]
    },
    {
     "name": "stdout",
     "output_type": "stream",
     "text": [
      "\n",
      "      Epoch    GPU_mem   box_loss   cls_loss   dfl_loss  Instances       Size\n"
     ]
    },
    {
     "name": "stderr",
     "output_type": "stream",
     "text": [
      "    279/500      79.1G     0.4008     0.2463     0.8426         33       1120: 100%|██████████| 98/98 [01:45<00:00,  1.07s/it]\n"
     ]
    },
    {
     "name": "stdout",
     "output_type": "stream",
     "text": [
      "\n",
      "      Epoch    GPU_mem   box_loss   cls_loss   dfl_loss  Instances       Size\n"
     ]
    },
    {
     "name": "stderr",
     "output_type": "stream",
     "text": [
      "    280/500      79.1G     0.3964     0.2403     0.8372         34       1120: 100%|██████████| 98/98 [01:45<00:00,  1.07s/it]\n"
     ]
    },
    {
     "name": "stdout",
     "output_type": "stream",
     "text": [
      "\n",
      "      Epoch    GPU_mem   box_loss   cls_loss   dfl_loss  Instances       Size\n"
     ]
    },
    {
     "name": "stderr",
     "output_type": "stream",
     "text": [
      "    281/500      79.1G     0.4009     0.2422     0.8396         50       1120: 100%|██████████| 98/98 [01:45<00:00,  1.07s/it]\n"
     ]
    },
    {
     "name": "stdout",
     "output_type": "stream",
     "text": [
      "\n",
      "      Epoch    GPU_mem   box_loss   cls_loss   dfl_loss  Instances       Size\n"
     ]
    },
    {
     "name": "stderr",
     "output_type": "stream",
     "text": [
      "    282/500      79.1G     0.3941     0.2462     0.8383         41       1120: 100%|██████████| 98/98 [01:45<00:00,  1.08s/it]\n"
     ]
    },
    {
     "name": "stdout",
     "output_type": "stream",
     "text": [
      "\n",
      "      Epoch    GPU_mem   box_loss   cls_loss   dfl_loss  Instances       Size\n"
     ]
    },
    {
     "name": "stderr",
     "output_type": "stream",
     "text": [
      "    283/500      79.1G     0.4013     0.2445     0.8389         42       1120: 100%|██████████| 98/98 [01:45<00:00,  1.07s/it]\n"
     ]
    },
    {
     "name": "stdout",
     "output_type": "stream",
     "text": [
      "\n",
      "      Epoch    GPU_mem   box_loss   cls_loss   dfl_loss  Instances       Size\n"
     ]
    },
    {
     "name": "stderr",
     "output_type": "stream",
     "text": [
      "    284/500      79.1G     0.3922     0.2411     0.8365         47       1120: 100%|██████████| 98/98 [01:45<00:00,  1.08s/it]\n"
     ]
    },
    {
     "name": "stdout",
     "output_type": "stream",
     "text": [
      "\n",
      "      Epoch    GPU_mem   box_loss   cls_loss   dfl_loss  Instances       Size\n"
     ]
    },
    {
     "name": "stderr",
     "output_type": "stream",
     "text": [
      "    285/500      79.1G     0.3904     0.2352     0.8396         33       1120: 100%|██████████| 98/98 [01:45<00:00,  1.07s/it]\n"
     ]
    },
    {
     "name": "stdout",
     "output_type": "stream",
     "text": [
      "\n",
      "      Epoch    GPU_mem   box_loss   cls_loss   dfl_loss  Instances       Size\n"
     ]
    },
    {
     "name": "stderr",
     "output_type": "stream",
     "text": [
      "    286/500      79.1G     0.3933     0.2401     0.8372         48       1120: 100%|██████████| 98/98 [01:45<00:00,  1.07s/it]\n"
     ]
    },
    {
     "name": "stdout",
     "output_type": "stream",
     "text": [
      "\n",
      "      Epoch    GPU_mem   box_loss   cls_loss   dfl_loss  Instances       Size\n"
     ]
    },
    {
     "name": "stderr",
     "output_type": "stream",
     "text": [
      "    287/500      79.1G     0.3939     0.2406     0.8372         54       1120: 100%|██████████| 98/98 [01:45<00:00,  1.07s/it]\n"
     ]
    },
    {
     "name": "stdout",
     "output_type": "stream",
     "text": [
      "\n",
      "      Epoch    GPU_mem   box_loss   cls_loss   dfl_loss  Instances       Size\n"
     ]
    },
    {
     "name": "stderr",
     "output_type": "stream",
     "text": [
      "    288/500      79.1G     0.3935     0.2409     0.8375         39       1120: 100%|██████████| 98/98 [01:45<00:00,  1.07s/it]\n"
     ]
    },
    {
     "name": "stdout",
     "output_type": "stream",
     "text": [
      "\n",
      "      Epoch    GPU_mem   box_loss   cls_loss   dfl_loss  Instances       Size\n"
     ]
    },
    {
     "name": "stderr",
     "output_type": "stream",
     "text": [
      "    289/500      79.1G      0.388     0.2367     0.8326         39       1120: 100%|██████████| 98/98 [01:45<00:00,  1.07s/it]\n"
     ]
    },
    {
     "name": "stdout",
     "output_type": "stream",
     "text": [
      "\n",
      "      Epoch    GPU_mem   box_loss   cls_loss   dfl_loss  Instances       Size\n"
     ]
    },
    {
     "name": "stderr",
     "output_type": "stream",
     "text": [
      "    290/500      79.1G     0.3895     0.2416     0.8352         35       1120: 100%|██████████| 98/98 [01:45<00:00,  1.07s/it]\n"
     ]
    },
    {
     "name": "stdout",
     "output_type": "stream",
     "text": [
      "\n",
      "      Epoch    GPU_mem   box_loss   cls_loss   dfl_loss  Instances       Size\n"
     ]
    },
    {
     "name": "stderr",
     "output_type": "stream",
     "text": [
      "    291/500      79.1G     0.3874     0.2407     0.8345         46       1120: 100%|██████████| 98/98 [01:45<00:00,  1.08s/it]\n"
     ]
    },
    {
     "name": "stdout",
     "output_type": "stream",
     "text": [
      "\n",
      "      Epoch    GPU_mem   box_loss   cls_loss   dfl_loss  Instances       Size\n"
     ]
    },
    {
     "name": "stderr",
     "output_type": "stream",
     "text": [
      "    292/500      79.1G     0.3878     0.2377     0.8358         45       1120: 100%|██████████| 98/98 [01:45<00:00,  1.08s/it]\n"
     ]
    },
    {
     "name": "stdout",
     "output_type": "stream",
     "text": [
      "\n",
      "      Epoch    GPU_mem   box_loss   cls_loss   dfl_loss  Instances       Size\n"
     ]
    },
    {
     "name": "stderr",
     "output_type": "stream",
     "text": [
      "    293/500      79.6G     0.3905     0.2377     0.8335         45       1120: 100%|██████████| 98/98 [01:45<00:00,  1.07s/it]\n"
     ]
    },
    {
     "name": "stdout",
     "output_type": "stream",
     "text": [
      "\n",
      "      Epoch    GPU_mem   box_loss   cls_loss   dfl_loss  Instances       Size\n"
     ]
    },
    {
     "name": "stderr",
     "output_type": "stream",
     "text": [
      "    294/500      79.1G     0.3893     0.2417     0.8357         35       1120: 100%|██████████| 98/98 [01:45<00:00,  1.07s/it]\n"
     ]
    },
    {
     "name": "stdout",
     "output_type": "stream",
     "text": [
      "\n",
      "      Epoch    GPU_mem   box_loss   cls_loss   dfl_loss  Instances       Size\n"
     ]
    },
    {
     "name": "stderr",
     "output_type": "stream",
     "text": [
      "    295/500      79.1G     0.3905     0.2384     0.8369         36       1120: 100%|██████████| 98/98 [01:45<00:00,  1.08s/it]\n"
     ]
    },
    {
     "name": "stdout",
     "output_type": "stream",
     "text": [
      "\n",
      "      Epoch    GPU_mem   box_loss   cls_loss   dfl_loss  Instances       Size\n"
     ]
    },
    {
     "name": "stderr",
     "output_type": "stream",
     "text": [
      "    296/500      79.1G     0.3846     0.2379     0.8321         36       1120: 100%|██████████| 98/98 [01:45<00:00,  1.07s/it]\n"
     ]
    },
    {
     "name": "stdout",
     "output_type": "stream",
     "text": [
      "\n",
      "      Epoch    GPU_mem   box_loss   cls_loss   dfl_loss  Instances       Size\n"
     ]
    },
    {
     "name": "stderr",
     "output_type": "stream",
     "text": [
      "    297/500      79.1G     0.3841     0.2387     0.8337         42       1120: 100%|██████████| 98/98 [01:45<00:00,  1.08s/it]\n"
     ]
    },
    {
     "name": "stdout",
     "output_type": "stream",
     "text": [
      "\n",
      "      Epoch    GPU_mem   box_loss   cls_loss   dfl_loss  Instances       Size\n"
     ]
    },
    {
     "name": "stderr",
     "output_type": "stream",
     "text": [
      "    298/500      79.1G     0.3799      0.231     0.8321         44       1120: 100%|██████████| 98/98 [01:45<00:00,  1.07s/it]\n"
     ]
    },
    {
     "name": "stdout",
     "output_type": "stream",
     "text": [
      "\n",
      "      Epoch    GPU_mem   box_loss   cls_loss   dfl_loss  Instances       Size\n"
     ]
    },
    {
     "name": "stderr",
     "output_type": "stream",
     "text": [
      "    299/500      79.1G      0.379     0.2315     0.8306         47       1120: 100%|██████████| 98/98 [01:45<00:00,  1.07s/it]\n"
     ]
    },
    {
     "name": "stdout",
     "output_type": "stream",
     "text": [
      "\n",
      "      Epoch    GPU_mem   box_loss   cls_loss   dfl_loss  Instances       Size\n"
     ]
    },
    {
     "name": "stderr",
     "output_type": "stream",
     "text": [
      "    300/500      79.1G     0.3743     0.2296     0.8279         34       1120: 100%|██████████| 98/98 [01:45<00:00,  1.08s/it]\n"
     ]
    },
    {
     "name": "stdout",
     "output_type": "stream",
     "text": [
      "\n",
      "      Epoch    GPU_mem   box_loss   cls_loss   dfl_loss  Instances       Size\n"
     ]
    },
    {
     "name": "stderr",
     "output_type": "stream",
     "text": [
      "    301/500      79.4G     0.3789     0.2332     0.8305         37       1120: 100%|██████████| 98/98 [01:45<00:00,  1.08s/it]\n"
     ]
    },
    {
     "name": "stdout",
     "output_type": "stream",
     "text": [
      "\n",
      "      Epoch    GPU_mem   box_loss   cls_loss   dfl_loss  Instances       Size\n"
     ]
    },
    {
     "name": "stderr",
     "output_type": "stream",
     "text": [
      "    302/500      79.1G     0.3748     0.2292     0.8335         24       1120: 100%|██████████| 98/98 [01:45<00:00,  1.07s/it]\n"
     ]
    },
    {
     "name": "stdout",
     "output_type": "stream",
     "text": [
      "\n",
      "      Epoch    GPU_mem   box_loss   cls_loss   dfl_loss  Instances       Size\n"
     ]
    },
    {
     "name": "stderr",
     "output_type": "stream",
     "text": [
      "    303/500      79.1G     0.3759     0.2314     0.8305         43       1120: 100%|██████████| 98/98 [01:45<00:00,  1.08s/it]\n"
     ]
    },
    {
     "name": "stdout",
     "output_type": "stream",
     "text": [
      "\n",
      "      Epoch    GPU_mem   box_loss   cls_loss   dfl_loss  Instances       Size\n"
     ]
    },
    {
     "name": "stderr",
     "output_type": "stream",
     "text": [
      "    304/500      79.1G     0.3795     0.2349     0.8313         37       1120: 100%|██████████| 98/98 [01:45<00:00,  1.07s/it]\n"
     ]
    },
    {
     "name": "stdout",
     "output_type": "stream",
     "text": [
      "\n",
      "      Epoch    GPU_mem   box_loss   cls_loss   dfl_loss  Instances       Size\n"
     ]
    },
    {
     "name": "stderr",
     "output_type": "stream",
     "text": [
      "    305/500      79.1G     0.3783     0.2323     0.8327         38       1120: 100%|██████████| 98/98 [01:45<00:00,  1.07s/it]\n"
     ]
    },
    {
     "name": "stdout",
     "output_type": "stream",
     "text": [
      "\n",
      "      Epoch    GPU_mem   box_loss   cls_loss   dfl_loss  Instances       Size\n"
     ]
    },
    {
     "name": "stderr",
     "output_type": "stream",
     "text": [
      "    306/500      79.1G     0.3745     0.2303     0.8312         56       1120: 100%|██████████| 98/98 [01:45<00:00,  1.08s/it]\n"
     ]
    },
    {
     "name": "stdout",
     "output_type": "stream",
     "text": [
      "\n",
      "      Epoch    GPU_mem   box_loss   cls_loss   dfl_loss  Instances       Size\n"
     ]
    },
    {
     "name": "stderr",
     "output_type": "stream",
     "text": [
      "    307/500      79.6G     0.3754     0.2303     0.8302         37       1120: 100%|██████████| 98/98 [01:45<00:00,  1.07s/it]\n"
     ]
    },
    {
     "name": "stdout",
     "output_type": "stream",
     "text": [
      "\n",
      "      Epoch    GPU_mem   box_loss   cls_loss   dfl_loss  Instances       Size\n"
     ]
    },
    {
     "name": "stderr",
     "output_type": "stream",
     "text": [
      "    308/500      79.4G     0.3754     0.2284     0.8315         52       1120: 100%|██████████| 98/98 [01:45<00:00,  1.08s/it]\n"
     ]
    },
    {
     "name": "stdout",
     "output_type": "stream",
     "text": [
      "\n",
      "      Epoch    GPU_mem   box_loss   cls_loss   dfl_loss  Instances       Size\n"
     ]
    },
    {
     "name": "stderr",
     "output_type": "stream",
     "text": [
      "    309/500      79.1G     0.3715     0.2298     0.8319         31       1120: 100%|██████████| 98/98 [01:45<00:00,  1.08s/it]\n"
     ]
    },
    {
     "name": "stdout",
     "output_type": "stream",
     "text": [
      "\n",
      "      Epoch    GPU_mem   box_loss   cls_loss   dfl_loss  Instances       Size\n"
     ]
    },
    {
     "name": "stderr",
     "output_type": "stream",
     "text": [
      "    310/500      79.1G     0.3815     0.2325     0.8329         53       1120: 100%|██████████| 98/98 [01:45<00:00,  1.08s/it]\n"
     ]
    },
    {
     "name": "stdout",
     "output_type": "stream",
     "text": [
      "\n",
      "      Epoch    GPU_mem   box_loss   cls_loss   dfl_loss  Instances       Size\n"
     ]
    },
    {
     "name": "stderr",
     "output_type": "stream",
     "text": [
      "    311/500      79.1G     0.3709     0.2293     0.8279         39       1120: 100%|██████████| 98/98 [01:45<00:00,  1.08s/it]\n"
     ]
    },
    {
     "name": "stdout",
     "output_type": "stream",
     "text": [
      "\n",
      "      Epoch    GPU_mem   box_loss   cls_loss   dfl_loss  Instances       Size\n"
     ]
    },
    {
     "name": "stderr",
     "output_type": "stream",
     "text": [
      "    312/500      79.1G      0.376     0.2288     0.8292         42       1120: 100%|██████████| 98/98 [01:45<00:00,  1.07s/it]\n"
     ]
    },
    {
     "name": "stdout",
     "output_type": "stream",
     "text": [
      "\n",
      "      Epoch    GPU_mem   box_loss   cls_loss   dfl_loss  Instances       Size\n"
     ]
    },
    {
     "name": "stderr",
     "output_type": "stream",
     "text": [
      "    313/500      79.1G     0.3735     0.2269     0.8316         38       1120: 100%|██████████| 98/98 [01:45<00:00,  1.07s/it]\n"
     ]
    },
    {
     "name": "stdout",
     "output_type": "stream",
     "text": [
      "\n",
      "      Epoch    GPU_mem   box_loss   cls_loss   dfl_loss  Instances       Size\n"
     ]
    },
    {
     "name": "stderr",
     "output_type": "stream",
     "text": [
      "    314/500      79.1G     0.3733     0.2266     0.8297         34       1120: 100%|██████████| 98/98 [01:45<00:00,  1.07s/it]\n"
     ]
    },
    {
     "name": "stdout",
     "output_type": "stream",
     "text": [
      "\n",
      "      Epoch    GPU_mem   box_loss   cls_loss   dfl_loss  Instances       Size\n"
     ]
    },
    {
     "name": "stderr",
     "output_type": "stream",
     "text": [
      "    315/500      79.1G     0.3702     0.2262     0.8291         37       1120: 100%|██████████| 98/98 [01:45<00:00,  1.07s/it]\n"
     ]
    },
    {
     "name": "stdout",
     "output_type": "stream",
     "text": [
      "\n",
      "      Epoch    GPU_mem   box_loss   cls_loss   dfl_loss  Instances       Size\n"
     ]
    },
    {
     "name": "stderr",
     "output_type": "stream",
     "text": [
      "    316/500      79.1G     0.3745     0.2279     0.8315         28       1120: 100%|██████████| 98/98 [01:45<00:00,  1.07s/it]\n"
     ]
    },
    {
     "name": "stdout",
     "output_type": "stream",
     "text": [
      "\n",
      "      Epoch    GPU_mem   box_loss   cls_loss   dfl_loss  Instances       Size\n"
     ]
    },
    {
     "name": "stderr",
     "output_type": "stream",
     "text": [
      "    317/500      79.1G     0.3708     0.2278     0.8338         42       1120: 100%|██████████| 98/98 [01:45<00:00,  1.07s/it]\n"
     ]
    },
    {
     "name": "stdout",
     "output_type": "stream",
     "text": [
      "\n",
      "      Epoch    GPU_mem   box_loss   cls_loss   dfl_loss  Instances       Size\n"
     ]
    },
    {
     "name": "stderr",
     "output_type": "stream",
     "text": [
      "    318/500      79.1G     0.3709     0.2275     0.8267         31       1120: 100%|██████████| 98/98 [01:45<00:00,  1.07s/it]\n"
     ]
    },
    {
     "name": "stdout",
     "output_type": "stream",
     "text": [
      "\n",
      "      Epoch    GPU_mem   box_loss   cls_loss   dfl_loss  Instances       Size\n"
     ]
    },
    {
     "name": "stderr",
     "output_type": "stream",
     "text": [
      "    319/500      79.1G     0.3706     0.2276     0.8284         63       1120: 100%|██████████| 98/98 [01:45<00:00,  1.07s/it]\n"
     ]
    },
    {
     "name": "stdout",
     "output_type": "stream",
     "text": [
      "\n",
      "      Epoch    GPU_mem   box_loss   cls_loss   dfl_loss  Instances       Size\n"
     ]
    },
    {
     "name": "stderr",
     "output_type": "stream",
     "text": [
      "    320/500      79.1G     0.3742     0.2296     0.8337         33       1120: 100%|██████████| 98/98 [01:45<00:00,  1.07s/it]\n"
     ]
    },
    {
     "name": "stdout",
     "output_type": "stream",
     "text": [
      "\n",
      "      Epoch    GPU_mem   box_loss   cls_loss   dfl_loss  Instances       Size\n"
     ]
    },
    {
     "name": "stderr",
     "output_type": "stream",
     "text": [
      "    321/500      79.4G     0.3718     0.2308     0.8309         31       1120: 100%|██████████| 98/98 [01:45<00:00,  1.07s/it]\n"
     ]
    },
    {
     "name": "stdout",
     "output_type": "stream",
     "text": [
      "\n",
      "      Epoch    GPU_mem   box_loss   cls_loss   dfl_loss  Instances       Size\n"
     ]
    },
    {
     "name": "stderr",
     "output_type": "stream",
     "text": [
      "    322/500      79.1G     0.3687     0.2292     0.8303         36       1120: 100%|██████████| 98/98 [01:45<00:00,  1.07s/it]\n"
     ]
    },
    {
     "name": "stdout",
     "output_type": "stream",
     "text": [
      "\n",
      "      Epoch    GPU_mem   box_loss   cls_loss   dfl_loss  Instances       Size\n"
     ]
    },
    {
     "name": "stderr",
     "output_type": "stream",
     "text": [
      "    323/500      79.1G     0.3658     0.2294     0.8282         45       1120: 100%|██████████| 98/98 [01:45<00:00,  1.07s/it]\n"
     ]
    },
    {
     "name": "stdout",
     "output_type": "stream",
     "text": [
      "\n",
      "      Epoch    GPU_mem   box_loss   cls_loss   dfl_loss  Instances       Size\n"
     ]
    },
    {
     "name": "stderr",
     "output_type": "stream",
     "text": [
      "    324/500      79.1G     0.3704     0.2281     0.8296         35       1120: 100%|██████████| 98/98 [01:45<00:00,  1.07s/it]\n"
     ]
    },
    {
     "name": "stdout",
     "output_type": "stream",
     "text": [
      "\n",
      "      Epoch    GPU_mem   box_loss   cls_loss   dfl_loss  Instances       Size\n"
     ]
    },
    {
     "name": "stderr",
     "output_type": "stream",
     "text": [
      "    325/500      79.1G     0.3677     0.2256     0.8309         41       1120: 100%|██████████| 98/98 [01:45<00:00,  1.07s/it]\n"
     ]
    },
    {
     "name": "stdout",
     "output_type": "stream",
     "text": [
      "\n",
      "      Epoch    GPU_mem   box_loss   cls_loss   dfl_loss  Instances       Size\n"
     ]
    },
    {
     "name": "stderr",
     "output_type": "stream",
     "text": [
      "    326/500      79.1G      0.368     0.2246     0.8274         46       1120: 100%|██████████| 98/98 [01:45<00:00,  1.07s/it]\n"
     ]
    },
    {
     "name": "stdout",
     "output_type": "stream",
     "text": [
      "\n",
      "      Epoch    GPU_mem   box_loss   cls_loss   dfl_loss  Instances       Size\n"
     ]
    },
    {
     "name": "stderr",
     "output_type": "stream",
     "text": [
      "    327/500      79.1G     0.3655     0.2237     0.8292         37       1120: 100%|██████████| 98/98 [01:45<00:00,  1.07s/it]\n"
     ]
    },
    {
     "name": "stdout",
     "output_type": "stream",
     "text": [
      "\n",
      "      Epoch    GPU_mem   box_loss   cls_loss   dfl_loss  Instances       Size\n"
     ]
    },
    {
     "name": "stderr",
     "output_type": "stream",
     "text": [
      "    328/500      79.1G     0.3628     0.2219     0.8278         48       1120: 100%|██████████| 98/98 [01:45<00:00,  1.07s/it]\n"
     ]
    },
    {
     "name": "stdout",
     "output_type": "stream",
     "text": [
      "\n",
      "      Epoch    GPU_mem   box_loss   cls_loss   dfl_loss  Instances       Size\n"
     ]
    },
    {
     "name": "stderr",
     "output_type": "stream",
     "text": [
      "    329/500      79.1G     0.3642     0.2207     0.8275         41       1120: 100%|██████████| 98/98 [01:45<00:00,  1.07s/it]\n"
     ]
    },
    {
     "name": "stdout",
     "output_type": "stream",
     "text": [
      "\n",
      "      Epoch    GPU_mem   box_loss   cls_loss   dfl_loss  Instances       Size\n"
     ]
    },
    {
     "name": "stderr",
     "output_type": "stream",
     "text": [
      "    330/500      79.1G     0.3598     0.2208     0.8264         56       1120: 100%|██████████| 98/98 [01:45<00:00,  1.07s/it]\n"
     ]
    },
    {
     "name": "stdout",
     "output_type": "stream",
     "text": [
      "\n",
      "      Epoch    GPU_mem   box_loss   cls_loss   dfl_loss  Instances       Size\n"
     ]
    },
    {
     "name": "stderr",
     "output_type": "stream",
     "text": [
      "    331/500      79.1G     0.3629     0.2245     0.8273         56       1120: 100%|██████████| 98/98 [01:45<00:00,  1.07s/it]\n"
     ]
    },
    {
     "name": "stdout",
     "output_type": "stream",
     "text": [
      "\n",
      "      Epoch    GPU_mem   box_loss   cls_loss   dfl_loss  Instances       Size\n"
     ]
    },
    {
     "name": "stderr",
     "output_type": "stream",
     "text": [
      "    332/500      79.1G     0.3572     0.2179     0.8235         45       1120: 100%|██████████| 98/98 [01:45<00:00,  1.07s/it]\n"
     ]
    },
    {
     "name": "stdout",
     "output_type": "stream",
     "text": [
      "\n",
      "      Epoch    GPU_mem   box_loss   cls_loss   dfl_loss  Instances       Size\n"
     ]
    },
    {
     "name": "stderr",
     "output_type": "stream",
     "text": [
      "    333/500      79.1G     0.3612       0.22     0.8249         59       1120: 100%|██████████| 98/98 [01:45<00:00,  1.07s/it]\n"
     ]
    },
    {
     "name": "stdout",
     "output_type": "stream",
     "text": [
      "\n",
      "      Epoch    GPU_mem   box_loss   cls_loss   dfl_loss  Instances       Size\n"
     ]
    },
    {
     "name": "stderr",
     "output_type": "stream",
     "text": [
      "    334/500      79.1G     0.3609     0.2237     0.8272         47       1120: 100%|██████████| 98/98 [01:45<00:00,  1.07s/it]\n"
     ]
    },
    {
     "name": "stdout",
     "output_type": "stream",
     "text": [
      "\n",
      "      Epoch    GPU_mem   box_loss   cls_loss   dfl_loss  Instances       Size\n"
     ]
    },
    {
     "name": "stderr",
     "output_type": "stream",
     "text": [
      "    335/500      79.4G     0.3584     0.2237     0.8234         44       1120: 100%|██████████| 98/98 [01:45<00:00,  1.08s/it]\n"
     ]
    },
    {
     "name": "stdout",
     "output_type": "stream",
     "text": [
      "\n",
      "      Epoch    GPU_mem   box_loss   cls_loss   dfl_loss  Instances       Size\n"
     ]
    },
    {
     "name": "stderr",
     "output_type": "stream",
     "text": [
      "    336/500      79.1G     0.3559     0.2204     0.8232         45       1120: 100%|██████████| 98/98 [01:45<00:00,  1.07s/it]\n"
     ]
    },
    {
     "name": "stdout",
     "output_type": "stream",
     "text": [
      "\n",
      "      Epoch    GPU_mem   box_loss   cls_loss   dfl_loss  Instances       Size\n"
     ]
    },
    {
     "name": "stderr",
     "output_type": "stream",
     "text": [
      "    337/500      79.1G     0.3623     0.2216     0.8288         36       1120: 100%|██████████| 98/98 [01:45<00:00,  1.08s/it]\n"
     ]
    },
    {
     "name": "stdout",
     "output_type": "stream",
     "text": [
      "\n",
      "      Epoch    GPU_mem   box_loss   cls_loss   dfl_loss  Instances       Size\n"
     ]
    },
    {
     "name": "stderr",
     "output_type": "stream",
     "text": [
      "    338/500      79.3G     0.3563     0.2174     0.8277         36       1120: 100%|██████████| 98/98 [01:45<00:00,  1.08s/it]\n"
     ]
    },
    {
     "name": "stdout",
     "output_type": "stream",
     "text": [
      "\n",
      "      Epoch    GPU_mem   box_loss   cls_loss   dfl_loss  Instances       Size\n"
     ]
    },
    {
     "name": "stderr",
     "output_type": "stream",
     "text": [
      "    339/500      79.1G     0.3532     0.2218     0.8261         47       1120: 100%|██████████| 98/98 [01:45<00:00,  1.07s/it]\n"
     ]
    },
    {
     "name": "stdout",
     "output_type": "stream",
     "text": [
      "\n",
      "      Epoch    GPU_mem   box_loss   cls_loss   dfl_loss  Instances       Size\n"
     ]
    },
    {
     "name": "stderr",
     "output_type": "stream",
     "text": [
      "    340/500      79.1G     0.3586     0.2224     0.8304         40       1120: 100%|██████████| 98/98 [01:45<00:00,  1.07s/it]\n"
     ]
    },
    {
     "name": "stdout",
     "output_type": "stream",
     "text": [
      "\n",
      "      Epoch    GPU_mem   box_loss   cls_loss   dfl_loss  Instances       Size\n"
     ]
    },
    {
     "name": "stderr",
     "output_type": "stream",
     "text": [
      "    341/500      79.1G     0.3556     0.2202     0.8268         34       1120: 100%|██████████| 98/98 [01:45<00:00,  1.07s/it]\n"
     ]
    },
    {
     "name": "stdout",
     "output_type": "stream",
     "text": [
      "\n",
      "      Epoch    GPU_mem   box_loss   cls_loss   dfl_loss  Instances       Size\n"
     ]
    },
    {
     "name": "stderr",
     "output_type": "stream",
     "text": [
      "    342/500      79.1G     0.3582     0.2202     0.8247         51       1120: 100%|██████████| 98/98 [01:45<00:00,  1.08s/it]\n"
     ]
    },
    {
     "name": "stdout",
     "output_type": "stream",
     "text": [
      "\n",
      "      Epoch    GPU_mem   box_loss   cls_loss   dfl_loss  Instances       Size\n"
     ]
    },
    {
     "name": "stderr",
     "output_type": "stream",
     "text": [
      "    343/500      79.1G     0.3535     0.2186     0.8247         37       1120: 100%|██████████| 98/98 [01:45<00:00,  1.08s/it]\n"
     ]
    },
    {
     "name": "stdout",
     "output_type": "stream",
     "text": [
      "\n",
      "      Epoch    GPU_mem   box_loss   cls_loss   dfl_loss  Instances       Size\n"
     ]
    },
    {
     "name": "stderr",
     "output_type": "stream",
     "text": [
      "    344/500      79.1G     0.3551     0.2193     0.8281         48       1120: 100%|██████████| 98/98 [01:45<00:00,  1.08s/it]\n"
     ]
    },
    {
     "name": "stdout",
     "output_type": "stream",
     "text": [
      "\n",
      "      Epoch    GPU_mem   box_loss   cls_loss   dfl_loss  Instances       Size\n"
     ]
    },
    {
     "name": "stderr",
     "output_type": "stream",
     "text": [
      "    345/500      79.1G     0.3547     0.2184     0.8252         41       1120: 100%|██████████| 98/98 [01:45<00:00,  1.08s/it]\n"
     ]
    },
    {
     "name": "stdout",
     "output_type": "stream",
     "text": [
      "\n",
      "      Epoch    GPU_mem   box_loss   cls_loss   dfl_loss  Instances       Size\n"
     ]
    },
    {
     "name": "stderr",
     "output_type": "stream",
     "text": [
      "    346/500      79.1G     0.3516     0.2195     0.8251         29       1120: 100%|██████████| 98/98 [01:45<00:00,  1.07s/it]\n"
     ]
    },
    {
     "name": "stdout",
     "output_type": "stream",
     "text": [
      "\n",
      "      Epoch    GPU_mem   box_loss   cls_loss   dfl_loss  Instances       Size\n"
     ]
    },
    {
     "name": "stderr",
     "output_type": "stream",
     "text": [
      "    347/500      79.1G     0.3511     0.2146     0.8216         44       1120: 100%|██████████| 98/98 [01:45<00:00,  1.08s/it]\n"
     ]
    },
    {
     "name": "stdout",
     "output_type": "stream",
     "text": [
      "\n",
      "      Epoch    GPU_mem   box_loss   cls_loss   dfl_loss  Instances       Size\n"
     ]
    },
    {
     "name": "stderr",
     "output_type": "stream",
     "text": [
      "    348/500      79.1G     0.3486     0.2134      0.822         37       1120: 100%|██████████| 98/98 [01:45<00:00,  1.08s/it]\n"
     ]
    },
    {
     "name": "stdout",
     "output_type": "stream",
     "text": [
      "\n",
      "      Epoch    GPU_mem   box_loss   cls_loss   dfl_loss  Instances       Size\n"
     ]
    },
    {
     "name": "stderr",
     "output_type": "stream",
     "text": [
      "    349/500      79.1G     0.3515     0.2167     0.8205         39       1120: 100%|██████████| 98/98 [01:45<00:00,  1.08s/it]\n"
     ]
    },
    {
     "name": "stdout",
     "output_type": "stream",
     "text": [
      "\n",
      "      Epoch    GPU_mem   box_loss   cls_loss   dfl_loss  Instances       Size\n"
     ]
    },
    {
     "name": "stderr",
     "output_type": "stream",
     "text": [
      "    350/500      79.1G     0.3482     0.2161     0.8209         38       1120: 100%|██████████| 98/98 [01:45<00:00,  1.08s/it]\n"
     ]
    },
    {
     "name": "stdout",
     "output_type": "stream",
     "text": [
      "\n",
      "      Epoch    GPU_mem   box_loss   cls_loss   dfl_loss  Instances       Size\n"
     ]
    },
    {
     "name": "stderr",
     "output_type": "stream",
     "text": [
      "    351/500      79.1G     0.3494     0.2151     0.8212         30       1120: 100%|██████████| 98/98 [01:45<00:00,  1.08s/it]\n"
     ]
    },
    {
     "name": "stdout",
     "output_type": "stream",
     "text": [
      "\n",
      "      Epoch    GPU_mem   box_loss   cls_loss   dfl_loss  Instances       Size\n"
     ]
    },
    {
     "name": "stderr",
     "output_type": "stream",
     "text": [
      "    352/500      79.1G     0.3487     0.2128     0.8241         32       1120: 100%|██████████| 98/98 [01:45<00:00,  1.08s/it]\n"
     ]
    },
    {
     "name": "stdout",
     "output_type": "stream",
     "text": [
      "\n",
      "      Epoch    GPU_mem   box_loss   cls_loss   dfl_loss  Instances       Size\n"
     ]
    },
    {
     "name": "stderr",
     "output_type": "stream",
     "text": [
      "    353/500      79.1G     0.3474     0.2112     0.8218         33       1120: 100%|██████████| 98/98 [01:45<00:00,  1.08s/it]\n"
     ]
    },
    {
     "name": "stdout",
     "output_type": "stream",
     "text": [
      "\n",
      "      Epoch    GPU_mem   box_loss   cls_loss   dfl_loss  Instances       Size\n"
     ]
    },
    {
     "name": "stderr",
     "output_type": "stream",
     "text": [
      "    354/500      79.1G     0.3475     0.2136     0.8222         48       1120: 100%|██████████| 98/98 [01:45<00:00,  1.08s/it]\n"
     ]
    },
    {
     "name": "stdout",
     "output_type": "stream",
     "text": [
      "\n",
      "      Epoch    GPU_mem   box_loss   cls_loss   dfl_loss  Instances       Size\n"
     ]
    },
    {
     "name": "stderr",
     "output_type": "stream",
     "text": [
      "    355/500      79.1G     0.3487     0.2126     0.8255         35       1120: 100%|██████████| 98/98 [01:45<00:00,  1.08s/it]\n"
     ]
    },
    {
     "name": "stdout",
     "output_type": "stream",
     "text": [
      "\n",
      "      Epoch    GPU_mem   box_loss   cls_loss   dfl_loss  Instances       Size\n"
     ]
    },
    {
     "name": "stderr",
     "output_type": "stream",
     "text": [
      "    356/500      79.1G     0.3386      0.208     0.8182         38       1120: 100%|██████████| 98/98 [01:45<00:00,  1.08s/it]\n"
     ]
    },
    {
     "name": "stdout",
     "output_type": "stream",
     "text": [
      "\n",
      "      Epoch    GPU_mem   box_loss   cls_loss   dfl_loss  Instances       Size\n"
     ]
    },
    {
     "name": "stderr",
     "output_type": "stream",
     "text": [
      "    357/500      79.1G     0.3437     0.2105     0.8217         45       1120: 100%|██████████| 98/98 [01:45<00:00,  1.08s/it]\n"
     ]
    },
    {
     "name": "stdout",
     "output_type": "stream",
     "text": [
      "\n",
      "      Epoch    GPU_mem   box_loss   cls_loss   dfl_loss  Instances       Size\n"
     ]
    },
    {
     "name": "stderr",
     "output_type": "stream",
     "text": [
      "    358/500      79.1G     0.3435     0.2088     0.8212         37       1120: 100%|██████████| 98/98 [01:45<00:00,  1.07s/it]\n"
     ]
    },
    {
     "name": "stdout",
     "output_type": "stream",
     "text": [
      "\n",
      "      Epoch    GPU_mem   box_loss   cls_loss   dfl_loss  Instances       Size\n"
     ]
    },
    {
     "name": "stderr",
     "output_type": "stream",
     "text": [
      "    359/500      79.1G     0.3415     0.2119     0.8194         54       1120: 100%|██████████| 98/98 [01:45<00:00,  1.08s/it]\n"
     ]
    },
    {
     "name": "stdout",
     "output_type": "stream",
     "text": [
      "\n",
      "      Epoch    GPU_mem   box_loss   cls_loss   dfl_loss  Instances       Size\n"
     ]
    },
    {
     "name": "stderr",
     "output_type": "stream",
     "text": [
      "    360/500      79.1G     0.3407     0.2072     0.8187         45       1120: 100%|██████████| 98/98 [01:45<00:00,  1.07s/it]\n"
     ]
    },
    {
     "name": "stdout",
     "output_type": "stream",
     "text": [
      "\n",
      "      Epoch    GPU_mem   box_loss   cls_loss   dfl_loss  Instances       Size\n"
     ]
    },
    {
     "name": "stderr",
     "output_type": "stream",
     "text": [
      "    361/500      79.1G     0.3415     0.2086       0.82         31       1120: 100%|██████████| 98/98 [01:45<00:00,  1.08s/it]\n"
     ]
    },
    {
     "name": "stdout",
     "output_type": "stream",
     "text": [
      "\n",
      "      Epoch    GPU_mem   box_loss   cls_loss   dfl_loss  Instances       Size\n"
     ]
    },
    {
     "name": "stderr",
     "output_type": "stream",
     "text": [
      "    362/500      79.1G     0.3374     0.2056     0.8193         68       1120: 100%|██████████| 98/98 [01:45<00:00,  1.08s/it]\n"
     ]
    },
    {
     "name": "stdout",
     "output_type": "stream",
     "text": [
      "\n",
      "      Epoch    GPU_mem   box_loss   cls_loss   dfl_loss  Instances       Size\n"
     ]
    },
    {
     "name": "stderr",
     "output_type": "stream",
     "text": [
      "    363/500      79.1G     0.3427     0.2078     0.8225         28       1120: 100%|██████████| 98/98 [01:45<00:00,  1.08s/it]\n"
     ]
    },
    {
     "name": "stdout",
     "output_type": "stream",
     "text": [
      "\n",
      "      Epoch    GPU_mem   box_loss   cls_loss   dfl_loss  Instances       Size\n"
     ]
    },
    {
     "name": "stderr",
     "output_type": "stream",
     "text": [
      "    364/500      79.1G     0.3391     0.2055     0.8216         38       1120: 100%|██████████| 98/98 [01:45<00:00,  1.08s/it]\n"
     ]
    },
    {
     "name": "stdout",
     "output_type": "stream",
     "text": [
      "\n",
      "      Epoch    GPU_mem   box_loss   cls_loss   dfl_loss  Instances       Size\n"
     ]
    },
    {
     "name": "stderr",
     "output_type": "stream",
     "text": [
      "    365/500      79.4G     0.3373      0.208     0.8223         35       1120: 100%|██████████| 98/98 [01:45<00:00,  1.08s/it]\n"
     ]
    },
    {
     "name": "stdout",
     "output_type": "stream",
     "text": [
      "\n",
      "      Epoch    GPU_mem   box_loss   cls_loss   dfl_loss  Instances       Size\n"
     ]
    },
    {
     "name": "stderr",
     "output_type": "stream",
     "text": [
      "    366/500      79.1G     0.3387     0.2066     0.8212         45       1120: 100%|██████████| 98/98 [01:45<00:00,  1.08s/it]\n"
     ]
    },
    {
     "name": "stdout",
     "output_type": "stream",
     "text": [
      "\n",
      "      Epoch    GPU_mem   box_loss   cls_loss   dfl_loss  Instances       Size\n"
     ]
    },
    {
     "name": "stderr",
     "output_type": "stream",
     "text": [
      "    367/500      79.1G     0.3343     0.2052     0.8197         47       1120: 100%|██████████| 98/98 [01:45<00:00,  1.08s/it]\n"
     ]
    },
    {
     "name": "stdout",
     "output_type": "stream",
     "text": [
      "\n",
      "      Epoch    GPU_mem   box_loss   cls_loss   dfl_loss  Instances       Size\n"
     ]
    },
    {
     "name": "stderr",
     "output_type": "stream",
     "text": [
      "    368/500      79.1G     0.3353     0.2063     0.8188         45       1120: 100%|██████████| 98/98 [01:45<00:00,  1.08s/it]\n"
     ]
    },
    {
     "name": "stdout",
     "output_type": "stream",
     "text": [
      "\n",
      "      Epoch    GPU_mem   box_loss   cls_loss   dfl_loss  Instances       Size\n"
     ]
    },
    {
     "name": "stderr",
     "output_type": "stream",
     "text": [
      "    369/500      79.1G     0.3348     0.2051     0.8201         35       1120: 100%|██████████| 98/98 [01:45<00:00,  1.08s/it]\n"
     ]
    },
    {
     "name": "stdout",
     "output_type": "stream",
     "text": [
      "\n",
      "      Epoch    GPU_mem   box_loss   cls_loss   dfl_loss  Instances       Size\n"
     ]
    },
    {
     "name": "stderr",
     "output_type": "stream",
     "text": [
      "    370/500      79.1G     0.3386     0.2052     0.8203         39       1120: 100%|██████████| 98/98 [01:45<00:00,  1.08s/it]\n"
     ]
    },
    {
     "name": "stdout",
     "output_type": "stream",
     "text": [
      "\n",
      "      Epoch    GPU_mem   box_loss   cls_loss   dfl_loss  Instances       Size\n"
     ]
    },
    {
     "name": "stderr",
     "output_type": "stream",
     "text": [
      "    371/500      79.1G     0.3327     0.2022     0.8198         38       1120: 100%|██████████| 98/98 [01:45<00:00,  1.08s/it]\n"
     ]
    },
    {
     "name": "stdout",
     "output_type": "stream",
     "text": [
      "\n",
      "      Epoch    GPU_mem   box_loss   cls_loss   dfl_loss  Instances       Size\n"
     ]
    },
    {
     "name": "stderr",
     "output_type": "stream",
     "text": [
      "    372/500      79.1G     0.3331      0.203     0.8178         36       1120: 100%|██████████| 98/98 [01:45<00:00,  1.08s/it]\n"
     ]
    },
    {
     "name": "stdout",
     "output_type": "stream",
     "text": [
      "\n",
      "      Epoch    GPU_mem   box_loss   cls_loss   dfl_loss  Instances       Size\n"
     ]
    },
    {
     "name": "stderr",
     "output_type": "stream",
     "text": [
      "    373/500      79.1G     0.3294     0.2033     0.8165         53       1120: 100%|██████████| 98/98 [01:45<00:00,  1.08s/it]\n"
     ]
    },
    {
     "name": "stdout",
     "output_type": "stream",
     "text": [
      "\n",
      "      Epoch    GPU_mem   box_loss   cls_loss   dfl_loss  Instances       Size\n"
     ]
    },
    {
     "name": "stderr",
     "output_type": "stream",
     "text": [
      "    374/500      79.1G     0.3317     0.2033     0.8174         45       1120: 100%|██████████| 98/98 [01:45<00:00,  1.08s/it]\n"
     ]
    },
    {
     "name": "stdout",
     "output_type": "stream",
     "text": [
      "\n",
      "      Epoch    GPU_mem   box_loss   cls_loss   dfl_loss  Instances       Size\n"
     ]
    },
    {
     "name": "stderr",
     "output_type": "stream",
     "text": [
      "    375/500      79.1G     0.3287     0.1989     0.8145         36       1120: 100%|██████████| 98/98 [01:45<00:00,  1.08s/it]\n"
     ]
    },
    {
     "name": "stdout",
     "output_type": "stream",
     "text": [
      "\n",
      "      Epoch    GPU_mem   box_loss   cls_loss   dfl_loss  Instances       Size\n"
     ]
    },
    {
     "name": "stderr",
     "output_type": "stream",
     "text": [
      "    376/500      79.1G     0.3302      0.204     0.8145         34       1120: 100%|██████████| 98/98 [01:45<00:00,  1.08s/it]\n"
     ]
    },
    {
     "name": "stdout",
     "output_type": "stream",
     "text": [
      "\n",
      "      Epoch    GPU_mem   box_loss   cls_loss   dfl_loss  Instances       Size\n"
     ]
    },
    {
     "name": "stderr",
     "output_type": "stream",
     "text": [
      "    377/500      79.1G      0.335     0.2043     0.8182         43       1120: 100%|██████████| 98/98 [01:45<00:00,  1.08s/it]\n"
     ]
    },
    {
     "name": "stdout",
     "output_type": "stream",
     "text": [
      "\n",
      "      Epoch    GPU_mem   box_loss   cls_loss   dfl_loss  Instances       Size\n"
     ]
    },
    {
     "name": "stderr",
     "output_type": "stream",
     "text": [
      "    378/500      79.1G     0.3267     0.2007     0.8145         32       1120: 100%|██████████| 98/98 [01:45<00:00,  1.08s/it]\n"
     ]
    },
    {
     "name": "stdout",
     "output_type": "stream",
     "text": [
      "\n",
      "      Epoch    GPU_mem   box_loss   cls_loss   dfl_loss  Instances       Size\n"
     ]
    },
    {
     "name": "stderr",
     "output_type": "stream",
     "text": [
      "    379/500      79.1G     0.3303     0.2022     0.8186         39       1120: 100%|██████████| 98/98 [01:45<00:00,  1.08s/it]\n"
     ]
    },
    {
     "name": "stdout",
     "output_type": "stream",
     "text": [
      "\n",
      "      Epoch    GPU_mem   box_loss   cls_loss   dfl_loss  Instances       Size\n"
     ]
    },
    {
     "name": "stderr",
     "output_type": "stream",
     "text": [
      "    380/500      79.1G     0.3266     0.2018     0.8138         36       1120: 100%|██████████| 98/98 [01:45<00:00,  1.08s/it]\n"
     ]
    },
    {
     "name": "stdout",
     "output_type": "stream",
     "text": [
      "\n",
      "      Epoch    GPU_mem   box_loss   cls_loss   dfl_loss  Instances       Size\n"
     ]
    },
    {
     "name": "stderr",
     "output_type": "stream",
     "text": [
      "    381/500      79.1G     0.3294     0.2015     0.8168         48       1120: 100%|██████████| 98/98 [01:45<00:00,  1.07s/it]\n"
     ]
    },
    {
     "name": "stdout",
     "output_type": "stream",
     "text": [
      "\n",
      "      Epoch    GPU_mem   box_loss   cls_loss   dfl_loss  Instances       Size\n"
     ]
    },
    {
     "name": "stderr",
     "output_type": "stream",
     "text": [
      "    382/500      79.1G     0.3279     0.2004     0.8161         28       1120: 100%|██████████| 98/98 [01:45<00:00,  1.08s/it]\n"
     ]
    },
    {
     "name": "stdout",
     "output_type": "stream",
     "text": [
      "\n",
      "      Epoch    GPU_mem   box_loss   cls_loss   dfl_loss  Instances       Size\n"
     ]
    },
    {
     "name": "stderr",
     "output_type": "stream",
     "text": [
      "    383/500      79.1G     0.3246     0.1992     0.8168         38       1120: 100%|██████████| 98/98 [01:45<00:00,  1.07s/it]\n"
     ]
    },
    {
     "name": "stdout",
     "output_type": "stream",
     "text": [
      "\n",
      "      Epoch    GPU_mem   box_loss   cls_loss   dfl_loss  Instances       Size\n"
     ]
    },
    {
     "name": "stderr",
     "output_type": "stream",
     "text": [
      "    384/500      79.1G      0.323     0.1965     0.8131         33       1120: 100%|██████████| 98/98 [01:45<00:00,  1.08s/it]\n"
     ]
    },
    {
     "name": "stdout",
     "output_type": "stream",
     "text": [
      "\n",
      "      Epoch    GPU_mem   box_loss   cls_loss   dfl_loss  Instances       Size\n"
     ]
    },
    {
     "name": "stderr",
     "output_type": "stream",
     "text": [
      "    385/500      79.1G     0.3244     0.1999     0.8132         47       1120: 100%|██████████| 98/98 [01:45<00:00,  1.07s/it]\n"
     ]
    },
    {
     "name": "stdout",
     "output_type": "stream",
     "text": [
      "\n",
      "      Epoch    GPU_mem   box_loss   cls_loss   dfl_loss  Instances       Size\n"
     ]
    },
    {
     "name": "stderr",
     "output_type": "stream",
     "text": [
      "    386/500      79.1G     0.3238     0.1986     0.8156         37       1120: 100%|██████████| 98/98 [01:45<00:00,  1.07s/it]\n"
     ]
    },
    {
     "name": "stdout",
     "output_type": "stream",
     "text": [
      "\n",
      "      Epoch    GPU_mem   box_loss   cls_loss   dfl_loss  Instances       Size\n"
     ]
    },
    {
     "name": "stderr",
     "output_type": "stream",
     "text": [
      "    387/500      79.1G       0.32     0.1971     0.8151         40       1120: 100%|██████████| 98/98 [01:45<00:00,  1.07s/it]\n"
     ]
    },
    {
     "name": "stdout",
     "output_type": "stream",
     "text": [
      "\n",
      "      Epoch    GPU_mem   box_loss   cls_loss   dfl_loss  Instances       Size\n"
     ]
    },
    {
     "name": "stderr",
     "output_type": "stream",
     "text": [
      "    388/500      79.1G      0.318     0.1969     0.8138         47       1120: 100%|██████████| 98/98 [01:45<00:00,  1.08s/it]\n"
     ]
    },
    {
     "name": "stdout",
     "output_type": "stream",
     "text": [
      "\n",
      "      Epoch    GPU_mem   box_loss   cls_loss   dfl_loss  Instances       Size\n"
     ]
    },
    {
     "name": "stderr",
     "output_type": "stream",
     "text": [
      "    389/500      79.1G     0.3236     0.1978     0.8175         28       1120: 100%|██████████| 98/98 [01:45<00:00,  1.08s/it]\n"
     ]
    },
    {
     "name": "stdout",
     "output_type": "stream",
     "text": [
      "\n",
      "      Epoch    GPU_mem   box_loss   cls_loss   dfl_loss  Instances       Size\n"
     ]
    },
    {
     "name": "stderr",
     "output_type": "stream",
     "text": [
      "    390/500      79.1G     0.3216     0.1971     0.8173         36       1120: 100%|██████████| 98/98 [01:45<00:00,  1.07s/it]\n"
     ]
    },
    {
     "name": "stdout",
     "output_type": "stream",
     "text": [
      "\n",
      "      Epoch    GPU_mem   box_loss   cls_loss   dfl_loss  Instances       Size\n"
     ]
    },
    {
     "name": "stderr",
     "output_type": "stream",
     "text": [
      "    391/500      79.1G     0.3201     0.1987     0.8174         39       1120: 100%|██████████| 98/98 [01:45<00:00,  1.07s/it]\n"
     ]
    },
    {
     "name": "stdout",
     "output_type": "stream",
     "text": [
      "\n",
      "      Epoch    GPU_mem   box_loss   cls_loss   dfl_loss  Instances       Size\n"
     ]
    },
    {
     "name": "stderr",
     "output_type": "stream",
     "text": [
      "    392/500      79.1G     0.3149     0.1947     0.8156         27       1120: 100%|██████████| 98/98 [01:45<00:00,  1.08s/it]\n"
     ]
    },
    {
     "name": "stdout",
     "output_type": "stream",
     "text": [
      "\n",
      "      Epoch    GPU_mem   box_loss   cls_loss   dfl_loss  Instances       Size\n"
     ]
    },
    {
     "name": "stderr",
     "output_type": "stream",
     "text": [
      "    393/500      79.1G     0.3221     0.1988     0.8182         34       1120: 100%|██████████| 98/98 [01:45<00:00,  1.07s/it]\n"
     ]
    },
    {
     "name": "stdout",
     "output_type": "stream",
     "text": [
      "\n",
      "      Epoch    GPU_mem   box_loss   cls_loss   dfl_loss  Instances       Size\n"
     ]
    },
    {
     "name": "stderr",
     "output_type": "stream",
     "text": [
      "    394/500      79.1G     0.3113     0.1893       0.81         36       1120: 100%|██████████| 98/98 [01:45<00:00,  1.08s/it]\n"
     ]
    },
    {
     "name": "stdout",
     "output_type": "stream",
     "text": [
      "\n",
      "      Epoch    GPU_mem   box_loss   cls_loss   dfl_loss  Instances       Size\n"
     ]
    },
    {
     "name": "stderr",
     "output_type": "stream",
     "text": [
      "    395/500      79.6G     0.3166     0.1947     0.8118         49       1120: 100%|██████████| 98/98 [01:45<00:00,  1.08s/it]\n"
     ]
    },
    {
     "name": "stdout",
     "output_type": "stream",
     "text": [
      "\n",
      "      Epoch    GPU_mem   box_loss   cls_loss   dfl_loss  Instances       Size\n"
     ]
    },
    {
     "name": "stderr",
     "output_type": "stream",
     "text": [
      "    396/500      79.1G     0.3106     0.1931     0.8093         41       1120: 100%|██████████| 98/98 [01:45<00:00,  1.08s/it]\n"
     ]
    },
    {
     "name": "stdout",
     "output_type": "stream",
     "text": [
      "\n",
      "      Epoch    GPU_mem   box_loss   cls_loss   dfl_loss  Instances       Size\n"
     ]
    },
    {
     "name": "stderr",
     "output_type": "stream",
     "text": [
      "    397/500      79.5G     0.3169     0.1951     0.8145         42       1120: 100%|██████████| 98/98 [01:45<00:00,  1.08s/it]\n"
     ]
    },
    {
     "name": "stdout",
     "output_type": "stream",
     "text": [
      "\n",
      "      Epoch    GPU_mem   box_loss   cls_loss   dfl_loss  Instances       Size\n"
     ]
    },
    {
     "name": "stderr",
     "output_type": "stream",
     "text": [
      "    398/500      79.1G      0.314     0.1923     0.8149         35       1120: 100%|██████████| 98/98 [01:45<00:00,  1.08s/it]\n"
     ]
    },
    {
     "name": "stdout",
     "output_type": "stream",
     "text": [
      "\n",
      "      Epoch    GPU_mem   box_loss   cls_loss   dfl_loss  Instances       Size\n"
     ]
    },
    {
     "name": "stderr",
     "output_type": "stream",
     "text": [
      "    399/500      79.1G     0.3102     0.1888     0.8098         30       1120: 100%|██████████| 98/98 [01:45<00:00,  1.08s/it]\n"
     ]
    },
    {
     "name": "stdout",
     "output_type": "stream",
     "text": [
      "\n",
      "      Epoch    GPU_mem   box_loss   cls_loss   dfl_loss  Instances       Size\n"
     ]
    },
    {
     "name": "stderr",
     "output_type": "stream",
     "text": [
      "    400/500      79.1G     0.3141     0.1939     0.8112         57       1120: 100%|██████████| 98/98 [01:45<00:00,  1.08s/it]\n"
     ]
    },
    {
     "name": "stdout",
     "output_type": "stream",
     "text": [
      "\n",
      "      Epoch    GPU_mem   box_loss   cls_loss   dfl_loss  Instances       Size\n"
     ]
    },
    {
     "name": "stderr",
     "output_type": "stream",
     "text": [
      "    401/500      79.1G     0.3125     0.1909     0.8118         33       1120: 100%|██████████| 98/98 [01:45<00:00,  1.08s/it]\n"
     ]
    },
    {
     "name": "stdout",
     "output_type": "stream",
     "text": [
      "\n",
      "      Epoch    GPU_mem   box_loss   cls_loss   dfl_loss  Instances       Size\n"
     ]
    },
    {
     "name": "stderr",
     "output_type": "stream",
     "text": [
      "    402/500      79.1G     0.3107      0.189     0.8104         37       1120: 100%|██████████| 98/98 [01:45<00:00,  1.08s/it]\n"
     ]
    },
    {
     "name": "stdout",
     "output_type": "stream",
     "text": [
      "\n",
      "      Epoch    GPU_mem   box_loss   cls_loss   dfl_loss  Instances       Size\n"
     ]
    },
    {
     "name": "stderr",
     "output_type": "stream",
     "text": [
      "    403/500      79.1G     0.3112     0.1902     0.8153         49       1120: 100%|██████████| 98/98 [01:46<00:00,  1.08s/it]\n"
     ]
    },
    {
     "name": "stdout",
     "output_type": "stream",
     "text": [
      "\n",
      "      Epoch    GPU_mem   box_loss   cls_loss   dfl_loss  Instances       Size\n"
     ]
    },
    {
     "name": "stderr",
     "output_type": "stream",
     "text": [
      "    404/500      79.1G     0.3105     0.1884     0.8134         48       1120: 100%|██████████| 98/98 [01:45<00:00,  1.08s/it]\n"
     ]
    },
    {
     "name": "stdout",
     "output_type": "stream",
     "text": [
      "\n",
      "      Epoch    GPU_mem   box_loss   cls_loss   dfl_loss  Instances       Size\n"
     ]
    },
    {
     "name": "stderr",
     "output_type": "stream",
     "text": [
      "    405/500      79.1G     0.3087     0.1854      0.812         42       1120: 100%|██████████| 98/98 [01:45<00:00,  1.08s/it]\n"
     ]
    },
    {
     "name": "stdout",
     "output_type": "stream",
     "text": [
      "\n",
      "      Epoch    GPU_mem   box_loss   cls_loss   dfl_loss  Instances       Size\n"
     ]
    },
    {
     "name": "stderr",
     "output_type": "stream",
     "text": [
      "    406/500      79.1G      0.307     0.1864     0.8083         40       1120: 100%|██████████| 98/98 [01:45<00:00,  1.08s/it]\n"
     ]
    },
    {
     "name": "stdout",
     "output_type": "stream",
     "text": [
      "\n",
      "      Epoch    GPU_mem   box_loss   cls_loss   dfl_loss  Instances       Size\n"
     ]
    },
    {
     "name": "stderr",
     "output_type": "stream",
     "text": [
      "    407/500      79.1G     0.3116     0.1908     0.8113         35       1120: 100%|██████████| 98/98 [01:45<00:00,  1.08s/it]\n"
     ]
    },
    {
     "name": "stdout",
     "output_type": "stream",
     "text": [
      "\n",
      "      Epoch    GPU_mem   box_loss   cls_loss   dfl_loss  Instances       Size\n"
     ]
    },
    {
     "name": "stderr",
     "output_type": "stream",
     "text": [
      "    408/500      79.1G     0.3065     0.1905     0.8087         41       1120: 100%|██████████| 98/98 [01:45<00:00,  1.08s/it]\n"
     ]
    },
    {
     "name": "stdout",
     "output_type": "stream",
     "text": [
      "\n",
      "      Epoch    GPU_mem   box_loss   cls_loss   dfl_loss  Instances       Size\n"
     ]
    },
    {
     "name": "stderr",
     "output_type": "stream",
     "text": [
      "    409/500      79.1G     0.3067     0.1884     0.8078         45       1120: 100%|██████████| 98/98 [01:45<00:00,  1.08s/it]\n"
     ]
    },
    {
     "name": "stdout",
     "output_type": "stream",
     "text": [
      "\n",
      "      Epoch    GPU_mem   box_loss   cls_loss   dfl_loss  Instances       Size\n"
     ]
    },
    {
     "name": "stderr",
     "output_type": "stream",
     "text": [
      "    410/500      79.1G     0.3021      0.187     0.8088         38       1120: 100%|██████████| 98/98 [01:45<00:00,  1.08s/it]\n"
     ]
    },
    {
     "name": "stdout",
     "output_type": "stream",
     "text": [
      "\n",
      "      Epoch    GPU_mem   box_loss   cls_loss   dfl_loss  Instances       Size\n"
     ]
    },
    {
     "name": "stderr",
     "output_type": "stream",
     "text": [
      "    411/500      79.1G     0.3061      0.185     0.8114         35       1120: 100%|██████████| 98/98 [01:45<00:00,  1.08s/it]\n"
     ]
    },
    {
     "name": "stdout",
     "output_type": "stream",
     "text": [
      "\n",
      "      Epoch    GPU_mem   box_loss   cls_loss   dfl_loss  Instances       Size\n"
     ]
    },
    {
     "name": "stderr",
     "output_type": "stream",
     "text": [
      "    412/500      79.1G      0.303     0.1872     0.8105         35       1120: 100%|██████████| 98/98 [01:45<00:00,  1.08s/it]\n"
     ]
    },
    {
     "name": "stdout",
     "output_type": "stream",
     "text": [
      "\n",
      "      Epoch    GPU_mem   box_loss   cls_loss   dfl_loss  Instances       Size\n"
     ]
    },
    {
     "name": "stderr",
     "output_type": "stream",
     "text": [
      "    413/500      79.1G     0.3026     0.1885     0.8128         38       1120: 100%|██████████| 98/98 [01:45<00:00,  1.08s/it]\n"
     ]
    },
    {
     "name": "stdout",
     "output_type": "stream",
     "text": [
      "\n",
      "      Epoch    GPU_mem   box_loss   cls_loss   dfl_loss  Instances       Size\n"
     ]
    },
    {
     "name": "stderr",
     "output_type": "stream",
     "text": [
      "    414/500      79.1G     0.3026      0.184      0.811         36       1120: 100%|██████████| 98/98 [01:45<00:00,  1.08s/it]\n"
     ]
    },
    {
     "name": "stdout",
     "output_type": "stream",
     "text": [
      "\n",
      "      Epoch    GPU_mem   box_loss   cls_loss   dfl_loss  Instances       Size\n"
     ]
    },
    {
     "name": "stderr",
     "output_type": "stream",
     "text": [
      "    415/500      79.1G      0.305     0.1848     0.8101         42       1120: 100%|██████████| 98/98 [01:45<00:00,  1.08s/it]\n"
     ]
    },
    {
     "name": "stdout",
     "output_type": "stream",
     "text": [
      "\n",
      "      Epoch    GPU_mem   box_loss   cls_loss   dfl_loss  Instances       Size\n"
     ]
    },
    {
     "name": "stderr",
     "output_type": "stream",
     "text": [
      "    416/500      79.1G     0.3012     0.1833     0.8107         43       1120: 100%|██████████| 98/98 [01:45<00:00,  1.08s/it]\n"
     ]
    },
    {
     "name": "stdout",
     "output_type": "stream",
     "text": [
      "\n",
      "      Epoch    GPU_mem   box_loss   cls_loss   dfl_loss  Instances       Size\n"
     ]
    },
    {
     "name": "stderr",
     "output_type": "stream",
     "text": [
      "    417/500      79.1G     0.2982     0.1819     0.8105         40       1120: 100%|██████████| 98/98 [01:45<00:00,  1.08s/it]\n"
     ]
    },
    {
     "name": "stdout",
     "output_type": "stream",
     "text": [
      "\n",
      "      Epoch    GPU_mem   box_loss   cls_loss   dfl_loss  Instances       Size\n"
     ]
    },
    {
     "name": "stderr",
     "output_type": "stream",
     "text": [
      "    418/500      79.1G     0.2977     0.1846     0.8072         34       1120: 100%|██████████| 98/98 [01:45<00:00,  1.08s/it]\n"
     ]
    },
    {
     "name": "stdout",
     "output_type": "stream",
     "text": [
      "\n",
      "      Epoch    GPU_mem   box_loss   cls_loss   dfl_loss  Instances       Size\n"
     ]
    },
    {
     "name": "stderr",
     "output_type": "stream",
     "text": [
      "    419/500      79.1G     0.3018     0.1828     0.8079         30       1120: 100%|██████████| 98/98 [01:45<00:00,  1.08s/it]\n"
     ]
    },
    {
     "name": "stdout",
     "output_type": "stream",
     "text": [
      "\n",
      "      Epoch    GPU_mem   box_loss   cls_loss   dfl_loss  Instances       Size\n"
     ]
    },
    {
     "name": "stderr",
     "output_type": "stream",
     "text": [
      "    420/500      79.1G     0.2992     0.1815     0.8083         27       1120: 100%|██████████| 98/98 [01:45<00:00,  1.08s/it]\n"
     ]
    },
    {
     "name": "stdout",
     "output_type": "stream",
     "text": [
      "\n",
      "      Epoch    GPU_mem   box_loss   cls_loss   dfl_loss  Instances       Size\n"
     ]
    },
    {
     "name": "stderr",
     "output_type": "stream",
     "text": [
      "    421/500      79.1G     0.2981     0.1854     0.8097         33       1120: 100%|██████████| 98/98 [01:46<00:00,  1.08s/it]\n"
     ]
    },
    {
     "name": "stdout",
     "output_type": "stream",
     "text": [
      "\n",
      "      Epoch    GPU_mem   box_loss   cls_loss   dfl_loss  Instances       Size\n"
     ]
    },
    {
     "name": "stderr",
     "output_type": "stream",
     "text": [
      "    422/500      79.1G     0.2959     0.1833     0.8075         56       1120: 100%|██████████| 98/98 [01:45<00:00,  1.08s/it]\n"
     ]
    },
    {
     "name": "stdout",
     "output_type": "stream",
     "text": [
      "\n",
      "      Epoch    GPU_mem   box_loss   cls_loss   dfl_loss  Instances       Size\n"
     ]
    },
    {
     "name": "stderr",
     "output_type": "stream",
     "text": [
      "    423/500      79.1G     0.2975     0.1835     0.8071         37       1120: 100%|██████████| 98/98 [01:45<00:00,  1.08s/it]\n"
     ]
    },
    {
     "name": "stdout",
     "output_type": "stream",
     "text": [
      "\n",
      "      Epoch    GPU_mem   box_loss   cls_loss   dfl_loss  Instances       Size\n"
     ]
    },
    {
     "name": "stderr",
     "output_type": "stream",
     "text": [
      "    424/500      79.1G     0.2942     0.1817     0.8081         39       1120: 100%|██████████| 98/98 [01:45<00:00,  1.08s/it]\n"
     ]
    },
    {
     "name": "stdout",
     "output_type": "stream",
     "text": [
      "\n",
      "      Epoch    GPU_mem   box_loss   cls_loss   dfl_loss  Instances       Size\n"
     ]
    },
    {
     "name": "stderr",
     "output_type": "stream",
     "text": [
      "    425/500      79.1G     0.2911     0.1796     0.8072         46       1120: 100%|██████████| 98/98 [01:45<00:00,  1.08s/it]\n"
     ]
    },
    {
     "name": "stdout",
     "output_type": "stream",
     "text": [
      "\n",
      "      Epoch    GPU_mem   box_loss   cls_loss   dfl_loss  Instances       Size\n"
     ]
    },
    {
     "name": "stderr",
     "output_type": "stream",
     "text": [
      "    426/500      79.1G     0.2919     0.1769     0.8054         45       1120: 100%|██████████| 98/98 [01:45<00:00,  1.08s/it]\n"
     ]
    },
    {
     "name": "stdout",
     "output_type": "stream",
     "text": [
      "\n",
      "      Epoch    GPU_mem   box_loss   cls_loss   dfl_loss  Instances       Size\n"
     ]
    },
    {
     "name": "stderr",
     "output_type": "stream",
     "text": [
      "    427/500      79.6G     0.2929     0.1824     0.8074         43       1120: 100%|██████████| 98/98 [01:45<00:00,  1.08s/it]\n"
     ]
    },
    {
     "name": "stdout",
     "output_type": "stream",
     "text": [
      "\n",
      "      Epoch    GPU_mem   box_loss   cls_loss   dfl_loss  Instances       Size\n"
     ]
    },
    {
     "name": "stderr",
     "output_type": "stream",
     "text": [
      "    428/500      79.1G     0.2916     0.1792     0.8053         41       1120: 100%|██████████| 98/98 [01:45<00:00,  1.08s/it]\n"
     ]
    },
    {
     "name": "stdout",
     "output_type": "stream",
     "text": [
      "\n",
      "      Epoch    GPU_mem   box_loss   cls_loss   dfl_loss  Instances       Size\n"
     ]
    },
    {
     "name": "stderr",
     "output_type": "stream",
     "text": [
      "    429/500      79.1G     0.2873     0.1768     0.8072         46       1120: 100%|██████████| 98/98 [01:45<00:00,  1.08s/it]\n"
     ]
    },
    {
     "name": "stdout",
     "output_type": "stream",
     "text": [
      "\n",
      "      Epoch    GPU_mem   box_loss   cls_loss   dfl_loss  Instances       Size\n"
     ]
    },
    {
     "name": "stderr",
     "output_type": "stream",
     "text": [
      "    430/500      79.1G     0.2912     0.1785     0.8072         46       1120: 100%|██████████| 98/98 [01:45<00:00,  1.08s/it]\n"
     ]
    },
    {
     "name": "stdout",
     "output_type": "stream",
     "text": [
      "\n",
      "      Epoch    GPU_mem   box_loss   cls_loss   dfl_loss  Instances       Size\n"
     ]
    },
    {
     "name": "stderr",
     "output_type": "stream",
     "text": [
      "    431/500      79.1G     0.2852     0.1765     0.8063         39       1120: 100%|██████████| 98/98 [01:45<00:00,  1.08s/it]\n"
     ]
    },
    {
     "name": "stdout",
     "output_type": "stream",
     "text": [
      "\n",
      "      Epoch    GPU_mem   box_loss   cls_loss   dfl_loss  Instances       Size\n"
     ]
    },
    {
     "name": "stderr",
     "output_type": "stream",
     "text": [
      "    432/500      79.1G     0.2856     0.1779     0.8046         38       1120: 100%|██████████| 98/98 [01:45<00:00,  1.08s/it]\n"
     ]
    },
    {
     "name": "stdout",
     "output_type": "stream",
     "text": [
      "\n",
      "      Epoch    GPU_mem   box_loss   cls_loss   dfl_loss  Instances       Size\n"
     ]
    },
    {
     "name": "stderr",
     "output_type": "stream",
     "text": [
      "    433/500      79.1G     0.2869      0.176     0.8082         35       1120: 100%|██████████| 98/98 [01:45<00:00,  1.08s/it]\n"
     ]
    },
    {
     "name": "stdout",
     "output_type": "stream",
     "text": [
      "\n",
      "      Epoch    GPU_mem   box_loss   cls_loss   dfl_loss  Instances       Size\n"
     ]
    },
    {
     "name": "stderr",
     "output_type": "stream",
     "text": [
      "    434/500      79.1G     0.2891     0.1773     0.8079         37       1120: 100%|██████████| 98/98 [01:45<00:00,  1.08s/it]\n"
     ]
    },
    {
     "name": "stdout",
     "output_type": "stream",
     "text": [
      "\n",
      "      Epoch    GPU_mem   box_loss   cls_loss   dfl_loss  Instances       Size\n"
     ]
    },
    {
     "name": "stderr",
     "output_type": "stream",
     "text": [
      "    435/500      79.1G     0.2863     0.1754     0.8053         47       1120: 100%|██████████| 98/98 [01:45<00:00,  1.08s/it]\n"
     ]
    },
    {
     "name": "stdout",
     "output_type": "stream",
     "text": [
      "\n",
      "      Epoch    GPU_mem   box_loss   cls_loss   dfl_loss  Instances       Size\n"
     ]
    },
    {
     "name": "stderr",
     "output_type": "stream",
     "text": [
      "    436/500      79.1G     0.2858     0.1746     0.8069         44       1120: 100%|██████████| 98/98 [01:45<00:00,  1.08s/it]\n"
     ]
    },
    {
     "name": "stdout",
     "output_type": "stream",
     "text": [
      "\n",
      "      Epoch    GPU_mem   box_loss   cls_loss   dfl_loss  Instances       Size\n"
     ]
    },
    {
     "name": "stderr",
     "output_type": "stream",
     "text": [
      "    437/500      79.4G      0.289     0.1761     0.8061         47       1120: 100%|██████████| 98/98 [01:45<00:00,  1.08s/it]\n"
     ]
    },
    {
     "name": "stdout",
     "output_type": "stream",
     "text": [
      "\n",
      "      Epoch    GPU_mem   box_loss   cls_loss   dfl_loss  Instances       Size\n"
     ]
    },
    {
     "name": "stderr",
     "output_type": "stream",
     "text": [
      "    438/500      79.1G     0.2868     0.1737      0.804         30       1120: 100%|██████████| 98/98 [01:45<00:00,  1.08s/it]\n"
     ]
    },
    {
     "name": "stdout",
     "output_type": "stream",
     "text": [
      "\n",
      "      Epoch    GPU_mem   box_loss   cls_loss   dfl_loss  Instances       Size\n"
     ]
    },
    {
     "name": "stderr",
     "output_type": "stream",
     "text": [
      "    439/500      79.1G     0.2819     0.1736     0.8057         45       1120: 100%|██████████| 98/98 [01:45<00:00,  1.07s/it]\n"
     ]
    },
    {
     "name": "stdout",
     "output_type": "stream",
     "text": [
      "\n",
      "      Epoch    GPU_mem   box_loss   cls_loss   dfl_loss  Instances       Size\n"
     ]
    },
    {
     "name": "stderr",
     "output_type": "stream",
     "text": [
      "    440/500      79.1G     0.2806     0.1708     0.8051         30       1120: 100%|██████████| 98/98 [01:45<00:00,  1.07s/it]\n"
     ]
    },
    {
     "name": "stdout",
     "output_type": "stream",
     "text": [
      "\n",
      "      Epoch    GPU_mem   box_loss   cls_loss   dfl_loss  Instances       Size\n"
     ]
    },
    {
     "name": "stderr",
     "output_type": "stream",
     "text": [
      "    441/500      79.1G     0.2804     0.1729     0.8043         44       1120: 100%|██████████| 98/98 [01:45<00:00,  1.07s/it]\n"
     ]
    },
    {
     "name": "stdout",
     "output_type": "stream",
     "text": [
      "\n",
      "      Epoch    GPU_mem   box_loss   cls_loss   dfl_loss  Instances       Size\n"
     ]
    },
    {
     "name": "stderr",
     "output_type": "stream",
     "text": [
      "    442/500      79.1G     0.2823     0.1727     0.8038         39       1120: 100%|██████████| 98/98 [01:45<00:00,  1.07s/it]\n"
     ]
    },
    {
     "name": "stdout",
     "output_type": "stream",
     "text": [
      "\n",
      "      Epoch    GPU_mem   box_loss   cls_loss   dfl_loss  Instances       Size\n"
     ]
    },
    {
     "name": "stderr",
     "output_type": "stream",
     "text": [
      "    443/500      79.1G     0.2777     0.1727     0.8048         34       1120: 100%|██████████| 98/98 [01:45<00:00,  1.08s/it]\n"
     ]
    },
    {
     "name": "stdout",
     "output_type": "stream",
     "text": [
      "\n",
      "      Epoch    GPU_mem   box_loss   cls_loss   dfl_loss  Instances       Size\n"
     ]
    },
    {
     "name": "stderr",
     "output_type": "stream",
     "text": [
      "    444/500      79.1G     0.2771     0.1689     0.8016         41       1120: 100%|██████████| 98/98 [01:45<00:00,  1.08s/it]\n"
     ]
    },
    {
     "name": "stdout",
     "output_type": "stream",
     "text": [
      "\n",
      "      Epoch    GPU_mem   box_loss   cls_loss   dfl_loss  Instances       Size\n"
     ]
    },
    {
     "name": "stderr",
     "output_type": "stream",
     "text": [
      "    445/500      79.1G     0.2798     0.1694     0.8042         43       1120: 100%|██████████| 98/98 [01:45<00:00,  1.07s/it]\n"
     ]
    },
    {
     "name": "stdout",
     "output_type": "stream",
     "text": [
      "\n",
      "      Epoch    GPU_mem   box_loss   cls_loss   dfl_loss  Instances       Size\n"
     ]
    },
    {
     "name": "stderr",
     "output_type": "stream",
     "text": [
      "    446/500      79.1G     0.2757     0.1705     0.8041         44       1120: 100%|██████████| 98/98 [01:45<00:00,  1.08s/it]\n"
     ]
    },
    {
     "name": "stdout",
     "output_type": "stream",
     "text": [
      "\n",
      "      Epoch    GPU_mem   box_loss   cls_loss   dfl_loss  Instances       Size\n"
     ]
    },
    {
     "name": "stderr",
     "output_type": "stream",
     "text": [
      "    447/500      79.1G     0.2789     0.1696     0.8056         33       1120: 100%|██████████| 98/98 [01:45<00:00,  1.08s/it]\n"
     ]
    },
    {
     "name": "stdout",
     "output_type": "stream",
     "text": [
      "\n",
      "      Epoch    GPU_mem   box_loss   cls_loss   dfl_loss  Instances       Size\n"
     ]
    },
    {
     "name": "stderr",
     "output_type": "stream",
     "text": [
      "    448/500      79.1G     0.2765     0.1693     0.8028         53       1120: 100%|██████████| 98/98 [01:45<00:00,  1.08s/it]\n"
     ]
    },
    {
     "name": "stdout",
     "output_type": "stream",
     "text": [
      "\n",
      "      Epoch    GPU_mem   box_loss   cls_loss   dfl_loss  Instances       Size\n"
     ]
    },
    {
     "name": "stderr",
     "output_type": "stream",
     "text": [
      "    449/500      79.1G     0.2781     0.1692     0.8052         51       1120: 100%|██████████| 98/98 [01:45<00:00,  1.07s/it]\n"
     ]
    },
    {
     "name": "stdout",
     "output_type": "stream",
     "text": [
      "\n",
      "      Epoch    GPU_mem   box_loss   cls_loss   dfl_loss  Instances       Size\n"
     ]
    },
    {
     "name": "stderr",
     "output_type": "stream",
     "text": [
      "    450/500      79.1G     0.2774     0.1686     0.8017         40       1120: 100%|██████████| 98/98 [01:45<00:00,  1.07s/it]\n"
     ]
    },
    {
     "name": "stdout",
     "output_type": "stream",
     "text": [
      "\n",
      "      Epoch    GPU_mem   box_loss   cls_loss   dfl_loss  Instances       Size\n"
     ]
    },
    {
     "name": "stderr",
     "output_type": "stream",
     "text": [
      "    451/500      79.1G     0.2735     0.1666     0.8011         37       1120: 100%|██████████| 98/98 [01:45<00:00,  1.08s/it]\n"
     ]
    },
    {
     "name": "stdout",
     "output_type": "stream",
     "text": [
      "\n",
      "      Epoch    GPU_mem   box_loss   cls_loss   dfl_loss  Instances       Size\n"
     ]
    },
    {
     "name": "stderr",
     "output_type": "stream",
     "text": [
      "    452/500      79.1G     0.2709     0.1672     0.7991         38       1120: 100%|██████████| 98/98 [01:45<00:00,  1.08s/it]\n"
     ]
    },
    {
     "name": "stdout",
     "output_type": "stream",
     "text": [
      "\n",
      "      Epoch    GPU_mem   box_loss   cls_loss   dfl_loss  Instances       Size\n"
     ]
    },
    {
     "name": "stderr",
     "output_type": "stream",
     "text": [
      "    453/500      79.1G     0.2735     0.1687     0.8029         45       1120: 100%|██████████| 98/98 [01:45<00:00,  1.08s/it]\n"
     ]
    },
    {
     "name": "stdout",
     "output_type": "stream",
     "text": [
      "\n",
      "      Epoch    GPU_mem   box_loss   cls_loss   dfl_loss  Instances       Size\n"
     ]
    },
    {
     "name": "stderr",
     "output_type": "stream",
     "text": [
      "    454/500      79.1G     0.2717     0.1652     0.8029         44       1120: 100%|██████████| 98/98 [01:45<00:00,  1.08s/it]\n"
     ]
    },
    {
     "name": "stdout",
     "output_type": "stream",
     "text": [
      "\n",
      "      Epoch    GPU_mem   box_loss   cls_loss   dfl_loss  Instances       Size\n"
     ]
    },
    {
     "name": "stderr",
     "output_type": "stream",
     "text": [
      "    455/500      79.1G     0.2692     0.1657     0.8015         33       1120: 100%|██████████| 98/98 [01:45<00:00,  1.08s/it]\n"
     ]
    },
    {
     "name": "stdout",
     "output_type": "stream",
     "text": [
      "\n",
      "      Epoch    GPU_mem   box_loss   cls_loss   dfl_loss  Instances       Size\n"
     ]
    },
    {
     "name": "stderr",
     "output_type": "stream",
     "text": [
      "    456/500      79.1G     0.2695     0.1654     0.8014         31       1120: 100%|██████████| 98/98 [01:45<00:00,  1.08s/it]\n"
     ]
    },
    {
     "name": "stdout",
     "output_type": "stream",
     "text": [
      "\n",
      "      Epoch    GPU_mem   box_loss   cls_loss   dfl_loss  Instances       Size\n"
     ]
    },
    {
     "name": "stderr",
     "output_type": "stream",
     "text": [
      "    457/500      79.1G     0.2691     0.1644     0.8024         39       1120: 100%|██████████| 98/98 [01:45<00:00,  1.08s/it]\n"
     ]
    },
    {
     "name": "stdout",
     "output_type": "stream",
     "text": [
      "\n",
      "      Epoch    GPU_mem   box_loss   cls_loss   dfl_loss  Instances       Size\n"
     ]
    },
    {
     "name": "stderr",
     "output_type": "stream",
     "text": [
      "    458/500      79.1G     0.2681     0.1675     0.8022         47       1120: 100%|██████████| 98/98 [01:45<00:00,  1.08s/it]\n"
     ]
    },
    {
     "name": "stdout",
     "output_type": "stream",
     "text": [
      "\n",
      "      Epoch    GPU_mem   box_loss   cls_loss   dfl_loss  Instances       Size\n"
     ]
    },
    {
     "name": "stderr",
     "output_type": "stream",
     "text": [
      "    459/500      79.1G     0.2666      0.163     0.8002         50       1120: 100%|██████████| 98/98 [01:45<00:00,  1.08s/it]\n"
     ]
    },
    {
     "name": "stdout",
     "output_type": "stream",
     "text": [
      "\n",
      "      Epoch    GPU_mem   box_loss   cls_loss   dfl_loss  Instances       Size\n"
     ]
    },
    {
     "name": "stderr",
     "output_type": "stream",
     "text": [
      "    460/500      79.5G     0.2594     0.1598     0.7974         43       1120: 100%|██████████| 98/98 [01:45<00:00,  1.08s/it]\n"
     ]
    },
    {
     "name": "stdout",
     "output_type": "stream",
     "text": [
      "\n",
      "      Epoch    GPU_mem   box_loss   cls_loss   dfl_loss  Instances       Size\n"
     ]
    },
    {
     "name": "stderr",
     "output_type": "stream",
     "text": [
      "    461/500      79.1G     0.2627     0.1619     0.7981         40       1120: 100%|██████████| 98/98 [01:45<00:00,  1.08s/it]\n"
     ]
    },
    {
     "name": "stdout",
     "output_type": "stream",
     "text": [
      "\n",
      "      Epoch    GPU_mem   box_loss   cls_loss   dfl_loss  Instances       Size\n"
     ]
    },
    {
     "name": "stderr",
     "output_type": "stream",
     "text": [
      "    462/500      79.1G     0.2643     0.1616      0.798         44       1120: 100%|██████████| 98/98 [01:45<00:00,  1.08s/it]\n"
     ]
    },
    {
     "name": "stdout",
     "output_type": "stream",
     "text": [
      "\n",
      "      Epoch    GPU_mem   box_loss   cls_loss   dfl_loss  Instances       Size\n"
     ]
    },
    {
     "name": "stderr",
     "output_type": "stream",
     "text": [
      "    463/500      79.1G      0.264       0.16      0.802         52       1120: 100%|██████████| 98/98 [01:45<00:00,  1.08s/it]\n"
     ]
    },
    {
     "name": "stdout",
     "output_type": "stream",
     "text": [
      "\n",
      "      Epoch    GPU_mem   box_loss   cls_loss   dfl_loss  Instances       Size\n"
     ]
    },
    {
     "name": "stderr",
     "output_type": "stream",
     "text": [
      "    464/500      79.1G     0.2603     0.1604     0.7975         38       1120: 100%|██████████| 98/98 [01:45<00:00,  1.07s/it]\n"
     ]
    },
    {
     "name": "stdout",
     "output_type": "stream",
     "text": [
      "\n",
      "      Epoch    GPU_mem   box_loss   cls_loss   dfl_loss  Instances       Size\n"
     ]
    },
    {
     "name": "stderr",
     "output_type": "stream",
     "text": [
      "    465/500      79.4G     0.2675     0.1644     0.8018         53       1120: 100%|██████████| 98/98 [01:45<00:00,  1.08s/it]\n"
     ]
    },
    {
     "name": "stdout",
     "output_type": "stream",
     "text": [
      "\n",
      "      Epoch    GPU_mem   box_loss   cls_loss   dfl_loss  Instances       Size\n"
     ]
    },
    {
     "name": "stderr",
     "output_type": "stream",
     "text": [
      "    466/500      79.1G      0.264     0.1587     0.7999         50       1120: 100%|██████████| 98/98 [01:45<00:00,  1.08s/it]\n"
     ]
    },
    {
     "name": "stdout",
     "output_type": "stream",
     "text": [
      "\n",
      "      Epoch    GPU_mem   box_loss   cls_loss   dfl_loss  Instances       Size\n"
     ]
    },
    {
     "name": "stderr",
     "output_type": "stream",
     "text": [
      "    467/500      79.1G      0.265     0.1609     0.8004         51       1120: 100%|██████████| 98/98 [01:45<00:00,  1.08s/it]\n"
     ]
    },
    {
     "name": "stdout",
     "output_type": "stream",
     "text": [
      "\n",
      "      Epoch    GPU_mem   box_loss   cls_loss   dfl_loss  Instances       Size\n"
     ]
    },
    {
     "name": "stderr",
     "output_type": "stream",
     "text": [
      "    468/500      79.1G     0.2583     0.1578     0.7975         37       1120: 100%|██████████| 98/98 [01:45<00:00,  1.08s/it]\n"
     ]
    },
    {
     "name": "stdout",
     "output_type": "stream",
     "text": [
      "\n",
      "      Epoch    GPU_mem   box_loss   cls_loss   dfl_loss  Instances       Size\n"
     ]
    },
    {
     "name": "stderr",
     "output_type": "stream",
     "text": [
      "    469/500      79.1G     0.2591     0.1575     0.8001         46       1120: 100%|██████████| 98/98 [01:45<00:00,  1.08s/it]\n"
     ]
    },
    {
     "name": "stdout",
     "output_type": "stream",
     "text": [
      "\n",
      "      Epoch    GPU_mem   box_loss   cls_loss   dfl_loss  Instances       Size\n"
     ]
    },
    {
     "name": "stderr",
     "output_type": "stream",
     "text": [
      "    470/500      79.1G     0.2592     0.1582     0.7992         46       1120: 100%|██████████| 98/98 [01:45<00:00,  1.08s/it]\n"
     ]
    },
    {
     "name": "stdout",
     "output_type": "stream",
     "text": [
      "\n",
      "      Epoch    GPU_mem   box_loss   cls_loss   dfl_loss  Instances       Size\n"
     ]
    },
    {
     "name": "stderr",
     "output_type": "stream",
     "text": [
      "    471/500      79.1G     0.2562     0.1585     0.7974         26       1120: 100%|██████████| 98/98 [01:45<00:00,  1.07s/it]\n"
     ]
    },
    {
     "name": "stdout",
     "output_type": "stream",
     "text": [
      "\n",
      "      Epoch    GPU_mem   box_loss   cls_loss   dfl_loss  Instances       Size\n"
     ]
    },
    {
     "name": "stderr",
     "output_type": "stream",
     "text": [
      "    472/500      79.1G      0.254     0.1569     0.7982         45       1120: 100%|██████████| 98/98 [01:45<00:00,  1.08s/it]\n"
     ]
    },
    {
     "name": "stdout",
     "output_type": "stream",
     "text": [
      "\n",
      "      Epoch    GPU_mem   box_loss   cls_loss   dfl_loss  Instances       Size\n"
     ]
    },
    {
     "name": "stderr",
     "output_type": "stream",
     "text": [
      "    473/500      79.1G     0.2587     0.1585     0.7999         44       1120: 100%|██████████| 98/98 [01:45<00:00,  1.07s/it]\n"
     ]
    },
    {
     "name": "stdout",
     "output_type": "stream",
     "text": [
      "\n",
      "      Epoch    GPU_mem   box_loss   cls_loss   dfl_loss  Instances       Size\n"
     ]
    },
    {
     "name": "stderr",
     "output_type": "stream",
     "text": [
      "    474/500      79.1G     0.2598     0.1585     0.7996         35       1120: 100%|██████████| 98/98 [01:45<00:00,  1.08s/it]\n"
     ]
    },
    {
     "name": "stdout",
     "output_type": "stream",
     "text": [
      "\n",
      "      Epoch    GPU_mem   box_loss   cls_loss   dfl_loss  Instances       Size\n"
     ]
    },
    {
     "name": "stderr",
     "output_type": "stream",
     "text": [
      "    475/500      79.1G     0.2537      0.156     0.7994         50       1120: 100%|██████████| 98/98 [01:45<00:00,  1.08s/it]\n"
     ]
    },
    {
     "name": "stdout",
     "output_type": "stream",
     "text": [
      "\n",
      "      Epoch    GPU_mem   box_loss   cls_loss   dfl_loss  Instances       Size\n"
     ]
    },
    {
     "name": "stderr",
     "output_type": "stream",
     "text": [
      "    476/500      79.1G     0.2517     0.1565     0.7974         33       1120: 100%|██████████| 98/98 [01:45<00:00,  1.08s/it]\n"
     ]
    },
    {
     "name": "stdout",
     "output_type": "stream",
     "text": [
      "\n",
      "      Epoch    GPU_mem   box_loss   cls_loss   dfl_loss  Instances       Size\n"
     ]
    },
    {
     "name": "stderr",
     "output_type": "stream",
     "text": [
      "    477/500      79.1G     0.2571     0.1564     0.7978         39       1120: 100%|██████████| 98/98 [01:45<00:00,  1.08s/it]\n"
     ]
    },
    {
     "name": "stdout",
     "output_type": "stream",
     "text": [
      "\n",
      "      Epoch    GPU_mem   box_loss   cls_loss   dfl_loss  Instances       Size\n"
     ]
    },
    {
     "name": "stderr",
     "output_type": "stream",
     "text": [
      "    478/500      79.1G     0.2511     0.1542     0.8003         38       1120: 100%|██████████| 98/98 [01:45<00:00,  1.08s/it]\n"
     ]
    },
    {
     "name": "stdout",
     "output_type": "stream",
     "text": [
      "\n",
      "      Epoch    GPU_mem   box_loss   cls_loss   dfl_loss  Instances       Size\n"
     ]
    },
    {
     "name": "stderr",
     "output_type": "stream",
     "text": [
      "    479/500      79.1G     0.2534     0.1533     0.7981         35       1120: 100%|██████████| 98/98 [01:45<00:00,  1.08s/it]\n"
     ]
    },
    {
     "name": "stdout",
     "output_type": "stream",
     "text": [
      "\n",
      "      Epoch    GPU_mem   box_loss   cls_loss   dfl_loss  Instances       Size\n"
     ]
    },
    {
     "name": "stderr",
     "output_type": "stream",
     "text": [
      "    480/500      79.1G     0.2534     0.1535     0.7983         39       1120: 100%|██████████| 98/98 [01:45<00:00,  1.08s/it]\n"
     ]
    },
    {
     "name": "stdout",
     "output_type": "stream",
     "text": [
      "\n",
      "      Epoch    GPU_mem   box_loss   cls_loss   dfl_loss  Instances       Size\n"
     ]
    },
    {
     "name": "stderr",
     "output_type": "stream",
     "text": [
      "    481/500      79.1G     0.2509     0.1527     0.7937         29       1120: 100%|██████████| 98/98 [01:45<00:00,  1.08s/it]\n"
     ]
    },
    {
     "name": "stdout",
     "output_type": "stream",
     "text": [
      "\n",
      "      Epoch    GPU_mem   box_loss   cls_loss   dfl_loss  Instances       Size\n"
     ]
    },
    {
     "name": "stderr",
     "output_type": "stream",
     "text": [
      "    482/500      79.1G     0.2525      0.154     0.7958         46       1120: 100%|██████████| 98/98 [01:45<00:00,  1.08s/it]\n"
     ]
    },
    {
     "name": "stdout",
     "output_type": "stream",
     "text": [
      "\n",
      "      Epoch    GPU_mem   box_loss   cls_loss   dfl_loss  Instances       Size\n"
     ]
    },
    {
     "name": "stderr",
     "output_type": "stream",
     "text": [
      "    483/500      79.1G     0.2476     0.1492     0.7962         40       1120: 100%|██████████| 98/98 [01:45<00:00,  1.08s/it]\n"
     ]
    },
    {
     "name": "stdout",
     "output_type": "stream",
     "text": [
      "\n",
      "      Epoch    GPU_mem   box_loss   cls_loss   dfl_loss  Instances       Size\n"
     ]
    },
    {
     "name": "stderr",
     "output_type": "stream",
     "text": [
      "    484/500      79.1G     0.2454     0.1505     0.7964         38       1120: 100%|██████████| 98/98 [01:45<00:00,  1.08s/it]\n"
     ]
    },
    {
     "name": "stdout",
     "output_type": "stream",
     "text": [
      "\n",
      "      Epoch    GPU_mem   box_loss   cls_loss   dfl_loss  Instances       Size\n"
     ]
    },
    {
     "name": "stderr",
     "output_type": "stream",
     "text": [
      "    485/500      79.1G     0.2474      0.152     0.7984         43       1120: 100%|██████████| 98/98 [01:45<00:00,  1.08s/it]\n"
     ]
    },
    {
     "name": "stdout",
     "output_type": "stream",
     "text": [
      "\n",
      "      Epoch    GPU_mem   box_loss   cls_loss   dfl_loss  Instances       Size\n"
     ]
    },
    {
     "name": "stderr",
     "output_type": "stream",
     "text": [
      "    486/500      79.1G     0.2476     0.1514     0.7963         45       1120: 100%|██████████| 98/98 [01:45<00:00,  1.07s/it]\n"
     ]
    },
    {
     "name": "stdout",
     "output_type": "stream",
     "text": [
      "\n",
      "      Epoch    GPU_mem   box_loss   cls_loss   dfl_loss  Instances       Size\n"
     ]
    },
    {
     "name": "stderr",
     "output_type": "stream",
     "text": [
      "    487/500      79.1G     0.2424     0.1487     0.7932         46       1120: 100%|██████████| 98/98 [01:45<00:00,  1.08s/it]\n"
     ]
    },
    {
     "name": "stdout",
     "output_type": "stream",
     "text": [
      "\n",
      "      Epoch    GPU_mem   box_loss   cls_loss   dfl_loss  Instances       Size\n"
     ]
    },
    {
     "name": "stderr",
     "output_type": "stream",
     "text": [
      "    488/500      79.5G     0.2464     0.1512     0.7967         42       1120: 100%|██████████| 98/98 [01:45<00:00,  1.07s/it]\n"
     ]
    },
    {
     "name": "stdout",
     "output_type": "stream",
     "text": [
      "\n",
      "      Epoch    GPU_mem   box_loss   cls_loss   dfl_loss  Instances       Size\n"
     ]
    },
    {
     "name": "stderr",
     "output_type": "stream",
     "text": [
      "    489/500      79.1G     0.2446     0.1503     0.7953         50       1120: 100%|██████████| 98/98 [01:45<00:00,  1.07s/it]\n"
     ]
    },
    {
     "name": "stdout",
     "output_type": "stream",
     "text": [
      "\n",
      "      Epoch    GPU_mem   box_loss   cls_loss   dfl_loss  Instances       Size\n"
     ]
    },
    {
     "name": "stderr",
     "output_type": "stream",
     "text": [
      "    490/500      79.1G     0.2456     0.1501     0.7986         39       1120: 100%|██████████| 98/98 [01:45<00:00,  1.08s/it]\n"
     ]
    },
    {
     "name": "stdout",
     "output_type": "stream",
     "text": [
      "Closing dataloader mosaic\n",
      "\n",
      "      Epoch    GPU_mem   box_loss   cls_loss   dfl_loss  Instances       Size\n"
     ]
    },
    {
     "name": "stderr",
     "output_type": "stream",
     "text": [
      "    491/500      79.1G      0.235     0.1419     0.7967         23       1120: 100%|██████████| 98/98 [01:47<00:00,  1.09s/it]\n"
     ]
    },
    {
     "name": "stdout",
     "output_type": "stream",
     "text": [
      "\n",
      "      Epoch    GPU_mem   box_loss   cls_loss   dfl_loss  Instances       Size\n"
     ]
    },
    {
     "name": "stderr",
     "output_type": "stream",
     "text": [
      "    492/500      79.1G     0.2233     0.1377      0.796         27       1120: 100%|██████████| 98/98 [01:45<00:00,  1.07s/it]\n"
     ]
    },
    {
     "name": "stdout",
     "output_type": "stream",
     "text": [
      "\n",
      "      Epoch    GPU_mem   box_loss   cls_loss   dfl_loss  Instances       Size\n"
     ]
    },
    {
     "name": "stderr",
     "output_type": "stream",
     "text": [
      "    493/500      79.1G     0.2185     0.1364     0.7939         37       1120: 100%|██████████| 98/98 [01:45<00:00,  1.07s/it]\n"
     ]
    },
    {
     "name": "stdout",
     "output_type": "stream",
     "text": [
      "\n",
      "      Epoch    GPU_mem   box_loss   cls_loss   dfl_loss  Instances       Size\n"
     ]
    },
    {
     "name": "stderr",
     "output_type": "stream",
     "text": [
      "    494/500      79.1G     0.2195     0.1369     0.7941         25       1120: 100%|██████████| 98/98 [01:45<00:00,  1.07s/it]\n"
     ]
    },
    {
     "name": "stdout",
     "output_type": "stream",
     "text": [
      "\n",
      "      Epoch    GPU_mem   box_loss   cls_loss   dfl_loss  Instances       Size\n"
     ]
    },
    {
     "name": "stderr",
     "output_type": "stream",
     "text": [
      "    495/500      79.1G     0.2161     0.1353     0.7908         21       1120: 100%|██████████| 98/98 [01:45<00:00,  1.07s/it]\n"
     ]
    },
    {
     "name": "stdout",
     "output_type": "stream",
     "text": [
      "\n",
      "      Epoch    GPU_mem   box_loss   cls_loss   dfl_loss  Instances       Size\n"
     ]
    },
    {
     "name": "stderr",
     "output_type": "stream",
     "text": [
      "    496/500      79.1G     0.2175     0.1333     0.7953         28       1120: 100%|██████████| 98/98 [01:45<00:00,  1.07s/it]\n"
     ]
    },
    {
     "name": "stdout",
     "output_type": "stream",
     "text": [
      "\n",
      "      Epoch    GPU_mem   box_loss   cls_loss   dfl_loss  Instances       Size\n"
     ]
    },
    {
     "name": "stderr",
     "output_type": "stream",
     "text": [
      "    497/500      79.1G     0.2126     0.1323     0.7904         23       1120: 100%|██████████| 98/98 [01:45<00:00,  1.07s/it]\n"
     ]
    },
    {
     "name": "stdout",
     "output_type": "stream",
     "text": [
      "\n",
      "      Epoch    GPU_mem   box_loss   cls_loss   dfl_loss  Instances       Size\n"
     ]
    },
    {
     "name": "stderr",
     "output_type": "stream",
     "text": [
      "    498/500      79.1G     0.2124     0.1317     0.7927         25       1120: 100%|██████████| 98/98 [01:45<00:00,  1.07s/it]\n"
     ]
    },
    {
     "name": "stdout",
     "output_type": "stream",
     "text": [
      "\n",
      "      Epoch    GPU_mem   box_loss   cls_loss   dfl_loss  Instances       Size\n"
     ]
    },
    {
     "name": "stderr",
     "output_type": "stream",
     "text": [
      "    499/500      79.1G     0.2146     0.1344     0.7919         24       1120: 100%|██████████| 98/98 [01:45<00:00,  1.07s/it]\n"
     ]
    },
    {
     "name": "stdout",
     "output_type": "stream",
     "text": [
      "\n",
      "      Epoch    GPU_mem   box_loss   cls_loss   dfl_loss  Instances       Size\n"
     ]
    },
    {
     "name": "stderr",
     "output_type": "stream",
     "text": [
      "    500/500      79.1G     0.2155     0.1349     0.7952         22       1120: 100%|██████████| 98/98 [01:45<00:00,  1.07s/it]\n",
      "                 Class     Images  Instances      Box(P          R      mAP50  mAP50-95): 100%|██████████| 1/1 [00:01<00:00,  1.72s/it]\n"
     ]
    },
    {
     "name": "stdout",
     "output_type": "stream",
     "text": [
      "                   all         99        216      0.836      0.547      0.617      0.422\n",
      "\n",
      "500 epochs completed in 14.967 hours.\n",
      "Optimizer stripped from runs/detect/train4/weights/last.pt, 52.2MB\n",
      "Optimizer stripped from runs/detect/train4/weights/best.pt, 52.2MB\n",
      "\n",
      "Validating runs/detect/train4/weights/best.pt...\n",
      "Ultralytics YOLOv8.1.20 🚀 Python-3.11.5 torch-2.1.1+cu121 CUDA:0 (NVIDIA A100-SXM4-80GB, 81051MiB)\n",
      "Model summary (fused): 218 layers, 25840918 parameters, 0 gradients, 78.7 GFLOPs\n"
     ]
    },
    {
     "name": "stderr",
     "output_type": "stream",
     "text": [
      "                 Class     Images  Instances      Box(P          R      mAP50  mAP50-95): 100%|██████████| 1/1 [00:00<00:00,  1.39it/s]\n"
     ]
    },
    {
     "name": "stdout",
     "output_type": "stream",
     "text": [
      "                   all         99        216      0.836      0.547      0.617      0.423\n",
      "                zigzag         99        201      0.957      0.894      0.947      0.662\n",
      "                  fcbk         99         15      0.715        0.2      0.287      0.185\n",
      "Speed: 0.2ms preprocess, 4.2ms inference, 0.0ms loss, 0.5ms postprocess per image\n",
      "Results saved to \u001b[1mruns/detect/train4\u001b[0m\n"
     ]
    }
   ],
   "source": [
    "results = model.train(data='/home/rishabh.mondal/Brick-Kilns-project/albk_rishabh/albk_v2/YOLO_LOCALIZATION/config.yaml', epochs=500,imgsz=1120,batch=64,val=False)\n",
    "# # !yolo task=detect mode=train model=yolov8n.pt data=config.yaml epochs=100 plots=True\n"
   ]
  },
  {
   "cell_type": "code",
   "execution_count": 4,
   "metadata": {},
   "outputs": [],
   "source": [
    "model = YOLO('/home/rishabh.mondal/Brick-Kilns-project/albk_rishabh/albk_v2/YOLO_LOCALIZATION/runs/detect/train10/weights/best.pt')\n",
    "# validation_results = model.val(data='config.yaml',\n",
    "#                                imgsz=640,\n",
    "#                                batch=16,\n",
    "#                                conf=0.25,\n",
    "#                                iou=0.60,\n",
    "#                                device='0')\n"
   ]
  },
  {
   "cell_type": "code",
   "execution_count": 5,
   "metadata": {},
   "outputs": [
    {
     "name": "stdout",
     "output_type": "stream",
     "text": [
      "310115\n"
     ]
    },
    {
     "data": {
      "application/vnd.jupyter.widget-view+json": {
       "model_id": "3d61803cc9c7473a8adbd02927467ec2",
       "version_major": 2,
       "version_minor": 0
      },
      "text/plain": [
       "  0%|          | 0/1212 [00:00<?, ?it/s]"
      ]
     },
     "metadata": {},
     "output_type": "display_data"
    },
    {
     "name": "stdout",
     "output_type": "stream",
     "text": [
      "3.6195101737976074\n",
      "256\n",
      "Results saved to \u001b[1mruns/detect/predict2\u001b[0m\n",
      "10 labels saved to runs/detect/predict2/labels\n",
      "9.997561931610107\n",
      "12.097081422805786\n",
      "256\n",
      "Results saved to \u001b[1mruns/detect/predict2\u001b[0m\n",
      "18 labels saved to runs/detect/predict2/labels\n",
      "6.373248815536499\n",
      "8.779799699783325\n",
      "256\n",
      "Results saved to \u001b[1mruns/detect/predict2\u001b[0m\n",
      "28 labels saved to runs/detect/predict2/labels\n",
      "6.648454904556274\n",
      "8.91275405883789\n",
      "256\n",
      "Results saved to \u001b[1mruns/detect/predict2\u001b[0m\n",
      "31 labels saved to runs/detect/predict2/labels\n",
      "5.591267347335815\n",
      "7.76959753036499\n",
      "256\n",
      "Results saved to \u001b[1mruns/detect/predict2\u001b[0m\n",
      "35 labels saved to runs/detect/predict2/labels\n",
      "8.019671201705933\n",
      "10.23369574546814\n",
      "256\n",
      "Results saved to \u001b[1mruns/detect/predict2\u001b[0m\n",
      "44 labels saved to runs/detect/predict2/labels\n",
      "5.843074798583984\n",
      "8.127179622650146\n",
      "256\n",
      "Results saved to \u001b[1mruns/detect/predict2\u001b[0m\n",
      "46 labels saved to runs/detect/predict2/labels\n",
      "6.783478021621704\n",
      "9.024135828018188\n",
      "256\n",
      "Results saved to \u001b[1mruns/detect/predict2\u001b[0m\n",
      "48 labels saved to runs/detect/predict2/labels\n",
      "5.40545392036438\n",
      "7.861089706420898\n",
      "256\n",
      "Results saved to \u001b[1mruns/detect/predict2\u001b[0m\n",
      "55 labels saved to runs/detect/predict2/labels\n",
      "5.552980899810791\n",
      "7.967788219451904\n",
      "256\n",
      "Results saved to \u001b[1mruns/detect/predict2\u001b[0m\n",
      "59 labels saved to runs/detect/predict2/labels\n",
      "5.3151445388793945\n",
      "8.0245521068573\n",
      "256\n",
      "Results saved to \u001b[1mruns/detect/predict2\u001b[0m\n",
      "61 labels saved to runs/detect/predict2/labels\n",
      "5.371545076370239\n",
      "7.961385726928711\n",
      "256\n",
      "Results saved to \u001b[1mruns/detect/predict2\u001b[0m\n",
      "64 labels saved to runs/detect/predict2/labels\n",
      "5.333867073059082\n",
      "8.13664960861206\n",
      "256\n",
      "Results saved to \u001b[1mruns/detect/predict2\u001b[0m\n",
      "70 labels saved to runs/detect/predict2/labels\n",
      "5.269729137420654\n",
      "7.617926597595215\n",
      "256\n",
      "Results saved to \u001b[1mruns/detect/predict2\u001b[0m\n",
      "74 labels saved to runs/detect/predict2/labels\n",
      "5.160144329071045\n",
      "7.7857770919799805\n",
      "256\n",
      "Results saved to \u001b[1mruns/detect/predict2\u001b[0m\n",
      "77 labels saved to runs/detect/predict2/labels\n",
      "5.184380054473877\n",
      "7.577373743057251\n",
      "256\n",
      "Results saved to \u001b[1mruns/detect/predict2\u001b[0m\n",
      "81 labels saved to runs/detect/predict2/labels\n",
      "5.395064353942871\n",
      "8.005907535552979\n",
      "256\n",
      "Results saved to \u001b[1mruns/detect/predict2\u001b[0m\n",
      "84 labels saved to runs/detect/predict2/labels\n",
      "5.096811771392822\n",
      "7.20723032951355\n",
      "256\n",
      "Results saved to \u001b[1mruns/detect/predict2\u001b[0m\n",
      "90 labels saved to runs/detect/predict2/labels\n",
      "5.749823331832886\n",
      "7.901580572128296\n",
      "256\n",
      "Results saved to \u001b[1mruns/detect/predict2\u001b[0m\n",
      "94 labels saved to runs/detect/predict2/labels\n",
      "9.223774433135986\n",
      "11.57365894317627\n",
      "256\n",
      "Results saved to \u001b[1mruns/detect/predict2\u001b[0m\n",
      "101 labels saved to runs/detect/predict2/labels\n",
      "5.221421957015991\n",
      "7.451807498931885\n",
      "256\n",
      "Results saved to \u001b[1mruns/detect/predict2\u001b[0m\n",
      "107 labels saved to runs/detect/predict2/labels\n",
      "5.17151403427124\n",
      "7.308931350708008\n",
      "256\n",
      "Results saved to \u001b[1mruns/detect/predict2\u001b[0m\n",
      "110 labels saved to runs/detect/predict2/labels\n",
      "5.217082262039185\n",
      "7.500269174575806\n",
      "256\n",
      "Results saved to \u001b[1mruns/detect/predict2\u001b[0m\n",
      "118 labels saved to runs/detect/predict2/labels\n",
      "5.497186183929443\n",
      "8.087612390518188\n",
      "256\n",
      "Results saved to \u001b[1mruns/detect/predict2\u001b[0m\n",
      "127 labels saved to runs/detect/predict2/labels\n",
      "5.443525791168213\n",
      "7.790307521820068\n",
      "256\n",
      "Results saved to \u001b[1mruns/detect/predict2\u001b[0m\n",
      "131 labels saved to runs/detect/predict2/labels\n",
      "5.3987603187561035\n",
      "7.834686994552612\n",
      "256\n",
      "Results saved to \u001b[1mruns/detect/predict2\u001b[0m\n",
      "134 labels saved to runs/detect/predict2/labels\n",
      "5.106002330780029\n",
      "7.328986406326294\n",
      "256\n",
      "Results saved to \u001b[1mruns/detect/predict2\u001b[0m\n",
      "138 labels saved to runs/detect/predict2/labels\n",
      "5.64942479133606\n",
      "7.85097336769104\n",
      "256\n",
      "Results saved to \u001b[1mruns/detect/predict2\u001b[0m\n",
      "139 labels saved to runs/detect/predict2/labels\n",
      "5.3460118770599365\n",
      "7.966959714889526\n",
      "256\n",
      "Results saved to \u001b[1mruns/detect/predict2\u001b[0m\n",
      "143 labels saved to runs/detect/predict2/labels\n",
      "6.807577848434448\n",
      "8.943345069885254\n",
      "256\n",
      "Results saved to \u001b[1mruns/detect/predict2\u001b[0m\n",
      "147 labels saved to runs/detect/predict2/labels\n",
      "5.167893409729004\n",
      "7.573134899139404\n",
      "256\n",
      "Results saved to \u001b[1mruns/detect/predict2\u001b[0m\n",
      "148 labels saved to runs/detect/predict2/labels\n",
      "5.0566911697387695\n",
      "7.971055507659912\n",
      "256\n",
      "Results saved to \u001b[1mruns/detect/predict2\u001b[0m\n",
      "151 labels saved to runs/detect/predict2/labels\n",
      "5.2256996631622314\n",
      "7.531000852584839\n",
      "256\n",
      "Results saved to \u001b[1mruns/detect/predict2\u001b[0m\n",
      "157 labels saved to runs/detect/predict2/labels\n",
      "5.178630590438843\n",
      "7.368859052658081\n",
      "256\n",
      "Results saved to \u001b[1mruns/detect/predict2\u001b[0m\n",
      "160 labels saved to runs/detect/predict2/labels\n",
      "5.14801287651062\n",
      "7.338114261627197\n",
      "256\n",
      "Results saved to \u001b[1mruns/detect/predict2\u001b[0m\n",
      "163 labels saved to runs/detect/predict2/labels\n",
      "5.197619915008545\n",
      "7.281158924102783\n",
      "256\n",
      "Results saved to \u001b[1mruns/detect/predict2\u001b[0m\n",
      "163 labels saved to runs/detect/predict2/labels\n",
      "5.321219205856323\n",
      "7.427368402481079\n",
      "256\n",
      "Results saved to \u001b[1mruns/detect/predict2\u001b[0m\n",
      "165 labels saved to runs/detect/predict2/labels\n",
      "5.274674892425537\n",
      "7.722520351409912\n",
      "256\n",
      "Results saved to \u001b[1mruns/detect/predict2\u001b[0m\n",
      "169 labels saved to runs/detect/predict2/labels\n",
      "5.278796672821045\n",
      "7.3536951541900635\n",
      "256\n",
      "Results saved to \u001b[1mruns/detect/predict2\u001b[0m\n",
      "170 labels saved to runs/detect/predict2/labels\n",
      "5.162198781967163\n",
      "7.388276100158691\n",
      "256\n",
      "Results saved to \u001b[1mruns/detect/predict2\u001b[0m\n",
      "172 labels saved to runs/detect/predict2/labels\n",
      "4.995177984237671\n",
      "7.220589876174927\n",
      "256\n",
      "Results saved to \u001b[1mruns/detect/predict2\u001b[0m\n",
      "173 labels saved to runs/detect/predict2/labels\n",
      "5.420864582061768\n",
      "7.785024404525757\n",
      "256\n",
      "Results saved to \u001b[1mruns/detect/predict2\u001b[0m\n",
      "175 labels saved to runs/detect/predict2/labels\n",
      "6.237811088562012\n",
      "9.073211669921875\n",
      "256\n",
      "Results saved to \u001b[1mruns/detect/predict2\u001b[0m\n",
      "177 labels saved to runs/detect/predict2/labels\n",
      "5.99557089805603\n",
      "8.369359016418457\n",
      "256\n",
      "Results saved to \u001b[1mruns/detect/predict2\u001b[0m\n",
      "179 labels saved to runs/detect/predict2/labels\n",
      "5.4808385372161865\n",
      "7.708330392837524\n",
      "256\n",
      "Results saved to \u001b[1mruns/detect/predict2\u001b[0m\n",
      "182 labels saved to runs/detect/predict2/labels\n",
      "5.510280132293701\n",
      "8.148093700408936\n",
      "256\n",
      "Results saved to \u001b[1mruns/detect/predict2\u001b[0m\n",
      "185 labels saved to runs/detect/predict2/labels\n",
      "6.0256288051605225\n",
      "8.250685691833496\n",
      "256\n",
      "Results saved to \u001b[1mruns/detect/predict2\u001b[0m\n",
      "186 labels saved to runs/detect/predict2/labels\n",
      "5.578969717025757\n",
      "7.799437999725342\n",
      "256\n",
      "Results saved to \u001b[1mruns/detect/predict2\u001b[0m\n",
      "186 labels saved to runs/detect/predict2/labels\n",
      "7.137814044952393\n",
      "9.32371473312378\n",
      "256\n",
      "Results saved to \u001b[1mruns/detect/predict2\u001b[0m\n",
      "188 labels saved to runs/detect/predict2/labels\n",
      "6.503506898880005\n",
      "9.093285083770752\n",
      "256\n",
      "Results saved to \u001b[1mruns/detect/predict2\u001b[0m\n",
      "190 labels saved to runs/detect/predict2/labels\n",
      "5.627179145812988\n",
      "8.248432874679565\n",
      "256\n",
      "Results saved to \u001b[1mruns/detect/predict2\u001b[0m\n",
      "192 labels saved to runs/detect/predict2/labels\n",
      "6.595693111419678\n",
      "8.93807601928711\n",
      "256\n",
      "Results saved to \u001b[1mruns/detect/predict2\u001b[0m\n",
      "194 labels saved to runs/detect/predict2/labels\n",
      "5.840672731399536\n",
      "8.140495777130127\n",
      "256\n",
      "Results saved to \u001b[1mruns/detect/predict2\u001b[0m\n",
      "195 labels saved to runs/detect/predict2/labels\n",
      "5.998246192932129\n",
      "8.571702480316162\n",
      "256\n",
      "Results saved to \u001b[1mruns/detect/predict2\u001b[0m\n",
      "197 labels saved to runs/detect/predict2/labels\n",
      "6.414262533187866\n",
      "8.66661787033081\n",
      "256\n",
      "Results saved to \u001b[1mruns/detect/predict2\u001b[0m\n",
      "198 labels saved to runs/detect/predict2/labels\n",
      "6.141901969909668\n",
      "8.415854454040527\n",
      "256\n",
      "Results saved to \u001b[1mruns/detect/predict2\u001b[0m\n",
      "200 labels saved to runs/detect/predict2/labels\n",
      "6.72513484954834\n",
      "8.896398544311523\n",
      "256\n",
      "Results saved to \u001b[1mruns/detect/predict2\u001b[0m\n",
      "203 labels saved to runs/detect/predict2/labels\n",
      "5.8470139503479\n",
      "8.677289485931396\n",
      "256\n",
      "Results saved to \u001b[1mruns/detect/predict2\u001b[0m\n",
      "205 labels saved to runs/detect/predict2/labels\n",
      "5.673142671585083\n",
      "7.925064325332642\n",
      "256\n",
      "Results saved to \u001b[1mruns/detect/predict2\u001b[0m\n",
      "206 labels saved to runs/detect/predict2/labels\n",
      "5.365355491638184\n",
      "8.01336932182312\n",
      "256\n",
      "Results saved to \u001b[1mruns/detect/predict2\u001b[0m\n",
      "206 labels saved to runs/detect/predict2/labels\n",
      "6.6553778648376465\n",
      "9.311689615249634\n",
      "256\n",
      "Results saved to \u001b[1mruns/detect/predict2\u001b[0m\n",
      "206 labels saved to runs/detect/predict2/labels\n",
      "5.503673076629639\n",
      "8.125785827636719\n",
      "256\n",
      "Results saved to \u001b[1mruns/detect/predict2\u001b[0m\n",
      "207 labels saved to runs/detect/predict2/labels\n",
      "5.6073362827301025\n",
      "7.898086786270142\n",
      "256\n",
      "Results saved to \u001b[1mruns/detect/predict2\u001b[0m\n",
      "207 labels saved to runs/detect/predict2/labels\n",
      "5.759392976760864\n",
      "8.144123554229736\n",
      "256\n",
      "Results saved to \u001b[1mruns/detect/predict2\u001b[0m\n",
      "207 labels saved to runs/detect/predict2/labels\n",
      "5.8107640743255615\n",
      "8.004359722137451\n",
      "256\n",
      "Results saved to \u001b[1mruns/detect/predict2\u001b[0m\n",
      "209 labels saved to runs/detect/predict2/labels\n",
      "6.324222803115845\n",
      "9.193377494812012\n",
      "256\n",
      "Results saved to \u001b[1mruns/detect/predict2\u001b[0m\n",
      "211 labels saved to runs/detect/predict2/labels\n",
      "6.347377300262451\n",
      "8.548661231994629\n",
      "256\n",
      "Results saved to \u001b[1mruns/detect/predict2\u001b[0m\n",
      "212 labels saved to runs/detect/predict2/labels\n",
      "6.865122079849243\n",
      "9.086313724517822\n",
      "256\n",
      "Results saved to \u001b[1mruns/detect/predict2\u001b[0m\n",
      "214 labels saved to runs/detect/predict2/labels\n",
      "5.797268390655518\n",
      "8.1378915309906\n",
      "256\n",
      "Results saved to \u001b[1mruns/detect/predict2\u001b[0m\n",
      "214 labels saved to runs/detect/predict2/labels\n",
      "6.350353240966797\n",
      "8.581875085830688\n",
      "256\n",
      "Results saved to \u001b[1mruns/detect/predict2\u001b[0m\n",
      "218 labels saved to runs/detect/predict2/labels\n",
      "5.803093433380127\n",
      "8.144960165023804\n",
      "256\n",
      "Results saved to \u001b[1mruns/detect/predict2\u001b[0m\n",
      "220 labels saved to runs/detect/predict2/labels\n",
      "7.625121116638184\n",
      "9.807588577270508\n",
      "256\n",
      "Results saved to \u001b[1mruns/detect/predict2\u001b[0m\n",
      "222 labels saved to runs/detect/predict2/labels\n",
      "6.532418727874756\n",
      "8.791831970214844\n",
      "256\n",
      "Results saved to \u001b[1mruns/detect/predict2\u001b[0m\n",
      "222 labels saved to runs/detect/predict2/labels\n",
      "6.498034238815308\n",
      "9.098199367523193\n",
      "256\n",
      "Results saved to \u001b[1mruns/detect/predict2\u001b[0m\n",
      "222 labels saved to runs/detect/predict2/labels\n",
      "6.401193857192993\n",
      "8.5901780128479\n",
      "256\n",
      "Results saved to \u001b[1mruns/detect/predict2\u001b[0m\n",
      "222 labels saved to runs/detect/predict2/labels\n",
      "5.408367395401001\n",
      "7.914731025695801\n",
      "256\n",
      "Results saved to \u001b[1mruns/detect/predict2\u001b[0m\n",
      "223 labels saved to runs/detect/predict2/labels\n",
      "5.308131694793701\n",
      "7.958784818649292\n",
      "256\n",
      "Results saved to \u001b[1mruns/detect/predict2\u001b[0m\n",
      "224 labels saved to runs/detect/predict2/labels\n",
      "5.352116346359253\n",
      "7.532931566238403\n",
      "256\n",
      "Results saved to \u001b[1mruns/detect/predict2\u001b[0m\n",
      "225 labels saved to runs/detect/predict2/labels\n",
      "5.404064416885376\n",
      "7.8843889236450195\n",
      "256\n",
      "Results saved to \u001b[1mruns/detect/predict2\u001b[0m\n",
      "226 labels saved to runs/detect/predict2/labels\n",
      "5.375816345214844\n",
      "7.561239719390869\n",
      "256\n",
      "Results saved to \u001b[1mruns/detect/predict2\u001b[0m\n",
      "226 labels saved to runs/detect/predict2/labels\n",
      "5.39586877822876\n",
      "7.686470985412598\n",
      "256\n",
      "Results saved to \u001b[1mruns/detect/predict2\u001b[0m\n",
      "226 labels saved to runs/detect/predict2/labels\n",
      "5.243042945861816\n",
      "7.504470586776733\n",
      "256\n",
      "Results saved to \u001b[1mruns/detect/predict2\u001b[0m\n",
      "226 labels saved to runs/detect/predict2/labels\n",
      "5.490528106689453\n",
      "7.787944316864014\n",
      "256\n",
      "Results saved to \u001b[1mruns/detect/predict2\u001b[0m\n",
      "228 labels saved to runs/detect/predict2/labels\n",
      "5.262435674667358\n",
      "7.740709543228149\n",
      "256\n",
      "Results saved to \u001b[1mruns/detect/predict2\u001b[0m\n",
      "228 labels saved to runs/detect/predict2/labels\n",
      "5.741966247558594\n",
      "7.948523044586182\n",
      "256\n",
      "Results saved to \u001b[1mruns/detect/predict2\u001b[0m\n",
      "228 labels saved to runs/detect/predict2/labels\n",
      "5.5519514083862305\n",
      "8.034289360046387\n",
      "256\n",
      "Results saved to \u001b[1mruns/detect/predict2\u001b[0m\n",
      "228 labels saved to runs/detect/predict2/labels\n",
      "5.693692445755005\n",
      "7.891824245452881\n",
      "256\n",
      "Results saved to \u001b[1mruns/detect/predict2\u001b[0m\n",
      "229 labels saved to runs/detect/predict2/labels\n",
      "5.371258735656738\n",
      "7.581908226013184\n",
      "256\n",
      "Results saved to \u001b[1mruns/detect/predict2\u001b[0m\n",
      "229 labels saved to runs/detect/predict2/labels\n",
      "5.405851125717163\n",
      "7.854926824569702\n",
      "256\n",
      "Results saved to \u001b[1mruns/detect/predict2\u001b[0m\n",
      "229 labels saved to runs/detect/predict2/labels\n",
      "5.443260908126831\n",
      "7.644521236419678\n",
      "256\n",
      "Results saved to \u001b[1mruns/detect/predict2\u001b[0m\n",
      "230 labels saved to runs/detect/predict2/labels\n",
      "6.147052764892578\n",
      "8.740624904632568\n",
      "256\n",
      "Results saved to \u001b[1mruns/detect/predict2\u001b[0m\n",
      "232 labels saved to runs/detect/predict2/labels\n",
      "6.81317925453186\n",
      "9.030442714691162\n",
      "256\n",
      "Results saved to \u001b[1mruns/detect/predict2\u001b[0m\n",
      "235 labels saved to runs/detect/predict2/labels\n",
      "5.396220922470093\n",
      "7.782771587371826\n",
      "256\n",
      "Results saved to \u001b[1mruns/detect/predict2\u001b[0m\n",
      "235 labels saved to runs/detect/predict2/labels\n",
      "6.62421989440918\n",
      "8.871114015579224\n",
      "256\n",
      "Results saved to \u001b[1mruns/detect/predict2\u001b[0m\n",
      "235 labels saved to runs/detect/predict2/labels\n",
      "5.726709842681885\n",
      "8.179885625839233\n",
      "256\n",
      "Results saved to \u001b[1mruns/detect/predict2\u001b[0m\n",
      "236 labels saved to runs/detect/predict2/labels\n",
      "5.939870595932007\n",
      "8.087671756744385\n",
      "256\n",
      "Results saved to \u001b[1mruns/detect/predict2\u001b[0m\n",
      "236 labels saved to runs/detect/predict2/labels\n",
      "5.757452011108398\n",
      "8.15480089187622\n",
      "256\n",
      "Results saved to \u001b[1mruns/detect/predict2\u001b[0m\n",
      "237 labels saved to runs/detect/predict2/labels\n",
      "5.787289619445801\n",
      "7.972522020339966\n",
      "256\n",
      "Results saved to \u001b[1mruns/detect/predict2\u001b[0m\n",
      "237 labels saved to runs/detect/predict2/labels\n",
      "5.631983041763306\n",
      "7.926548480987549\n",
      "256\n",
      "Results saved to \u001b[1mruns/detect/predict2\u001b[0m\n",
      "238 labels saved to runs/detect/predict2/labels\n",
      "5.350711107254028\n",
      "8.071320056915283\n",
      "256\n",
      "Results saved to \u001b[1mruns/detect/predict2\u001b[0m\n",
      "238 labels saved to runs/detect/predict2/labels\n",
      "7.312028408050537\n",
      "9.647141456604004\n",
      "256\n",
      "Results saved to \u001b[1mruns/detect/predict2\u001b[0m\n",
      "238 labels saved to runs/detect/predict2/labels\n",
      "5.944178819656372\n",
      "8.278326511383057\n",
      "256\n",
      "Results saved to \u001b[1mruns/detect/predict2\u001b[0m\n",
      "239 labels saved to runs/detect/predict2/labels\n",
      "5.859725713729858\n",
      "8.050169467926025\n",
      "256\n",
      "Results saved to \u001b[1mruns/detect/predict2\u001b[0m\n",
      "240 labels saved to runs/detect/predict2/labels\n",
      "5.584177732467651\n",
      "7.756220579147339\n",
      "256\n",
      "Results saved to \u001b[1mruns/detect/predict2\u001b[0m\n",
      "241 labels saved to runs/detect/predict2/labels\n",
      "5.727946043014526\n",
      "7.947148084640503\n",
      "256\n",
      "Results saved to \u001b[1mruns/detect/predict2\u001b[0m\n",
      "242 labels saved to runs/detect/predict2/labels\n",
      "6.84135890007019\n",
      "9.175317764282227\n",
      "256\n",
      "Results saved to \u001b[1mruns/detect/predict2\u001b[0m\n",
      "242 labels saved to runs/detect/predict2/labels\n",
      "5.8060972690582275\n",
      "8.507035493850708\n",
      "256\n",
      "Results saved to \u001b[1mruns/detect/predict2\u001b[0m\n",
      "244 labels saved to runs/detect/predict2/labels\n",
      "5.398820161819458\n",
      "7.73825478553772\n",
      "256\n",
      "Results saved to \u001b[1mruns/detect/predict2\u001b[0m\n",
      "244 labels saved to runs/detect/predict2/labels\n",
      "6.16133189201355\n",
      "8.855962038040161\n",
      "256\n",
      "Results saved to \u001b[1mruns/detect/predict2\u001b[0m\n",
      "244 labels saved to runs/detect/predict2/labels\n",
      "6.343266010284424\n",
      "8.636295557022095\n",
      "256\n",
      "Results saved to \u001b[1mruns/detect/predict2\u001b[0m\n",
      "244 labels saved to runs/detect/predict2/labels\n",
      "5.822335243225098\n",
      "8.261219501495361\n",
      "256\n",
      "Results saved to \u001b[1mruns/detect/predict2\u001b[0m\n",
      "245 labels saved to runs/detect/predict2/labels\n",
      "6.455470323562622\n",
      "8.692401647567749\n",
      "256\n",
      "Results saved to \u001b[1mruns/detect/predict2\u001b[0m\n",
      "245 labels saved to runs/detect/predict2/labels\n",
      "6.287358999252319\n",
      "8.482790231704712\n",
      "256\n",
      "Results saved to \u001b[1mruns/detect/predict2\u001b[0m\n",
      "245 labels saved to runs/detect/predict2/labels\n",
      "6.023668527603149\n",
      "8.25843071937561\n",
      "256\n",
      "Results saved to \u001b[1mruns/detect/predict2\u001b[0m\n",
      "246 labels saved to runs/detect/predict2/labels\n",
      "6.019328355789185\n",
      "8.1811203956604\n",
      "256\n",
      "Results saved to \u001b[1mruns/detect/predict2\u001b[0m\n",
      "246 labels saved to runs/detect/predict2/labels\n",
      "5.792893409729004\n",
      "7.9516942501068115\n",
      "256\n",
      "Results saved to \u001b[1mruns/detect/predict2\u001b[0m\n",
      "246 labels saved to runs/detect/predict2/labels\n",
      "6.671546697616577\n",
      "8.862816095352173\n",
      "256\n",
      "Results saved to \u001b[1mruns/detect/predict2\u001b[0m\n",
      "246 labels saved to runs/detect/predict2/labels\n",
      "6.1312761306762695\n",
      "8.51149845123291\n",
      "256\n",
      "Results saved to \u001b[1mruns/detect/predict2\u001b[0m\n",
      "246 labels saved to runs/detect/predict2/labels\n",
      "6.885761976242065\n",
      "9.480914115905762\n",
      "256\n",
      "Results saved to \u001b[1mruns/detect/predict2\u001b[0m\n",
      "247 labels saved to runs/detect/predict2/labels\n",
      "5.870328903198242\n",
      "8.262866735458374\n",
      "256\n",
      "Results saved to \u001b[1mruns/detect/predict2\u001b[0m\n",
      "247 labels saved to runs/detect/predict2/labels\n",
      "6.459962844848633\n",
      "8.952325344085693\n",
      "256\n",
      "Results saved to \u001b[1mruns/detect/predict2\u001b[0m\n",
      "247 labels saved to runs/detect/predict2/labels\n",
      "5.717854022979736\n",
      "7.910501718521118\n",
      "256\n",
      "Results saved to \u001b[1mruns/detect/predict2\u001b[0m\n",
      "247 labels saved to runs/detect/predict2/labels\n",
      "6.448516607284546\n",
      "8.627108335494995\n",
      "256\n",
      "Results saved to \u001b[1mruns/detect/predict2\u001b[0m\n",
      "247 labels saved to runs/detect/predict2/labels\n",
      "10.703691959381104\n",
      "13.371839761734009\n",
      "256\n",
      "Results saved to \u001b[1mruns/detect/predict2\u001b[0m\n",
      "248 labels saved to runs/detect/predict2/labels\n",
      "6.938034534454346\n",
      "9.655693531036377\n",
      "256\n",
      "Results saved to \u001b[1mruns/detect/predict2\u001b[0m\n",
      "248 labels saved to runs/detect/predict2/labels\n",
      "6.763461112976074\n",
      "9.046611785888672\n",
      "256\n",
      "Results saved to \u001b[1mruns/detect/predict2\u001b[0m\n",
      "248 labels saved to runs/detect/predict2/labels\n",
      "6.012550592422485\n",
      "8.578628063201904\n",
      "256\n",
      "Results saved to \u001b[1mruns/detect/predict2\u001b[0m\n",
      "248 labels saved to runs/detect/predict2/labels\n",
      "6.583889961242676\n",
      "8.86412501335144\n",
      "256\n",
      "Results saved to \u001b[1mruns/detect/predict2\u001b[0m\n",
      "248 labels saved to runs/detect/predict2/labels\n",
      "5.800316333770752\n",
      "8.114140510559082\n",
      "256\n",
      "Results saved to \u001b[1mruns/detect/predict2\u001b[0m\n",
      "249 labels saved to runs/detect/predict2/labels\n",
      "7.35313081741333\n",
      "9.711018800735474\n",
      "256\n",
      "Results saved to \u001b[1mruns/detect/predict2\u001b[0m\n",
      "249 labels saved to runs/detect/predict2/labels\n",
      "6.964621067047119\n",
      "9.755380630493164\n",
      "256\n",
      "Results saved to \u001b[1mruns/detect/predict2\u001b[0m\n",
      "249 labels saved to runs/detect/predict2/labels\n",
      "5.655254602432251\n",
      "7.960073709487915\n",
      "256\n",
      "Results saved to \u001b[1mruns/detect/predict2\u001b[0m\n",
      "249 labels saved to runs/detect/predict2/labels\n",
      "6.148340463638306\n",
      "8.326955795288086\n",
      "256\n",
      "Results saved to \u001b[1mruns/detect/predict2\u001b[0m\n",
      "249 labels saved to runs/detect/predict2/labels\n",
      "6.792202949523926\n",
      "8.883954524993896\n",
      "256\n",
      "Results saved to \u001b[1mruns/detect/predict2\u001b[0m\n",
      "249 labels saved to runs/detect/predict2/labels\n",
      "6.87112021446228\n",
      "8.970723390579224\n",
      "256\n",
      "Results saved to \u001b[1mruns/detect/predict2\u001b[0m\n",
      "249 labels saved to runs/detect/predict2/labels\n",
      "5.7980101108551025\n",
      "7.96863865852356\n",
      "256\n",
      "Results saved to \u001b[1mruns/detect/predict2\u001b[0m\n",
      "249 labels saved to runs/detect/predict2/labels\n",
      "6.0394392013549805\n",
      "8.153105974197388\n",
      "256\n",
      "Results saved to \u001b[1mruns/detect/predict2\u001b[0m\n",
      "249 labels saved to runs/detect/predict2/labels\n",
      "5.788743734359741\n",
      "8.143779754638672\n",
      "256\n",
      "Results saved to \u001b[1mruns/detect/predict2\u001b[0m\n",
      "249 labels saved to runs/detect/predict2/labels\n",
      "7.01042366027832\n",
      "9.496807336807251\n",
      "256\n",
      "Results saved to \u001b[1mruns/detect/predict2\u001b[0m\n",
      "250 labels saved to runs/detect/predict2/labels\n",
      "6.6784443855285645\n",
      "8.849783420562744\n",
      "256\n",
      "Results saved to \u001b[1mruns/detect/predict2\u001b[0m\n",
      "250 labels saved to runs/detect/predict2/labels\n",
      "5.5943474769592285\n",
      "7.741904020309448\n",
      "256\n",
      "Results saved to \u001b[1mruns/detect/predict2\u001b[0m\n",
      "250 labels saved to runs/detect/predict2/labels\n",
      "5.364053964614868\n",
      "7.506190776824951\n",
      "256\n",
      "Results saved to \u001b[1mruns/detect/predict2\u001b[0m\n",
      "250 labels saved to runs/detect/predict2/labels\n",
      "5.739540338516235\n",
      "8.192665338516235\n",
      "256\n",
      "Results saved to \u001b[1mruns/detect/predict2\u001b[0m\n",
      "250 labels saved to runs/detect/predict2/labels\n",
      "6.456509351730347\n",
      "8.682936191558838\n",
      "256\n",
      "Results saved to \u001b[1mruns/detect/predict2\u001b[0m\n",
      "250 labels saved to runs/detect/predict2/labels\n",
      "5.171257734298706\n",
      "7.297704458236694\n",
      "256\n",
      "Results saved to \u001b[1mruns/detect/predict2\u001b[0m\n",
      "250 labels saved to runs/detect/predict2/labels\n",
      "5.231218099594116\n",
      "7.627764463424683\n",
      "256\n",
      "Results saved to \u001b[1mruns/detect/predict2\u001b[0m\n",
      "250 labels saved to runs/detect/predict2/labels\n",
      "5.322917938232422\n",
      "7.464403867721558\n",
      "256\n",
      "Results saved to \u001b[1mruns/detect/predict2\u001b[0m\n",
      "250 labels saved to runs/detect/predict2/labels\n",
      "5.625868320465088\n",
      "8.077281951904297\n",
      "256\n",
      "Results saved to \u001b[1mruns/detect/predict2\u001b[0m\n",
      "250 labels saved to runs/detect/predict2/labels\n",
      "5.497293472290039\n",
      "7.66935396194458\n",
      "256\n",
      "Results saved to \u001b[1mruns/detect/predict2\u001b[0m\n",
      "250 labels saved to runs/detect/predict2/labels\n",
      "6.153546094894409\n",
      "8.484745025634766\n",
      "256\n",
      "Results saved to \u001b[1mruns/detect/predict2\u001b[0m\n",
      "250 labels saved to runs/detect/predict2/labels\n",
      "5.884145498275757\n",
      "8.014949560165405\n",
      "256\n",
      "Results saved to \u001b[1mruns/detect/predict2\u001b[0m\n",
      "250 labels saved to runs/detect/predict2/labels\n",
      "6.960429430007935\n",
      "9.164723634719849\n",
      "256\n",
      "Results saved to \u001b[1mruns/detect/predict2\u001b[0m\n",
      "250 labels saved to runs/detect/predict2/labels\n",
      "5.619182109832764\n",
      "7.767051935195923\n",
      "256\n",
      "Results saved to \u001b[1mruns/detect/predict2\u001b[0m\n",
      "250 labels saved to runs/detect/predict2/labels\n",
      "6.032307386398315\n",
      "8.405576944351196\n",
      "256\n",
      "Results saved to \u001b[1mruns/detect/predict2\u001b[0m\n",
      "250 labels saved to runs/detect/predict2/labels\n",
      "6.151572942733765\n",
      "8.32318902015686\n",
      "256\n",
      "Results saved to \u001b[1mruns/detect/predict2\u001b[0m\n",
      "250 labels saved to runs/detect/predict2/labels\n",
      "6.607105731964111\n",
      "9.227124214172363\n",
      "256\n",
      "Results saved to \u001b[1mruns/detect/predict2\u001b[0m\n",
      "250 labels saved to runs/detect/predict2/labels\n",
      "6.525126934051514\n",
      "8.758469820022583\n",
      "256\n",
      "Results saved to \u001b[1mruns/detect/predict2\u001b[0m\n",
      "251 labels saved to runs/detect/predict2/labels\n",
      "7.217918872833252\n",
      "9.458631038665771\n",
      "256\n",
      "Results saved to \u001b[1mruns/detect/predict2\u001b[0m\n",
      "251 labels saved to runs/detect/predict2/labels\n",
      "6.004556655883789\n",
      "8.162861824035645\n",
      "256\n",
      "Results saved to \u001b[1mruns/detect/predict2\u001b[0m\n",
      "251 labels saved to runs/detect/predict2/labels\n",
      "6.768383741378784\n",
      "9.013447999954224\n",
      "256\n",
      "Results saved to \u001b[1mruns/detect/predict2\u001b[0m\n",
      "252 labels saved to runs/detect/predict2/labels\n",
      "6.291475296020508\n",
      "8.526893377304077\n",
      "256\n",
      "Results saved to \u001b[1mruns/detect/predict2\u001b[0m\n",
      "252 labels saved to runs/detect/predict2/labels\n",
      "6.701103925704956\n",
      "9.313175439834595\n",
      "256\n",
      "Results saved to \u001b[1mruns/detect/predict2\u001b[0m\n",
      "252 labels saved to runs/detect/predict2/labels\n",
      "6.211667776107788\n",
      "8.626396417617798\n",
      "256\n",
      "Results saved to \u001b[1mruns/detect/predict2\u001b[0m\n",
      "252 labels saved to runs/detect/predict2/labels\n",
      "5.968423366546631\n",
      "8.176181077957153\n",
      "256\n",
      "Results saved to \u001b[1mruns/detect/predict2\u001b[0m\n",
      "252 labels saved to runs/detect/predict2/labels\n",
      "5.5898144245147705\n",
      "7.9453043937683105\n",
      "256\n",
      "Results saved to \u001b[1mruns/detect/predict2\u001b[0m\n",
      "252 labels saved to runs/detect/predict2/labels\n",
      "5.438776731491089\n",
      "7.591386556625366\n",
      "256\n",
      "Results saved to \u001b[1mruns/detect/predict2\u001b[0m\n",
      "252 labels saved to runs/detect/predict2/labels\n",
      "5.3192291259765625\n",
      "7.6937432289123535\n",
      "256\n",
      "Results saved to \u001b[1mruns/detect/predict2\u001b[0m\n",
      "252 labels saved to runs/detect/predict2/labels\n",
      "5.799983739852905\n",
      "8.333905220031738\n",
      "256\n",
      "Results saved to \u001b[1mruns/detect/predict2\u001b[0m\n",
      "252 labels saved to runs/detect/predict2/labels\n",
      "5.204598903656006\n",
      "7.401154518127441\n",
      "256\n",
      "Results saved to \u001b[1mruns/detect/predict2\u001b[0m\n",
      "252 labels saved to runs/detect/predict2/labels\n",
      "6.61152720451355\n",
      "8.966252088546753\n",
      "256\n",
      "Results saved to \u001b[1mruns/detect/predict2\u001b[0m\n",
      "252 labels saved to runs/detect/predict2/labels\n",
      "5.5678441524505615\n",
      "7.8161256313323975\n",
      "256\n",
      "Results saved to \u001b[1mruns/detect/predict2\u001b[0m\n",
      "252 labels saved to runs/detect/predict2/labels\n",
      "6.437697172164917\n",
      "8.560130596160889\n",
      "256\n",
      "Results saved to \u001b[1mruns/detect/predict2\u001b[0m\n",
      "252 labels saved to runs/detect/predict2/labels\n",
      "5.3124165534973145\n",
      "7.973637580871582\n",
      "256\n",
      "Results saved to \u001b[1mruns/detect/predict2\u001b[0m\n",
      "252 labels saved to runs/detect/predict2/labels\n",
      "5.93213677406311\n",
      "8.263900518417358\n",
      "256\n",
      "Results saved to \u001b[1mruns/detect/predict2\u001b[0m\n",
      "252 labels saved to runs/detect/predict2/labels\n",
      "6.137981176376343\n",
      "8.271837949752808\n",
      "256\n",
      "Results saved to \u001b[1mruns/detect/predict2\u001b[0m\n",
      "252 labels saved to runs/detect/predict2/labels\n",
      "6.225572109222412\n",
      "8.585373878479004\n",
      "256\n",
      "Results saved to \u001b[1mruns/detect/predict2\u001b[0m\n",
      "252 labels saved to runs/detect/predict2/labels\n",
      "6.2383222579956055\n",
      "8.51658821105957\n",
      "256\n",
      "Results saved to \u001b[1mruns/detect/predict2\u001b[0m\n",
      "253 labels saved to runs/detect/predict2/labels\n",
      "5.116154193878174\n",
      "7.211217403411865\n",
      "256\n",
      "Results saved to \u001b[1mruns/detect/predict2\u001b[0m\n",
      "253 labels saved to runs/detect/predict2/labels\n",
      "5.292759895324707\n",
      "7.635806560516357\n",
      "256\n",
      "Results saved to \u001b[1mruns/detect/predict2\u001b[0m\n",
      "253 labels saved to runs/detect/predict2/labels\n",
      "6.300457239151001\n",
      "8.400077819824219\n",
      "256\n",
      "Results saved to \u001b[1mruns/detect/predict2\u001b[0m\n",
      "253 labels saved to runs/detect/predict2/labels\n",
      "5.332009315490723\n",
      "7.486653089523315\n",
      "256\n",
      "Results saved to \u001b[1mruns/detect/predict2\u001b[0m\n",
      "253 labels saved to runs/detect/predict2/labels\n",
      "6.176022529602051\n",
      "8.314071416854858\n",
      "256\n",
      "Results saved to \u001b[1mruns/detect/predict2\u001b[0m\n",
      "253 labels saved to runs/detect/predict2/labels\n",
      "6.381856203079224\n",
      "8.523504257202148\n",
      "256\n",
      "Results saved to \u001b[1mruns/detect/predict2\u001b[0m\n",
      "253 labels saved to runs/detect/predict2/labels\n",
      "5.672779083251953\n",
      "7.777976751327515\n",
      "256\n",
      "Results saved to \u001b[1mruns/detect/predict2\u001b[0m\n",
      "253 labels saved to runs/detect/predict2/labels\n",
      "5.558572053909302\n",
      "7.902401447296143\n",
      "256\n",
      "Results saved to \u001b[1mruns/detect/predict2\u001b[0m\n",
      "253 labels saved to runs/detect/predict2/labels\n",
      "5.753891229629517\n",
      "7.829047679901123\n",
      "256\n",
      "Results saved to \u001b[1mruns/detect/predict2\u001b[0m\n",
      "253 labels saved to runs/detect/predict2/labels\n",
      "5.441264629364014\n",
      "7.874005079269409\n",
      "256\n",
      "Results saved to \u001b[1mruns/detect/predict2\u001b[0m\n",
      "253 labels saved to runs/detect/predict2/labels\n",
      "5.202069282531738\n",
      "7.254935026168823\n",
      "256\n",
      "Results saved to \u001b[1mruns/detect/predict2\u001b[0m\n",
      "253 labels saved to runs/detect/predict2/labels\n",
      "5.181318044662476\n",
      "7.456643581390381\n",
      "256\n",
      "Results saved to \u001b[1mruns/detect/predict2\u001b[0m\n",
      "253 labels saved to runs/detect/predict2/labels\n",
      "5.33806848526001\n",
      "7.428495168685913\n",
      "256\n",
      "Results saved to \u001b[1mruns/detect/predict2\u001b[0m\n",
      "253 labels saved to runs/detect/predict2/labels\n",
      "5.2642576694488525\n",
      "7.365240573883057\n",
      "256\n",
      "Results saved to \u001b[1mruns/detect/predict2\u001b[0m\n",
      "253 labels saved to runs/detect/predict2/labels\n",
      "5.205596208572388\n",
      "7.914091110229492\n",
      "256\n",
      "Results saved to \u001b[1mruns/detect/predict2\u001b[0m\n",
      "253 labels saved to runs/detect/predict2/labels\n",
      "5.300894260406494\n",
      "7.820817470550537\n",
      "256\n",
      "Results saved to \u001b[1mruns/detect/predict2\u001b[0m\n",
      "253 labels saved to runs/detect/predict2/labels\n",
      "5.283260822296143\n",
      "7.380450963973999\n",
      "256\n",
      "Results saved to \u001b[1mruns/detect/predict2\u001b[0m\n",
      "253 labels saved to runs/detect/predict2/labels\n",
      "5.230479955673218\n",
      "7.406140565872192\n",
      "256\n",
      "Results saved to \u001b[1mruns/detect/predict2\u001b[0m\n",
      "254 labels saved to runs/detect/predict2/labels\n",
      "5.220465183258057\n",
      "7.8053388595581055\n",
      "256\n",
      "Results saved to \u001b[1mruns/detect/predict2\u001b[0m\n",
      "254 labels saved to runs/detect/predict2/labels\n",
      "5.344643831253052\n",
      "7.471998929977417\n",
      "256\n",
      "Results saved to \u001b[1mruns/detect/predict2\u001b[0m\n",
      "254 labels saved to runs/detect/predict2/labels\n",
      "6.962366342544556\n",
      "9.089091062545776\n",
      "256\n",
      "Results saved to \u001b[1mruns/detect/predict2\u001b[0m\n",
      "254 labels saved to runs/detect/predict2/labels\n",
      "5.32157826423645\n",
      "7.494285345077515\n",
      "256\n",
      "Results saved to \u001b[1mruns/detect/predict2\u001b[0m\n",
      "254 labels saved to runs/detect/predict2/labels\n",
      "5.164552450180054\n",
      "7.4263756275177\n",
      "256\n",
      "Results saved to \u001b[1mruns/detect/predict2\u001b[0m\n",
      "254 labels saved to runs/detect/predict2/labels\n",
      "5.000695466995239\n",
      "7.327903985977173\n",
      "256\n",
      "Results saved to \u001b[1mruns/detect/predict2\u001b[0m\n",
      "254 labels saved to runs/detect/predict2/labels\n",
      "6.003488540649414\n",
      "8.486405611038208\n",
      "256\n",
      "Results saved to \u001b[1mruns/detect/predict2\u001b[0m\n",
      "254 labels saved to runs/detect/predict2/labels\n",
      "5.402751445770264\n",
      "7.93259596824646\n",
      "256\n",
      "Results saved to \u001b[1mruns/detect/predict2\u001b[0m\n",
      "255 labels saved to runs/detect/predict2/labels\n",
      "5.29740047454834\n",
      "7.630299806594849\n",
      "256\n",
      "Results saved to \u001b[1mruns/detect/predict2\u001b[0m\n",
      "255 labels saved to runs/detect/predict2/labels\n",
      "5.210793733596802\n",
      "7.298585414886475\n",
      "256\n",
      "Results saved to \u001b[1mruns/detect/predict2\u001b[0m\n",
      "255 labels saved to runs/detect/predict2/labels\n",
      "5.09722900390625\n",
      "7.364819288253784\n",
      "256\n",
      "Results saved to \u001b[1mruns/detect/predict2\u001b[0m\n",
      "255 labels saved to runs/detect/predict2/labels\n",
      "5.2430739402771\n",
      "7.472099542617798\n",
      "256\n",
      "Results saved to \u001b[1mruns/detect/predict2\u001b[0m\n",
      "255 labels saved to runs/detect/predict2/labels\n",
      "5.160010814666748\n",
      "7.342145204544067\n",
      "256\n",
      "Results saved to \u001b[1mruns/detect/predict2\u001b[0m\n",
      "255 labels saved to runs/detect/predict2/labels\n",
      "4.952563047409058\n",
      "7.159819602966309\n",
      "256\n",
      "Results saved to \u001b[1mruns/detect/predict2\u001b[0m\n",
      "255 labels saved to runs/detect/predict2/labels\n",
      "5.8292858600616455\n",
      "8.081007480621338\n",
      "256\n",
      "Results saved to \u001b[1mruns/detect/predict2\u001b[0m\n",
      "255 labels saved to runs/detect/predict2/labels\n",
      "5.233968019485474\n",
      "7.4644482135772705\n",
      "256\n",
      "Results saved to \u001b[1mruns/detect/predict2\u001b[0m\n",
      "255 labels saved to runs/detect/predict2/labels\n",
      "5.175352334976196\n",
      "7.345693588256836\n",
      "256\n",
      "Results saved to \u001b[1mruns/detect/predict2\u001b[0m\n",
      "255 labels saved to runs/detect/predict2/labels\n",
      "5.2993483543396\n",
      "7.470162630081177\n",
      "256\n",
      "Results saved to \u001b[1mruns/detect/predict2\u001b[0m\n",
      "255 labels saved to runs/detect/predict2/labels\n",
      "6.194789409637451\n",
      "8.353033065795898\n",
      "256\n",
      "Results saved to \u001b[1mruns/detect/predict2\u001b[0m\n",
      "255 labels saved to runs/detect/predict2/labels\n",
      "5.304504632949829\n",
      "7.62951135635376\n",
      "256\n",
      "Results saved to \u001b[1mruns/detect/predict2\u001b[0m\n",
      "255 labels saved to runs/detect/predict2/labels\n",
      "5.174813985824585\n",
      "7.567896366119385\n",
      "256\n",
      "Results saved to \u001b[1mruns/detect/predict2\u001b[0m\n",
      "255 labels saved to runs/detect/predict2/labels\n",
      "5.291515350341797\n",
      "7.864622116088867\n",
      "256\n",
      "Results saved to \u001b[1mruns/detect/predict2\u001b[0m\n",
      "255 labels saved to runs/detect/predict2/labels\n",
      "5.303143262863159\n",
      "7.6153717041015625\n",
      "256\n",
      "Results saved to \u001b[1mruns/detect/predict2\u001b[0m\n",
      "255 labels saved to runs/detect/predict2/labels\n",
      "5.468311786651611\n",
      "7.626912355422974\n",
      "256\n",
      "Results saved to \u001b[1mruns/detect/predict2\u001b[0m\n",
      "255 labels saved to runs/detect/predict2/labels\n",
      "5.2934041023254395\n",
      "7.753730535507202\n",
      "256\n",
      "Results saved to \u001b[1mruns/detect/predict2\u001b[0m\n",
      "255 labels saved to runs/detect/predict2/labels\n",
      "5.1489293575286865\n",
      "7.506171464920044\n",
      "256\n",
      "Results saved to \u001b[1mruns/detect/predict2\u001b[0m\n",
      "255 labels saved to runs/detect/predict2/labels\n",
      "5.181363344192505\n",
      "7.901988744735718\n",
      "256\n",
      "Results saved to \u001b[1mruns/detect/predict2\u001b[0m\n",
      "255 labels saved to runs/detect/predict2/labels\n",
      "5.394576787948608\n",
      "7.800073623657227\n",
      "256\n",
      "Results saved to \u001b[1mruns/detect/predict2\u001b[0m\n",
      "255 labels saved to runs/detect/predict2/labels\n",
      "5.250712156295776\n",
      "7.910876750946045\n",
      "256\n",
      "Results saved to \u001b[1mruns/detect/predict2\u001b[0m\n",
      "255 labels saved to runs/detect/predict2/labels\n",
      "5.344924688339233\n",
      "7.706042051315308\n",
      "256\n",
      "Results saved to \u001b[1mruns/detect/predict2\u001b[0m\n",
      "255 labels saved to runs/detect/predict2/labels\n",
      "5.515055179595947\n",
      "7.817225217819214\n",
      "256\n",
      "Results saved to \u001b[1mruns/detect/predict2\u001b[0m\n",
      "255 labels saved to runs/detect/predict2/labels\n",
      "5.227968215942383\n",
      "7.676294326782227\n",
      "256\n",
      "Results saved to \u001b[1mruns/detect/predict2\u001b[0m\n",
      "255 labels saved to runs/detect/predict2/labels\n",
      "5.203723192214966\n",
      "7.322095632553101\n",
      "256\n",
      "Results saved to \u001b[1mruns/detect/predict2\u001b[0m\n",
      "255 labels saved to runs/detect/predict2/labels\n",
      "5.165185451507568\n",
      "7.464243412017822\n",
      "256\n",
      "Results saved to \u001b[1mruns/detect/predict2\u001b[0m\n",
      "255 labels saved to runs/detect/predict2/labels\n",
      "5.37420392036438\n",
      "7.6475443840026855\n",
      "256\n",
      "Results saved to \u001b[1mruns/detect/predict2\u001b[0m\n",
      "255 labels saved to runs/detect/predict2/labels\n",
      "5.045465707778931\n",
      "7.287313461303711\n",
      "256\n",
      "Results saved to \u001b[1mruns/detect/predict2\u001b[0m\n",
      "255 labels saved to runs/detect/predict2/labels\n",
      "5.389507532119751\n",
      "7.935215950012207\n",
      "256\n",
      "Results saved to \u001b[1mruns/detect/predict2\u001b[0m\n",
      "255 labels saved to runs/detect/predict2/labels\n",
      "5.251859426498413\n",
      "7.84102988243103\n",
      "256\n",
      "Results saved to \u001b[1mruns/detect/predict2\u001b[0m\n",
      "255 labels saved to runs/detect/predict2/labels\n",
      "4.890552759170532\n",
      "7.286701679229736\n",
      "256\n",
      "Results saved to \u001b[1mruns/detect/predict2\u001b[0m\n",
      "255 labels saved to runs/detect/predict2/labels\n",
      "5.344607353210449\n",
      "7.45976185798645\n",
      "256\n",
      "Results saved to \u001b[1mruns/detect/predict2\u001b[0m\n",
      "255 labels saved to runs/detect/predict2/labels\n",
      "5.132423400878906\n",
      "7.418905973434448\n",
      "256\n",
      "Results saved to \u001b[1mruns/detect/predict2\u001b[0m\n",
      "255 labels saved to runs/detect/predict2/labels\n",
      "5.68604588508606\n",
      "8.27323317527771\n",
      "256\n",
      "Results saved to \u001b[1mruns/detect/predict2\u001b[0m\n",
      "255 labels saved to runs/detect/predict2/labels\n",
      "4.984428644180298\n",
      "7.19351053237915\n",
      "256\n",
      "Results saved to \u001b[1mruns/detect/predict2\u001b[0m\n",
      "255 labels saved to runs/detect/predict2/labels\n",
      "5.39490270614624\n",
      "7.8158392906188965\n",
      "256\n",
      "Results saved to \u001b[1mruns/detect/predict2\u001b[0m\n",
      "255 labels saved to runs/detect/predict2/labels\n",
      "5.326195955276489\n",
      "7.517103672027588\n",
      "256\n",
      "Results saved to \u001b[1mruns/detect/predict2\u001b[0m\n",
      "255 labels saved to runs/detect/predict2/labels\n",
      "5.1146697998046875\n",
      "7.2548229694366455\n",
      "256\n",
      "Results saved to \u001b[1mruns/detect/predict2\u001b[0m\n",
      "255 labels saved to runs/detect/predict2/labels\n",
      "5.044851064682007\n",
      "7.166505575180054\n",
      "256\n",
      "Results saved to \u001b[1mruns/detect/predict2\u001b[0m\n",
      "255 labels saved to runs/detect/predict2/labels\n",
      "5.107649087905884\n",
      "7.1853532791137695\n",
      "256\n",
      "Results saved to \u001b[1mruns/detect/predict2\u001b[0m\n",
      "255 labels saved to runs/detect/predict2/labels\n",
      "5.020902633666992\n",
      "7.582379102706909\n",
      "256\n",
      "Results saved to \u001b[1mruns/detect/predict2\u001b[0m\n",
      "255 labels saved to runs/detect/predict2/labels\n",
      "5.174546480178833\n",
      "7.3798828125\n",
      "256\n",
      "Results saved to \u001b[1mruns/detect/predict2\u001b[0m\n",
      "255 labels saved to runs/detect/predict2/labels\n",
      "5.11594295501709\n",
      "7.435006380081177\n",
      "256\n",
      "Results saved to \u001b[1mruns/detect/predict2\u001b[0m\n",
      "255 labels saved to runs/detect/predict2/labels\n",
      "5.24431586265564\n",
      "7.296892404556274\n",
      "256\n",
      "Results saved to \u001b[1mruns/detect/predict2\u001b[0m\n",
      "255 labels saved to runs/detect/predict2/labels\n",
      "5.182323932647705\n",
      "7.558817625045776\n",
      "256\n",
      "Results saved to \u001b[1mruns/detect/predict2\u001b[0m\n",
      "255 labels saved to runs/detect/predict2/labels\n",
      "5.03630518913269\n",
      "7.283467054367065\n",
      "256\n",
      "Results saved to \u001b[1mruns/detect/predict2\u001b[0m\n",
      "255 labels saved to runs/detect/predict2/labels\n",
      "5.016941547393799\n",
      "7.099870443344116\n",
      "256\n",
      "Results saved to \u001b[1mruns/detect/predict2\u001b[0m\n",
      "255 labels saved to runs/detect/predict2/labels\n",
      "5.110190153121948\n",
      "7.19642186164856\n",
      "256\n",
      "Results saved to \u001b[1mruns/detect/predict2\u001b[0m\n",
      "255 labels saved to runs/detect/predict2/labels\n",
      "4.989220380783081\n",
      "7.04284143447876\n",
      "256\n",
      "Results saved to \u001b[1mruns/detect/predict2\u001b[0m\n",
      "255 labels saved to runs/detect/predict2/labels\n",
      "5.112607955932617\n",
      "7.211181879043579\n",
      "256\n",
      "Results saved to \u001b[1mruns/detect/predict2\u001b[0m\n",
      "255 labels saved to runs/detect/predict2/labels\n",
      "4.859529495239258\n",
      "6.975987911224365\n",
      "256\n",
      "Results saved to \u001b[1mruns/detect/predict2\u001b[0m\n",
      "255 labels saved to runs/detect/predict2/labels\n",
      "5.116388559341431\n",
      "7.31552267074585\n",
      "256\n",
      "Results saved to \u001b[1mruns/detect/predict2\u001b[0m\n",
      "255 labels saved to runs/detect/predict2/labels\n",
      "5.230273008346558\n",
      "7.341709852218628\n",
      "256\n",
      "Results saved to \u001b[1mruns/detect/predict2\u001b[0m\n",
      "255 labels saved to runs/detect/predict2/labels\n",
      "5.099836349487305\n",
      "7.408904790878296\n",
      "256\n",
      "Results saved to \u001b[1mruns/detect/predict2\u001b[0m\n",
      "255 labels saved to runs/detect/predict2/labels\n",
      "5.150925874710083\n",
      "7.290048122406006\n",
      "256\n",
      "Results saved to \u001b[1mruns/detect/predict2\u001b[0m\n",
      "255 labels saved to runs/detect/predict2/labels\n",
      "5.0323874950408936\n",
      "7.621344804763794\n",
      "256\n",
      "Results saved to \u001b[1mruns/detect/predict2\u001b[0m\n",
      "255 labels saved to runs/detect/predict2/labels\n",
      "5.2505717277526855\n",
      "7.360701084136963\n",
      "256\n",
      "Results saved to \u001b[1mruns/detect/predict2\u001b[0m\n",
      "255 labels saved to runs/detect/predict2/labels\n",
      "5.0685529708862305\n",
      "7.212667942047119\n",
      "256\n",
      "Results saved to \u001b[1mruns/detect/predict2\u001b[0m\n",
      "255 labels saved to runs/detect/predict2/labels\n",
      "6.720442056655884\n",
      "8.823503017425537\n",
      "256\n",
      "Results saved to \u001b[1mruns/detect/predict2\u001b[0m\n",
      "255 labels saved to runs/detect/predict2/labels\n",
      "5.348238945007324\n",
      "7.4825356006622314\n",
      "256\n",
      "Results saved to \u001b[1mruns/detect/predict2\u001b[0m\n",
      "255 labels saved to runs/detect/predict2/labels\n",
      "5.554659605026245\n",
      "8.06691575050354\n",
      "256\n",
      "Results saved to \u001b[1mruns/detect/predict2\u001b[0m\n",
      "255 labels saved to runs/detect/predict2/labels\n",
      "6.925895690917969\n",
      "9.30096697807312\n",
      "256\n",
      "Results saved to \u001b[1mruns/detect/predict2\u001b[0m\n",
      "255 labels saved to runs/detect/predict2/labels\n",
      "6.661333322525024\n",
      "9.097050905227661\n",
      "256\n",
      "Results saved to \u001b[1mruns/detect/predict2\u001b[0m\n",
      "255 labels saved to runs/detect/predict2/labels\n",
      "5.3516926765441895\n",
      "7.722862005233765\n",
      "256\n",
      "Results saved to \u001b[1mruns/detect/predict2\u001b[0m\n",
      "255 labels saved to runs/detect/predict2/labels\n",
      "6.747983932495117\n",
      "8.836717367172241\n",
      "256\n",
      "Results saved to \u001b[1mruns/detect/predict2\u001b[0m\n",
      "255 labels saved to runs/detect/predict2/labels\n",
      "5.0285797119140625\n",
      "7.145819664001465\n",
      "256\n",
      "Results saved to \u001b[1mruns/detect/predict2\u001b[0m\n",
      "255 labels saved to runs/detect/predict2/labels\n",
      "5.8623340129852295\n",
      "8.110934734344482\n",
      "256\n",
      "Results saved to \u001b[1mruns/detect/predict2\u001b[0m\n",
      "255 labels saved to runs/detect/predict2/labels\n",
      "5.753786325454712\n",
      "8.283348798751831\n",
      "256\n",
      "Results saved to \u001b[1mruns/detect/predict2\u001b[0m\n",
      "255 labels saved to runs/detect/predict2/labels\n",
      "5.33847188949585\n",
      "7.518218994140625\n",
      "256\n",
      "Results saved to \u001b[1mruns/detect/predict2\u001b[0m\n",
      "255 labels saved to runs/detect/predict2/labels\n",
      "5.054148435592651\n",
      "7.295955181121826\n",
      "256\n",
      "Results saved to \u001b[1mruns/detect/predict2\u001b[0m\n",
      "255 labels saved to runs/detect/predict2/labels\n",
      "5.2850182056427\n",
      "7.476045846939087\n",
      "256\n",
      "Results saved to \u001b[1mruns/detect/predict2\u001b[0m\n",
      "255 labels saved to runs/detect/predict2/labels\n",
      "5.231886148452759\n",
      "7.447210073471069\n",
      "256\n",
      "Results saved to \u001b[1mruns/detect/predict2\u001b[0m\n",
      "255 labels saved to runs/detect/predict2/labels\n",
      "5.045844316482544\n",
      "7.2728657722473145\n",
      "256\n",
      "Results saved to \u001b[1mruns/detect/predict2\u001b[0m\n",
      "255 labels saved to runs/detect/predict2/labels\n",
      "5.125479221343994\n",
      "7.506122350692749\n",
      "256\n",
      "Results saved to \u001b[1mruns/detect/predict2\u001b[0m\n",
      "256 labels saved to runs/detect/predict2/labels\n",
      "5.223288536071777\n",
      "7.394824266433716\n",
      "256\n",
      "Results saved to \u001b[1mruns/detect/predict2\u001b[0m\n",
      "256 labels saved to runs/detect/predict2/labels\n",
      "5.016327381134033\n",
      "7.1412034034729\n",
      "256\n",
      "Results saved to \u001b[1mruns/detect/predict2\u001b[0m\n",
      "256 labels saved to runs/detect/predict2/labels\n",
      "5.03589129447937\n",
      "7.269822597503662\n",
      "256\n",
      "Results saved to \u001b[1mruns/detect/predict2\u001b[0m\n",
      "256 labels saved to runs/detect/predict2/labels\n",
      "5.105028390884399\n",
      "7.247562885284424\n",
      "256\n",
      "Results saved to \u001b[1mruns/detect/predict2\u001b[0m\n",
      "256 labels saved to runs/detect/predict2/labels\n",
      "5.325450420379639\n",
      "7.870209455490112\n",
      "256\n",
      "Results saved to \u001b[1mruns/detect/predict2\u001b[0m\n",
      "256 labels saved to runs/detect/predict2/labels\n",
      "5.198084115982056\n",
      "7.378892421722412\n",
      "256\n",
      "Results saved to \u001b[1mruns/detect/predict2\u001b[0m\n",
      "256 labels saved to runs/detect/predict2/labels\n",
      "5.064530372619629\n",
      "7.37212610244751\n",
      "256\n",
      "Results saved to \u001b[1mruns/detect/predict2\u001b[0m\n",
      "256 labels saved to runs/detect/predict2/labels\n",
      "5.173884153366089\n",
      "7.392880201339722\n",
      "256\n",
      "Results saved to \u001b[1mruns/detect/predict2\u001b[0m\n",
      "256 labels saved to runs/detect/predict2/labels\n",
      "5.134779691696167\n",
      "7.265069246292114\n",
      "256\n",
      "Results saved to \u001b[1mruns/detect/predict2\u001b[0m\n",
      "256 labels saved to runs/detect/predict2/labels\n",
      "5.218724489212036\n",
      "7.502815008163452\n",
      "256\n",
      "Results saved to \u001b[1mruns/detect/predict2\u001b[0m\n",
      "256 labels saved to runs/detect/predict2/labels\n",
      "5.467430114746094\n",
      "7.786160230636597\n",
      "256\n",
      "Results saved to \u001b[1mruns/detect/predict2\u001b[0m\n",
      "256 labels saved to runs/detect/predict2/labels\n",
      "5.095926284790039\n",
      "7.24881649017334\n",
      "256\n",
      "Results saved to \u001b[1mruns/detect/predict2\u001b[0m\n",
      "256 labels saved to runs/detect/predict2/labels\n",
      "5.251211166381836\n",
      "7.505171060562134\n",
      "256\n",
      "Results saved to \u001b[1mruns/detect/predict2\u001b[0m\n",
      "256 labels saved to runs/detect/predict2/labels\n",
      "5.4843385219573975\n",
      "7.662343263626099\n",
      "256\n",
      "Results saved to \u001b[1mruns/detect/predict2\u001b[0m\n",
      "256 labels saved to runs/detect/predict2/labels\n",
      "5.413125276565552\n",
      "7.57783055305481\n",
      "256\n",
      "Results saved to \u001b[1mruns/detect/predict2\u001b[0m\n",
      "256 labels saved to runs/detect/predict2/labels\n",
      "5.125442028045654\n",
      "7.277296781539917\n",
      "256\n",
      "Results saved to \u001b[1mruns/detect/predict2\u001b[0m\n",
      "256 labels saved to runs/detect/predict2/labels\n",
      "5.907801151275635\n",
      "8.062122583389282\n",
      "256\n",
      "Results saved to \u001b[1mruns/detect/predict2\u001b[0m\n",
      "256 labels saved to runs/detect/predict2/labels\n",
      "6.202968597412109\n",
      "8.432080745697021\n",
      "256\n",
      "Results saved to \u001b[1mruns/detect/predict2\u001b[0m\n",
      "256 labels saved to runs/detect/predict2/labels\n",
      "5.553023815155029\n",
      "7.749232530593872\n",
      "256\n",
      "Results saved to \u001b[1mruns/detect/predict2\u001b[0m\n",
      "256 labels saved to runs/detect/predict2/labels\n",
      "6.335399627685547\n",
      "8.735793113708496\n",
      "256\n",
      "Results saved to \u001b[1mruns/detect/predict2\u001b[0m\n",
      "256 labels saved to runs/detect/predict2/labels\n",
      "6.397007703781128\n",
      "8.83188271522522\n",
      "256\n",
      "Results saved to \u001b[1mruns/detect/predict2\u001b[0m\n",
      "256 labels saved to runs/detect/predict2/labels\n",
      "5.248270511627197\n",
      "7.5542120933532715\n",
      "256\n",
      "Results saved to \u001b[1mruns/detect/predict2\u001b[0m\n",
      "256 labels saved to runs/detect/predict2/labels\n",
      "5.196850299835205\n",
      "7.377750873565674\n",
      "256\n",
      "Results saved to \u001b[1mruns/detect/predict2\u001b[0m\n",
      "256 labels saved to runs/detect/predict2/labels\n",
      "5.059633016586304\n",
      "7.635925054550171\n",
      "256\n",
      "Results saved to \u001b[1mruns/detect/predict2\u001b[0m\n",
      "256 labels saved to runs/detect/predict2/labels\n",
      "5.001438140869141\n",
      "7.275755882263184\n",
      "256\n",
      "Results saved to \u001b[1mruns/detect/predict2\u001b[0m\n",
      "256 labels saved to runs/detect/predict2/labels\n",
      "5.195892333984375\n",
      "7.34903621673584\n",
      "256\n",
      "Results saved to \u001b[1mruns/detect/predict2\u001b[0m\n",
      "256 labels saved to runs/detect/predict2/labels\n",
      "5.151544809341431\n",
      "7.408859729766846\n",
      "256\n",
      "Results saved to \u001b[1mruns/detect/predict2\u001b[0m\n",
      "256 labels saved to runs/detect/predict2/labels\n",
      "5.0033392906188965\n",
      "7.39104151725769\n",
      "256\n",
      "Results saved to \u001b[1mruns/detect/predict2\u001b[0m\n",
      "256 labels saved to runs/detect/predict2/labels\n",
      "5.058078289031982\n",
      "7.659956693649292\n",
      "256\n",
      "Results saved to \u001b[1mruns/detect/predict2\u001b[0m\n",
      "256 labels saved to runs/detect/predict2/labels\n",
      "5.386145830154419\n",
      "7.545068979263306\n",
      "256\n",
      "Results saved to \u001b[1mruns/detect/predict2\u001b[0m\n",
      "256 labels saved to runs/detect/predict2/labels\n",
      "5.1726953983306885\n",
      "7.325589179992676\n",
      "256\n",
      "Results saved to \u001b[1mruns/detect/predict2\u001b[0m\n",
      "256 labels saved to runs/detect/predict2/labels\n",
      "5.507473468780518\n",
      "7.6532580852508545\n",
      "256\n",
      "Results saved to \u001b[1mruns/detect/predict2\u001b[0m\n",
      "256 labels saved to runs/detect/predict2/labels\n",
      "5.131415128707886\n",
      "7.827069282531738\n",
      "256\n",
      "Results saved to \u001b[1mruns/detect/predict2\u001b[0m\n",
      "256 labels saved to runs/detect/predict2/labels\n",
      "5.262848377227783\n",
      "7.437198638916016\n",
      "256\n",
      "Results saved to \u001b[1mruns/detect/predict2\u001b[0m\n",
      "256 labels saved to runs/detect/predict2/labels\n",
      "6.405682563781738\n",
      "8.561354875564575\n",
      "256\n",
      "Results saved to \u001b[1mruns/detect/predict2\u001b[0m\n",
      "256 labels saved to runs/detect/predict2/labels\n",
      "6.538241863250732\n",
      "8.693455457687378\n",
      "256\n",
      "Results saved to \u001b[1mruns/detect/predict2\u001b[0m\n",
      "256 labels saved to runs/detect/predict2/labels\n",
      "6.096917629241943\n",
      "8.221670866012573\n",
      "256\n",
      "Results saved to \u001b[1mruns/detect/predict2\u001b[0m\n",
      "256 labels saved to runs/detect/predict2/labels\n",
      "5.385983228683472\n",
      "7.708869934082031\n",
      "256\n",
      "Results saved to \u001b[1mruns/detect/predict2\u001b[0m\n",
      "256 labels saved to runs/detect/predict2/labels\n",
      "5.2092039585113525\n",
      "7.48442530632019\n",
      "256\n",
      "Results saved to \u001b[1mruns/detect/predict2\u001b[0m\n",
      "256 labels saved to runs/detect/predict2/labels\n",
      "5.583913803100586\n",
      "7.705949068069458\n",
      "256\n",
      "Results saved to \u001b[1mruns/detect/predict2\u001b[0m\n",
      "256 labels saved to runs/detect/predict2/labels\n",
      "5.34870982170105\n",
      "7.487692594528198\n",
      "256\n",
      "Results saved to \u001b[1mruns/detect/predict2\u001b[0m\n",
      "256 labels saved to runs/detect/predict2/labels\n",
      "5.580853700637817\n",
      "7.791407346725464\n",
      "256\n",
      "Results saved to \u001b[1mruns/detect/predict2\u001b[0m\n",
      "256 labels saved to runs/detect/predict2/labels\n",
      "8.148122072219849\n",
      "10.98152470588684\n",
      "256\n",
      "Results saved to \u001b[1mruns/detect/predict2\u001b[0m\n",
      "256 labels saved to runs/detect/predict2/labels\n",
      "5.780414342880249\n",
      "8.348692893981934\n",
      "256\n",
      "Results saved to \u001b[1mruns/detect/predict2\u001b[0m\n",
      "256 labels saved to runs/detect/predict2/labels\n",
      "5.363527297973633\n",
      "7.732335090637207\n",
      "256\n",
      "Results saved to \u001b[1mruns/detect/predict2\u001b[0m\n",
      "256 labels saved to runs/detect/predict2/labels\n",
      "5.164210319519043\n",
      "7.411437749862671\n",
      "256\n",
      "Results saved to \u001b[1mruns/detect/predict2\u001b[0m\n",
      "256 labels saved to runs/detect/predict2/labels\n",
      "5.668209075927734\n",
      "8.053134441375732\n",
      "256\n",
      "Results saved to \u001b[1mruns/detect/predict2\u001b[0m\n",
      "256 labels saved to runs/detect/predict2/labels\n",
      "6.200691223144531\n",
      "8.469686031341553\n",
      "256\n",
      "Results saved to \u001b[1mruns/detect/predict2\u001b[0m\n",
      "256 labels saved to runs/detect/predict2/labels\n",
      "6.252424478530884\n",
      "8.42659592628479\n",
      "256\n",
      "Results saved to \u001b[1mruns/detect/predict2\u001b[0m\n",
      "256 labels saved to runs/detect/predict2/labels\n",
      "5.448785066604614\n",
      "7.677557706832886\n",
      "256\n",
      "Results saved to \u001b[1mruns/detect/predict2\u001b[0m\n",
      "256 labels saved to runs/detect/predict2/labels\n",
      "6.4282286167144775\n",
      "8.694590330123901\n",
      "256\n",
      "Results saved to \u001b[1mruns/detect/predict2\u001b[0m\n",
      "256 labels saved to runs/detect/predict2/labels\n",
      "5.869135618209839\n",
      "8.198721170425415\n",
      "256\n",
      "Results saved to \u001b[1mruns/detect/predict2\u001b[0m\n",
      "256 labels saved to runs/detect/predict2/labels\n",
      "6.226979970932007\n",
      "8.46661114692688\n",
      "256\n",
      "Results saved to \u001b[1mruns/detect/predict2\u001b[0m\n",
      "256 labels saved to runs/detect/predict2/labels\n",
      "5.4144017696380615\n",
      "7.9425413608551025\n",
      "256\n",
      "Results saved to \u001b[1mruns/detect/predict2\u001b[0m\n",
      "256 labels saved to runs/detect/predict2/labels\n",
      "5.709490060806274\n",
      "7.852698087692261\n",
      "256\n",
      "Results saved to \u001b[1mruns/detect/predict2\u001b[0m\n",
      "256 labels saved to runs/detect/predict2/labels\n",
      "5.807698488235474\n",
      "8.250514507293701\n",
      "256\n",
      "Results saved to \u001b[1mruns/detect/predict2\u001b[0m\n",
      "256 labels saved to runs/detect/predict2/labels\n",
      "6.002204895019531\n",
      "8.33601689338684\n",
      "256\n",
      "Results saved to \u001b[1mruns/detect/predict2\u001b[0m\n",
      "256 labels saved to runs/detect/predict2/labels\n",
      "5.427089214324951\n",
      "7.81636643409729\n",
      "256\n",
      "Results saved to \u001b[1mruns/detect/predict2\u001b[0m\n",
      "256 labels saved to runs/detect/predict2/labels\n",
      "5.297742128372192\n",
      "7.654625654220581\n",
      "256\n",
      "Results saved to \u001b[1mruns/detect/predict2\u001b[0m\n",
      "256 labels saved to runs/detect/predict2/labels\n",
      "7.892544507980347\n",
      "10.324141502380371\n",
      "256\n",
      "Results saved to \u001b[1mruns/detect/predict2\u001b[0m\n",
      "256 labels saved to runs/detect/predict2/labels\n",
      "23.525395393371582\n",
      "25.925191164016724\n",
      "256\n",
      "Results saved to \u001b[1mruns/detect/predict2\u001b[0m\n",
      "256 labels saved to runs/detect/predict2/labels\n",
      "7.04923152923584\n",
      "9.25608515739441\n",
      "256\n",
      "Results saved to \u001b[1mruns/detect/predict2\u001b[0m\n",
      "256 labels saved to runs/detect/predict2/labels\n",
      "5.752253770828247\n",
      "8.221367359161377\n",
      "256\n",
      "Results saved to \u001b[1mruns/detect/predict2\u001b[0m\n",
      "256 labels saved to runs/detect/predict2/labels\n",
      "5.3941051959991455\n",
      "7.709253311157227\n",
      "256\n",
      "Results saved to \u001b[1mruns/detect/predict2\u001b[0m\n",
      "256 labels saved to runs/detect/predict2/labels\n",
      "5.4493701457977295\n",
      "7.628236293792725\n",
      "256\n",
      "Results saved to \u001b[1mruns/detect/predict2\u001b[0m\n",
      "256 labels saved to runs/detect/predict2/labels\n",
      "5.958901643753052\n",
      "8.285926580429077\n",
      "256\n",
      "Results saved to \u001b[1mruns/detect/predict2\u001b[0m\n",
      "256 labels saved to runs/detect/predict2/labels\n",
      "5.275817632675171\n",
      "7.637734651565552\n",
      "256\n",
      "Results saved to \u001b[1mruns/detect/predict2\u001b[0m\n",
      "256 labels saved to runs/detect/predict2/labels\n",
      "5.535741329193115\n",
      "8.026691913604736\n",
      "256\n",
      "Results saved to \u001b[1mruns/detect/predict2\u001b[0m\n",
      "256 labels saved to runs/detect/predict2/labels\n",
      "5.46890115737915\n",
      "8.060614585876465\n",
      "256\n",
      "Results saved to \u001b[1mruns/detect/predict2\u001b[0m\n",
      "256 labels saved to runs/detect/predict2/labels\n",
      "5.849826335906982\n",
      "8.038073539733887\n",
      "256\n",
      "Results saved to \u001b[1mruns/detect/predict2\u001b[0m\n",
      "256 labels saved to runs/detect/predict2/labels\n",
      "5.350002288818359\n",
      "7.469098329544067\n",
      "256\n",
      "Results saved to \u001b[1mruns/detect/predict2\u001b[0m\n",
      "256 labels saved to runs/detect/predict2/labels\n",
      "5.245995998382568\n",
      "7.449676275253296\n",
      "256\n",
      "Results saved to \u001b[1mruns/detect/predict2\u001b[0m\n",
      "256 labels saved to runs/detect/predict2/labels\n",
      "5.115806579589844\n",
      "7.279519557952881\n",
      "256\n",
      "Results saved to \u001b[1mruns/detect/predict2\u001b[0m\n",
      "256 labels saved to runs/detect/predict2/labels\n",
      "5.751645565032959\n",
      "7.895599365234375\n",
      "256\n",
      "Results saved to \u001b[1mruns/detect/predict2\u001b[0m\n",
      "256 labels saved to runs/detect/predict2/labels\n",
      "5.382427453994751\n",
      "7.505642652511597\n",
      "256\n",
      "Results saved to \u001b[1mruns/detect/predict2\u001b[0m\n",
      "256 labels saved to runs/detect/predict2/labels\n",
      "5.407010078430176\n",
      "7.55914306640625\n",
      "256\n",
      "Results saved to \u001b[1mruns/detect/predict2\u001b[0m\n",
      "256 labels saved to runs/detect/predict2/labels\n",
      "5.262382984161377\n",
      "7.423586368560791\n",
      "256\n",
      "Results saved to \u001b[1mruns/detect/predict2\u001b[0m\n",
      "256 labels saved to runs/detect/predict2/labels\n",
      "5.458476543426514\n",
      "7.771870136260986\n",
      "256\n",
      "Results saved to \u001b[1mruns/detect/predict2\u001b[0m\n",
      "256 labels saved to runs/detect/predict2/labels\n",
      "5.30973744392395\n",
      "7.439820289611816\n",
      "256\n",
      "Results saved to \u001b[1mruns/detect/predict2\u001b[0m\n",
      "256 labels saved to runs/detect/predict2/labels\n",
      "5.126233100891113\n",
      "7.579967975616455\n",
      "256\n",
      "Results saved to \u001b[1mruns/detect/predict2\u001b[0m\n",
      "256 labels saved to runs/detect/predict2/labels\n",
      "5.09754204750061\n",
      "7.521021127700806\n",
      "256\n",
      "Results saved to \u001b[1mruns/detect/predict2\u001b[0m\n",
      "256 labels saved to runs/detect/predict2/labels\n",
      "5.181340456008911\n",
      "7.5280115604400635\n",
      "256\n",
      "Results saved to \u001b[1mruns/detect/predict2\u001b[0m\n",
      "256 labels saved to runs/detect/predict2/labels\n",
      "5.626660585403442\n",
      "7.910891532897949\n",
      "256\n",
      "Results saved to \u001b[1mruns/detect/predict2\u001b[0m\n",
      "256 labels saved to runs/detect/predict2/labels\n",
      "5.261569499969482\n",
      "7.978748321533203\n",
      "256\n",
      "Results saved to \u001b[1mruns/detect/predict2\u001b[0m\n",
      "256 labels saved to runs/detect/predict2/labels\n",
      "5.793575048446655\n",
      "8.147130489349365\n",
      "256\n",
      "Results saved to \u001b[1mruns/detect/predict2\u001b[0m\n",
      "256 labels saved to runs/detect/predict2/labels\n",
      "5.401302337646484\n",
      "7.952640533447266\n",
      "256\n",
      "Results saved to \u001b[1mruns/detect/predict2\u001b[0m\n",
      "256 labels saved to runs/detect/predict2/labels\n",
      "5.165528059005737\n",
      "7.48078989982605\n",
      "256\n",
      "Results saved to \u001b[1mruns/detect/predict2\u001b[0m\n",
      "256 labels saved to runs/detect/predict2/labels\n",
      "5.216103792190552\n",
      "7.904866933822632\n",
      "256\n",
      "Results saved to \u001b[1mruns/detect/predict2\u001b[0m\n",
      "256 labels saved to runs/detect/predict2/labels\n",
      "5.418936252593994\n",
      "7.8709070682525635\n",
      "256\n",
      "Results saved to \u001b[1mruns/detect/predict2\u001b[0m\n",
      "256 labels saved to runs/detect/predict2/labels\n",
      "5.207002401351929\n",
      "7.453962564468384\n",
      "256\n",
      "Results saved to \u001b[1mruns/detect/predict2\u001b[0m\n",
      "256 labels saved to runs/detect/predict2/labels\n",
      "5.157695770263672\n",
      "7.639243125915527\n",
      "256\n",
      "Results saved to \u001b[1mruns/detect/predict2\u001b[0m\n",
      "256 labels saved to runs/detect/predict2/labels\n",
      "6.65949559211731\n",
      "8.873522281646729\n",
      "256\n",
      "Results saved to \u001b[1mruns/detect/predict2\u001b[0m\n",
      "256 labels saved to runs/detect/predict2/labels\n",
      "7.300576210021973\n",
      "9.592538595199585\n",
      "256\n",
      "Results saved to \u001b[1mruns/detect/predict2\u001b[0m\n",
      "256 labels saved to runs/detect/predict2/labels\n",
      "5.137377500534058\n",
      "7.379796504974365\n",
      "256\n",
      "Results saved to \u001b[1mruns/detect/predict2\u001b[0m\n",
      "256 labels saved to runs/detect/predict2/labels\n",
      "6.21112322807312\n",
      "8.434495449066162\n",
      "256\n",
      "Results saved to \u001b[1mruns/detect/predict2\u001b[0m\n",
      "256 labels saved to runs/detect/predict2/labels\n",
      "5.155925512313843\n",
      "7.466293811798096\n",
      "256\n",
      "Results saved to \u001b[1mruns/detect/predict2\u001b[0m\n",
      "256 labels saved to runs/detect/predict2/labels\n",
      "5.921365976333618\n",
      "8.038320541381836\n",
      "256\n",
      "Results saved to \u001b[1mruns/detect/predict2\u001b[0m\n",
      "256 labels saved to runs/detect/predict2/labels\n",
      "5.158801794052124\n",
      "7.611685276031494\n",
      "256\n",
      "Results saved to \u001b[1mruns/detect/predict2\u001b[0m\n",
      "256 labels saved to runs/detect/predict2/labels\n",
      "5.3753440380096436\n",
      "7.608717918395996\n",
      "256\n",
      "Results saved to \u001b[1mruns/detect/predict2\u001b[0m\n",
      "256 labels saved to runs/detect/predict2/labels\n",
      "5.166160583496094\n",
      "8.183825969696045\n",
      "256\n",
      "Results saved to \u001b[1mruns/detect/predict2\u001b[0m\n",
      "256 labels saved to runs/detect/predict2/labels\n",
      "5.552485466003418\n",
      "7.945832252502441\n",
      "256\n"
     ]
    }
   ],
   "source": [
    "path = \"/home/rishabh.mondal/bkdb/statewise/RAJASTHAN\"\n",
    "zarr_files = glob(os.path.join(path, \"*.zarr\"))\n",
    "print(len(zarr_files))\n",
    "\n",
    "class CustomDataset(Dataset):\n",
    "    def __init__(self, zarr_files):\n",
    "        self.zarr_files = zarr_files\n",
    "\n",
    "    def __len__(self):\n",
    "        return len(self.zarr_files)\n",
    "\n",
    "    def __getitem__(self, idx):\n",
    "        with xr.open_zarr(self.zarr_files[idx], consolidated=False) as ds:\n",
    "            pass\n",
    "        val = ds['data'].values\n",
    "        val = rearrange(val, 'row_lag col_lag row col channel -> (row_lag row) (col_lag col) channel')\n",
    "        return Image.fromarray(val)\n",
    "        # return torch.tensor(val) / 255.0\n",
    "        \n",
    "\n",
    "# data = CustomDataset(zarr_files[:512])\n",
    "# loader = DataLoader(data, batch_size=64, shuffle=False, num_workers=8, collate_fn=lambda x: x)\n",
    "\n",
    "# for batch in tqdm(loader):\n",
    "#     model.predict(source=batch, conf=0.25,imgsz=1120,device='2', save_txt=True,save= False,save_conf=False,save_crop=False,verbose=False)\n",
    "\n",
    "def process(file):\n",
    "    with xr.open_zarr(file, consolidated=False) as ds:\n",
    "        pass\n",
    "    val = ds['data'].values\n",
    "    val = rearrange(val, 'row_lag col_lag row col channel -> (row_lag row) (col_lag col) channel')\n",
    "    return Image.fromarray(val)\n",
    "\n",
    "init = time()\n",
    "\n",
    "for i in tqdm(range(0, len(zarr_files), 256)):\n",
    "    tmp_files = zarr_files[i:i+256]\n",
    "    \n",
    "    images = []\n",
    "    for i in range(0, len(tmp_files), 48):    \n",
    "        images.extend(Parallel(n_jobs=48)(delayed(process)(file) for file in tmp_files[i:i+48]))\n",
    "    print(time() - init)\n",
    "    print(len(images))\n",
    "    init = time()\n",
    "    model.predict(source=images, conf=0.25,imgsz=1120,device='2', save_txt=True,save= False,save_conf=True,save_crop=True,verbose=False)\n",
    "    print(time() - init)\n",
    "# results_pred = model.predict(source='/home/rishabh.mondal/Brick-Kilns-project/albk_rishabh/YOLO_DATA/negetiveclass', conf=0.25,imgsz=1120,device='2', save_txt=True,save= False,save_conf=False,save_crop=False,verbose=False)"
   ]
  },
  {
   "cell_type": "code",
   "execution_count": 8,
   "metadata": {},
   "outputs": [
    {
     "name": "stdout",
     "output_type": "stream",
     "text": [
      "(1120, 1120, 3)\n"
     ]
    }
   ],
   "source": [
    "from PIL import Image\n",
    "img=Image.open('/home/rishabh.mondal/Brick-Kilns-project/albk_rishabh/albk_v2/YOLO_LOCALIZATION/runs/detect/predict2/28.96,77.41.png')\n",
    "import numpy as np\n",
    "img = np.array(img) \n",
    "print(img.shape)"
   ]
  },
  {
   "cell_type": "code",
   "execution_count": null,
   "metadata": {},
   "outputs": [
    {
     "name": "stdout",
     "output_type": "stream",
     "text": [
      "27\n"
     ]
    }
   ],
   "source": [
    "#print the number of different instances detected   0: \"ZIZZAG\" 1: \"FCK\"\n",
    "total_intences = 0\n",
    "predicted_instances = []\n",
    "for result in results_pred:\n",
    "    # print(len(result))\n",
    "    total_intences += len(result)\n",
    "    predicted_instances.append(result)\n",
    "\n",
    "# for result in results:\n",
    "print(total_intences)\n",
    "# results_pred[1]\n",
    "# results_pred"
   ]
  },
  {
   "cell_type": "code",
   "execution_count": null,
   "metadata": {},
   "outputs": [],
   "source": [
    "import os\n",
    "from PIL import Image\n",
    "\n",
    "# Directory to save the images\n",
    "save_dir = 'saved_images'\n",
    "\n",
    "# Create the directory if it doesn't exist\n",
    "os.makedirs(save_dir, exist_ok=True)\n",
    "\n",
    "# Class value to filter\n",
    "class_value = 'zigzag'\n",
    "\n",
    "# Iterate over the results_pred list\n",
    "for result in results_pred:\n",
    "    # Check if the class value is present in the names attribute\n",
    "    if class_value in result.names.values():\n",
    "        # Get the original image\n",
    "        image = Image.fromarray(result.orig_img)\n",
    "\n",
    "        # Generate a unique filename\n",
    "        filename = f\"{class_value}_{result.image_id}.jpg\"\n",
    "\n",
    "        # Save the image\n",
    "        image.save(os.path.join(save_dir, filename))\n"
   ]
  },
  {
   "cell_type": "code",
   "execution_count": 9,
   "metadata": {},
   "outputs": [
    {
     "ename": "TypeError",
     "evalue": "'DetMetrics' object is not iterable",
     "output_type": "error",
     "traceback": [
      "\u001b[0;31m---------------------------------------------------------------------------\u001b[0m",
      "\u001b[0;31mTypeError\u001b[0m                                 Traceback (most recent call last)",
      "Cell \u001b[0;32mIn[9], line 4\u001b[0m\n\u001b[1;32m      2\u001b[0m total_intences \u001b[38;5;241m=\u001b[39m \u001b[38;5;241m0\u001b[39m\n\u001b[1;32m      3\u001b[0m predicted_instances \u001b[38;5;241m=\u001b[39m []\n\u001b[0;32m----> 4\u001b[0m \u001b[38;5;28;43;01mfor\u001b[39;49;00m\u001b[43m \u001b[49m\u001b[43mresult\u001b[49m\u001b[43m \u001b[49m\u001b[38;5;129;43;01min\u001b[39;49;00m\u001b[43m \u001b[49m\u001b[43mresults\u001b[49m\u001b[43m:\u001b[49m\n\u001b[1;32m      5\u001b[0m \u001b[43m    \u001b[49m\u001b[43mtotal_intences\u001b[49m\u001b[43m \u001b[49m\u001b[38;5;241;43m+\u001b[39;49m\u001b[38;5;241;43m=\u001b[39;49m\u001b[43m \u001b[49m\u001b[38;5;28;43mlen\u001b[39;49m\u001b[43m(\u001b[49m\u001b[43mresult\u001b[49m\u001b[43m)\u001b[49m\n\u001b[1;32m      6\u001b[0m \u001b[43m    \u001b[49m\u001b[43mpredicted_instances\u001b[49m\u001b[38;5;241;43m.\u001b[39;49m\u001b[43mappend\u001b[49m\u001b[43m(\u001b[49m\u001b[43mresult\u001b[49m\u001b[43m)\u001b[49m\n",
      "\u001b[0;31mTypeError\u001b[0m: 'DetMetrics' object is not iterable"
     ]
    }
   ],
   "source": [
    "#count the total number of instances\n",
    "total_intences = 0\n",
    "predicted_instances = []\n",
    "for result in results:\n",
    "    total_intences += len(result)\n",
    "    predicted_instances.append(result)\n",
    "print(total_intences)"
   ]
  },
  {
   "cell_type": "code",
   "execution_count": null,
   "metadata": {},
   "outputs": [],
   "source": [
    "\n",
    "import glob\n",
    "from IPython.display import Image, display\n",
    "\n",
    "for image_path in glob.glob('runs/detect/predict5/*.jpg')[:3]:\n",
    "      display(Image(filename=image_path, width=600))\n",
    "      print(\"\\n\")\n",
    "     "
   ]
  },
  {
   "cell_type": "code",
   "execution_count": null,
   "metadata": {},
   "outputs": [],
   "source": []
  }
 ],
 "metadata": {
  "kernelspec": {
   "display_name": "torch_space",
   "language": "python",
   "name": "python3"
  },
  "language_info": {
   "codemirror_mode": {
    "name": "ipython",
    "version": 3
   },
   "file_extension": ".py",
   "mimetype": "text/x-python",
   "name": "python",
   "nbconvert_exporter": "python",
   "pygments_lexer": "ipython3",
   "version": "3.11.5"
  }
 },
 "nbformat": 4,
 "nbformat_minor": 2
}
