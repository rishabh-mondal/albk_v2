{
 "cells": [
  {
   "cell_type": "code",
   "execution_count": 1,
   "metadata": {},
   "outputs": [],
   "source": [
    "import os\n",
    "os.environ[\"CUDA_VISIBLE_DEVICES\"] = \"2\"\n",
    "from datasets import load_dataset\n",
    "from glob import glob\n",
    "import torch\n",
    "from torch.utils.data import DataLoader, Dataset\n",
    "import xarray as xr\n",
    "from einops import rearrange\n",
    "from tqdm.notebook import tqdm\n",
    "from joblib import Parallel, delayed\n",
    "from PIL import Image\n",
    "from time import time\n",
    "import matplotlib.pyplot as plt\n"
   ]
  },
  {
   "cell_type": "code",
   "execution_count": 2,
   "metadata": {},
   "outputs": [],
   "source": [
    "from ultralytics import YOLO\n",
    "# Load a model\n",
    "model = YOLO('yolov8m.pt')"
   ]
  },
  {
   "cell_type": "code",
   "execution_count": 11,
   "metadata": {},
   "outputs": [],
   "source": [
    "model = YOLO('/home/rishabh.mondal/Brick-Kilns-project/albk_rishabh/albk_v2/YOLO_LOCALIZATION/runs/detect/train6/weights/best.pt')\n"
   ]
  },
  {
   "cell_type": "code",
   "execution_count": 12,
   "metadata": {},
   "outputs": [
    {
     "name": "stdout",
     "output_type": "stream",
     "text": [
      "['/home/rishabh.mondal/bkdb/statewise/RAJASTHAN', '/home/rishabh.mondal/bkdb/statewise/TELANGANA', '/home/rishabh.mondal/bkdb/statewise/westbengal', '/home/rishabh.mondal/bkdb/statewise/up', '/home/rishabh.mondal/bkdb/statewise/CHHATTISGARH', '/home/rishabh.mondal/bkdb/statewise/MAHARASHTRA', '/home/rishabh.mondal/bkdb/statewise/MADHYA_PRADESH', '/home/rishabh.mondal/bkdb/statewise/GUJARAT', '/home/rishabh.mondal/bkdb/statewise/CHANDIGARH', '/home/rishabh.mondal/bkdb/statewise/sarath_data1', '/home/rishabh.mondal/bkdb/statewise/ASSAM', '/home/rishabh.mondal/bkdb/statewise/jharkhand', '/home/rishabh.mondal/bkdb/statewise/HIMACHAL PRADESH', '/home/rishabh.mondal/bkdb/statewise/UTTARAKHAND', '/home/rishabh.mondal/bkdb/statewise/odisha']\n"
     ]
    }
   ],
   "source": [
    "dir=\"/home/rishabh.mondal/bkdb/statewise\"\n",
    "files=glob(dir+\"/*\")\n",
    "print(files)"
   ]
  },
  {
   "cell_type": "code",
   "execution_count": 13,
   "metadata": {},
   "outputs": [],
   "source": [
    "# import glob\n",
    "# from tqdm.notebook import tqdm as tqdm_notebook\n",
    "\n",
    "# images_path = \"/home/rishabh.mondal/bkdb/lucknow_grid_data/\"\n",
    "\n",
    "# def zarr_to_png(zarr_file, temp_dir):\n",
    "#     img = xr.open_zarr(zarr_file, consolidated=False)\n",
    "#     data = img['data'].values\n",
    "#     data = rearrange(data, \"row col high width channel -> (row high) (col width) channel\")\n",
    "    \n",
    "#     # Create the directory if it doesn't exist\n",
    "    \n",
    "#     # Save the data to a temporary file in .png format\n",
    "#     png_path = os.path.join(temp_dir, os.path.basename(zarr_file).replace('.zarr', '.png'))\n",
    "#     plt.imsave(png_path, data)\n",
    "    \n",
    "#     return png_path\n",
    "\n",
    "# def delete_temp_files(temp_dir):\n",
    "#     # Delete all temporary PNG files in the directory\n",
    "#     png_files = glob.glob(os.path.join(temp_dir, '*.png'))\n",
    "#     for file in png_files:\n",
    "#         os.remove(file)\n",
    "\n",
    "\n",
    "\n",
    "# temp_dir = \"/home/rishabh.mondal/Brick-Kilns-project/albk_rishabh/YOLO_DATA/lucknow/\"\n",
    "# os.makedirs(temp_dir, exist_ok=True)\n",
    "\n",
    "# # temp_dir=\"/tmp/tmpqh68s1uy/\"\n",
    "\n",
    "# zarr_files = glob.glob(images_path + \"*.zarr\")\n",
    "\n",
    "# # # # Parallelize the zarr to png conversion\n",
    "# Parallel(n_jobs=42)(delayed(zarr_to_png)(zarr_file, temp_dir) for zarr_file in tqdm_notebook(zarr_files, desc=\"Converting to PNG\"))\n",
    "# # # print(png_files)\n",
    "\n"
   ]
  },
  {
   "cell_type": "code",
   "execution_count": 14,
   "metadata": {},
   "outputs": [],
   "source": [
    "# import joblib\n",
    "# temp_dir = \"/home/rishabh.mondal/Brick-Kilns-project/albk_rishabh/YOLO_DATA/up/\"\n",
    "# # Read first 100 images\n",
    "# temp_dir = glob.glob(temp_dir + \"*.png\")\n",
    "# temp_dir = temp_dir[:50000]\n",
    "# print(len(temp_dir))\n",
    "# temp_dir1 = \"/home/rishabh.mondal/Brick-Kilns-project/albk_rishabh/YOLO_DATA/up_50000/\"\n",
    "# os.makedirs(temp_dir1, exist_ok=True)\n",
    "\n",
    "# def process_image(image_path):\n",
    "#     img = Image.open(image_path)\n",
    "#     new_path = os.path.join(temp_dir1, os.path.basename(image_path))\n",
    "#     img.save(new_path)\n",
    "#     os.remove(image_path)\n",
    "\n",
    "# # Process images using joblib\n",
    "# joblib.Parallel(n_jobs=42)(joblib.delayed(process_image)(image_path) for image_path in temp_dir)\n"
   ]
  },
  {
   "cell_type": "code",
   "execution_count": 15,
   "metadata": {},
   "outputs": [],
   "source": [
    "path=\"/home/rishabh.mondal/Brick-Kilns-project/albk_rishabh/15_kilns.png\""
   ]
  },
  {
   "cell_type": "code",
   "execution_count": 16,
   "metadata": {},
   "outputs": [
    {
     "name": "stdout",
     "output_type": "stream",
     "text": [
      "\n",
      "image 1/1 /home/rishabh.mondal/Brick-Kilns-project/albk_rishabh/15_kilns.png: 1120x1120 11 zigzags, 6 fcbks, 8.6ms\n",
      "Speed: 4.8ms preprocess, 8.6ms inference, 1.3ms postprocess per image at shape (1, 3, 1120, 1120)\n",
      "Results saved to \u001b[1mruns/detect/predict3\u001b[0m\n",
      "1 label saved to runs/detect/predict3/labels\n"
     ]
    },
    {
     "data": {
      "text/plain": [
       "[ultralytics.engine.results.Results object with attributes:\n",
       " \n",
       " boxes: ultralytics.engine.results.Boxes object\n",
       " keypoints: None\n",
       " masks: None\n",
       " names: {0: 'zigzag', 1: 'fcbk'}\n",
       " obb: None\n",
       " orig_img: array([[[ 57,  58,  57],\n",
       "         [ 34,  34,  33],\n",
       "         [ 16,  11,  10],\n",
       "         ...,\n",
       "         [ 83,  94,  88],\n",
       "         [ 78,  89,  86],\n",
       "         [255, 255, 255]],\n",
       " \n",
       "        [[ 27,  25,  23],\n",
       "         [ 23,  23,  19],\n",
       "         [  5,   3,   3],\n",
       "         ...,\n",
       "         [ 91,  89,  91],\n",
       "         [ 88,  91,  89],\n",
       "         [255, 255, 255]],\n",
       " \n",
       "        [[ 16,  12,  10],\n",
       "         [ 24,  21,  17],\n",
       "         [ 28,  28,  26],\n",
       "         ...,\n",
       "         [ 89,  88,  90],\n",
       "         [ 80,  85,  85],\n",
       "         [255, 255, 255]],\n",
       " \n",
       "        ...,\n",
       " \n",
       "        [[ 48,  72,  28],\n",
       "         [ 43,  64,  19],\n",
       "         [ 33,  55,  10],\n",
       "         ...,\n",
       "         [ 46,  62,  38],\n",
       "         [ 49,  65,  41],\n",
       "         [255, 255, 255]],\n",
       " \n",
       "        [[ 54,  75,  31],\n",
       "         [ 45,  65,  21],\n",
       "         [ 38,  60,  14],\n",
       "         ...,\n",
       "         [ 45,  61,  37],\n",
       "         [ 45,  61,  38],\n",
       "         [255, 255, 255]],\n",
       " \n",
       "        [[ 52,  72,  28],\n",
       "         [ 42,  63,  18],\n",
       "         [ 37,  59,  13],\n",
       "         ...,\n",
       "         [ 48,  64,  40],\n",
       "         [ 38,  54,  37],\n",
       "         [255, 255, 255]]], dtype=uint8)\n",
       " orig_shape: (769, 770)\n",
       " path: '/home/rishabh.mondal/Brick-Kilns-project/albk_rishabh/15_kilns.png'\n",
       " probs: None\n",
       " save_dir: 'runs/detect/predict3'\n",
       " speed: {'preprocess': 4.777669906616211, 'inference': 8.636474609375, 'postprocess': 1.3451576232910156}]"
      ]
     },
     "execution_count": 16,
     "metadata": {},
     "output_type": "execute_result"
    }
   ],
   "source": [
    "model.predict(source=path, conf=0.25, imgsz=1120, device='2', save_txt=True, save=True, save_conf=True, save_crop=True, verbose=True)\n"
   ]
  },
  {
   "cell_type": "code",
   "execution_count": 12,
   "metadata": {},
   "outputs": [
    {
     "name": "stdout",
     "output_type": "stream",
     "text": [
      "['/home/rishabh.mondal/Brick-Kilns-project/albk_rishabh/YOLO_DATA/up/27.65,78.20.png', '/home/rishabh.mondal/Brick-Kilns-project/albk_rishabh/YOLO_DATA/up/27.65,78.24.png', '/home/rishabh.mondal/Brick-Kilns-project/albk_rishabh/YOLO_DATA/up/27.65,78.25.png']\n"
     ]
    }
   ],
   "source": [
    "import glob\n",
    "from tqdm.notebook import tqdm as tqdm_notebook\n",
    "path=\"/home/rishabh.mondal/Brick-Kilns-project/albk_rishabh/YOLO_DATA/up/\"\n",
    "ll= glob.glob(path + \"*.png\")\n",
    "ll=sorted(ll)\n",
    "ll=ll[72378:72381]\n",
    "print(ll)\n",
    "# temp_dir = temp_dir[:50000]"
   ]
  },
  {
   "cell_type": "code",
   "execution_count": 6,
   "metadata": {},
   "outputs": [],
   "source": [
    "import shutil\n",
    "\n",
    "# # remove the directory and its contents\n",
    "# shutil.rmtree(temp_dir)\n",
    "\n",
    "def delete_temp_files(temp_dir):\n",
    "    # Delete all files in the directory\n",
    "    for filename in os.listdir(temp_dir):\n",
    "        file_path = os.path.join(temp_dir, filename)\n",
    "        if os.path.isfile(file_path) or os.path.islink(file_path):\n",
    "            os.unlink(file_path)\n",
    "        elif os.path.isdir(file_path):\n",
    "            shutil.rmtree(file_path)\n"
   ]
  },
  {
   "cell_type": "code",
   "execution_count": 7,
   "metadata": {},
   "outputs": [
    {
     "data": {
      "text/plain": [
       "134720"
      ]
     },
     "execution_count": 7,
     "metadata": {},
     "output_type": "execute_result"
    }
   ],
   "source": [
    "l=os.listdir(temp_dir)\n",
    "len(l)\n"
   ]
  },
  {
   "cell_type": "code",
   "execution_count": null,
   "metadata": {},
   "outputs": [],
   "source": []
  }
 ],
 "metadata": {
  "kernelspec": {
   "display_name": "torch_space",
   "language": "python",
   "name": "python3"
  },
  "language_info": {
   "codemirror_mode": {
    "name": "ipython",
    "version": 3
   },
   "file_extension": ".py",
   "mimetype": "text/x-python",
   "name": "python",
   "nbconvert_exporter": "python",
   "pygments_lexer": "ipython3",
   "version": "3.11.5"
  }
 },
 "nbformat": 4,
 "nbformat_minor": 2
}
