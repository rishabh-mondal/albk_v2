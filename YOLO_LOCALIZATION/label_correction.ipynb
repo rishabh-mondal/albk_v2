{
 "cells": [
  {
   "cell_type": "code",
   "execution_count": null,
   "metadata": {},
   "outputs": [],
   "source": [
    "import os\n",
    "from os.path import join\n",
    "import numpy as np\n",
    "import pandas as pd\n",
    "import matplotlib.pyplot as plt\n",
    "import xarray as xr\n",
    "from glob import glob\n",
    "import shutil\n",
    "from tqdm.notebook import tqdm"
   ]
  },
  {
   "cell_type": "code",
   "execution_count": null,
   "metadata": {},
   "outputs": [],
   "source": [
    "state = \"punjab\"\n",
    "\n",
    "txt_path = f\"/home/rishabh.mondal/Brick-Kilns-project/albk_rishabh/albk_v2/yolo_tp/{state}_tp/unprocessed_labels\"\n",
    "fcbk_path = f\"/home/rishabh.mondal/Brick-Kilns-project/albk_rishabh/albk_v2/yolo_tp/{state}_tp/fcbk_tp_unprocessed\"\n",
    "zigzag_path = f\"/home/rishabh.mondal/Brick-Kilns-project/albk_rishabh/albk_v2/yolo_tp/{state}_tp/zigzag_tp_unprocessed\"\n",
    "new_txt_path = \"/tmp/corrected_txt\"\n",
    "\n",
    "def process_image(path, class_name):\n",
    "    file_name = path.split(\"/\")[-1].rsplit(\".\", 1)[0]\n",
    "    \n",
    "    lat, lon = file_name.split(\",\")\n",
    "    lon_precision = lon.split(\".\")[1]\n",
    "    if len(lon_precision) == 2:\n",
    "        txt_file_name = file_name\n",
    "        line_number = 0\n",
    "    elif len(lon_precision) == 3:\n",
    "        txt_file_name = file_name[:-1]\n",
    "        line_number = int(lon_precision[-1]) - 1\n",
    "    else:\n",
    "        raise ValueError(\"Invalid longitude precision\")\n",
    "    \n",
    "    with open(join(txt_path, f\"{txt_file_name}.txt\"), \"r\") as f:\n",
    "        lines = f.readlines()\n",
    "        \n",
    "    line_of_focus = lines[line_number]\n",
    "    elements = line_of_focus.split()\n",
    "    elements_no_conf = elements[:-1]\n",
    "    \n",
    "    # process\n",
    "    if class_name == \"zigzag\":\n",
    "        elements_no_conf[0] = \"0\"\n",
    "    elif class_name == \"fcbk\":\n",
    "        elements_no_conf[0] = \"1\"\n",
    "    else:\n",
    "        raise ValueError(\"Invalid class name\")\n",
    "    \n",
    "    new_line = \" \".join(elements_no_conf)\n",
    "        \n",
    "    with open(join(save_dir, f\"{txt_file_name}.txt\"), \"a\") as f:\n",
    "        print(new_line, file=f)    \n",
    "\n",
    "txt_files = glob(join(txt_path, \"*.txt\"))\n",
    "image_files = {\"fcbk\": glob(join(fcbk_path, \"*.jpg\")), \"zigzag\": glob(join(zigzag_path, \"*.jpg\"))}\n",
    "save_dir = join(new_txt_path, state)\n",
    "shutil.rmtree(save_dir, ignore_errors=True)\n",
    "os.makedirs(save_dir)\n",
    "\n",
    "for class_name in image_files:\n",
    "    class_image_files = image_files[class_name]\n",
    "    for path in tqdm(class_image_files):\n",
    "        process_image(path, class_name)\n",
    "    "
   ]
  }
 ],
 "metadata": {
  "language_info": {
   "name": "python"
  }
 },
 "nbformat": 4,
 "nbformat_minor": 2
}
